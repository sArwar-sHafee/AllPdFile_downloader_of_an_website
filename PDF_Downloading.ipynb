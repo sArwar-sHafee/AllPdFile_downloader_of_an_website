{
  "nbformat": 4,
  "nbformat_minor": 0,
  "metadata": {
    "colab": {
      "provenance": []
    },
    "kernelspec": {
      "name": "python3",
      "display_name": "Python 3"
    },
    "language_info": {
      "name": "python"
    }
  },
  "cells": [
    {
      "cell_type": "code",
      "source": [
        "!pip install python-docx"
      ],
      "metadata": {
        "colab": {
          "base_uri": "https://localhost:8080/"
        },
        "id": "y441gpqO0tNM",
        "outputId": "a7755ca9-a338-448d-c96b-bdbae71274dc"
      },
      "execution_count": null,
      "outputs": [
        {
          "output_type": "stream",
          "name": "stdout",
          "text": [
            "Looking in indexes: https://pypi.org/simple, https://us-python.pkg.dev/colab-wheels/public/simple/\n",
            "Collecting python-docx\n",
            "  Downloading python-docx-0.8.11.tar.gz (5.6 MB)\n",
            "\u001b[2K     \u001b[90m━━━━━━━━━━━━━━━━━━━━━━━━━━━━━━━━━━━━━━━━\u001b[0m \u001b[32m5.6/5.6 MB\u001b[0m \u001b[31m66.0 MB/s\u001b[0m eta \u001b[36m0:00:00\u001b[0m\n",
            "\u001b[?25h  Preparing metadata (setup.py) ... \u001b[?25l\u001b[?25hdone\n",
            "Requirement already satisfied: lxml>=2.3.2 in /usr/local/lib/python3.10/dist-packages (from python-docx) (4.9.2)\n",
            "Building wheels for collected packages: python-docx\n",
            "  Building wheel for python-docx (setup.py) ... \u001b[?25l\u001b[?25hdone\n",
            "  Created wheel for python-docx: filename=python_docx-0.8.11-py3-none-any.whl size=184491 sha256=3d610f2b84e460ee48890484938d2c89810b809c2bec426d04299699f7256105\n",
            "  Stored in directory: /root/.cache/pip/wheels/80/27/06/837436d4c3bd989b957a91679966f207bfd71d358d63a8194d\n",
            "Successfully built python-docx\n",
            "Installing collected packages: python-docx\n",
            "Successfully installed python-docx-0.8.11\n"
          ]
        }
      ]
    },
    {
      "cell_type": "code",
      "source": [
        "import requests\n",
        "from bs4 import BeautifulSoup\n",
        "from docx import Document\n"
      ],
      "metadata": {
        "id": "jZtVTo9s0n_z"
      },
      "execution_count": null,
      "outputs": []
    },
    {
      "cell_type": "code",
      "source": [
        "import urllib.parse\n",
        "\n",
        "# URL of the webpage you want to scrape PDF files from\n",
        "url = \"http://old.dls.gov.bd/e_Livestock/Gobadi_Pashur_rog.php\"\n",
        "#url = \"https://bangladesh.gov.bd/index.php\"\n",
        "\n",
        "# Send a GET request to the webpage\n",
        "response = requests.get(url)\n",
        "\n",
        "# Create a BeautifulSoup object to parse the HTML content\n",
        "soup = BeautifulSoup(response.content, \"html.parser\")\n",
        "\n",
        "# Find all the <a> tags in the HTML that have a href attribute\n",
        "a_tags = soup.find_all(\"a\", href=True)\n",
        "\n",
        "# Iterate over the <a> tags and download the PDF files\n",
        "for a_tag in a_tags:\n",
        "    href = a_tag[\"href\"]\n",
        "    if href.endswith(\".pdf\"):\n",
        "        # Construct the absolute URL of the PDF file\n",
        "        pdf_url = urllib.parse.urljoin(url, href)\n",
        "\n",
        "        # Send a GET request to the PDF URL\n",
        "        pdf_response = requests.get(pdf_url)\n",
        "\n",
        "        # Specify the output file path for the PDF file\n",
        "        output_path = href.split(\"/\")[-1]\n",
        "\n",
        "        # Save the PDF file\n",
        "        with open(output_path, \"wb\") as file:\n",
        "            file.write(pdf_response.content)\n",
        "\n",
        "        print(f\"PDF file '{output_path}' downloaded successfully!\")"
      ],
      "metadata": {
        "colab": {
          "base_uri": "https://localhost:8080/"
        },
        "id": "AG6MLLhi1hwO",
        "outputId": "7b40b6b0-0f0f-41ad-d79c-7511b0ee939a"
      },
      "execution_count": null,
      "outputs": [
        {
          "output_type": "stream",
          "name": "stdout",
          "text": [
            "PDF file 'manual_Livestock.pdf' downloaded successfully!\n"
          ]
        }
      ]
    },
    {
      "cell_type": "code",
      "source": [
        "import os\n",
        "from tqdm import tqdm\n",
        "import time\n",
        "\n",
        "# URL of the webpage you want to scrape PDF files from\n",
        "url = \"https://bangladesh.gov.bd/index.php\"\n",
        "\n",
        "# Create a directory to store the downloaded PDF files\n",
        "download_dir = \"pdf_files\"\n",
        "os.makedirs(download_dir, exist_ok=True)\n",
        "\n",
        "# Function to download PDF files from a given URL\n",
        "def download_pdf(url):\n",
        "    try:\n",
        "        # Send a GET request to the URL\n",
        "        response = requests.get(url)\n",
        "        response.raise_for_status()\n",
        "\n",
        "        # Create a BeautifulSoup object to parse the HTML content\n",
        "        soup = BeautifulSoup(response.content, \"html.parser\")\n",
        "\n",
        "        # Find all the <a> tags in the HTML that have a href attribute\n",
        "        a_tags = soup.find_all(\"a\", href=True)\n",
        "\n",
        "        # Iterate over the <a> tags and download the PDF files\n",
        "        for a_tag in tqdm(a_tags, desc=\"Downloading PDF files\"):\n",
        "            href = a_tag[\"href\"]\n",
        "            if href.endswith(\".pdf\"):\n",
        "                # Construct the absolute URL of the PDF file\n",
        "                pdf_url = urllib.parse.urljoin(url, href)\n",
        "\n",
        "                # Specify the output file path for the PDF file\n",
        "                output_path = os.path.join(download_dir, href.split(\"/\")[-1])\n",
        "\n",
        "                # Check if the file already exists\n",
        "                if os.path.exists(output_path):\n",
        "                    print(f\"PDF file '{output_path}' already exists. Skipping download.\")\n",
        "                    continue\n",
        "\n",
        "                # Retry logic for connection errors\n",
        "                max_retries = 3\n",
        "                retries = 0\n",
        "                while retries < max_retries:\n",
        "                    try:\n",
        "                        # Send a GET request to the PDF URL\n",
        "                        pdf_response = requests.get(pdf_url)\n",
        "                        pdf_response.raise_for_status()\n",
        "\n",
        "                        # Save the PDF file\n",
        "                        with open(output_path, \"wb\") as file:\n",
        "                            file.write(pdf_response.content)\n",
        "\n",
        "                        print(f\"PDF file '{output_path}' downloaded successfully!\")\n",
        "                        break  # Break out of the retry loop if successful\n",
        "\n",
        "                    except requests.exceptions.RequestException as e:\n",
        "                        print(f\"Error downloading PDF file: {e}\")\n",
        "                        retries += 1\n",
        "                        print(f\"Retrying ({retries}/{max_retries})...\")\n",
        "                        time.sleep(5)  # Wait for 5 seconds before retrying\n",
        "\n",
        "                    except ConnectionResetError as e:\n",
        "                        print(f\"Connection reset by peer. Retrying ({retries}/{max_retries})...\")\n",
        "                        retries += 1\n",
        "                        time.sleep(5)  # Wait for 5 seconds before retrying\n",
        "\n",
        "    except requests.exceptions.RequestException as e:\n",
        "        print(f\"Error accessing URL: {e}\")\n",
        "\n",
        "# Send a GET request to the webpage\n",
        "response = requests.get(url)\n",
        "response.raise_for_status()\n",
        "\n",
        "# Create a BeautifulSoup object to parse the HTML content\n",
        "soup = BeautifulSoup(response.content, \"html.parser\")\n",
        "\n",
        "# Find all the <a> tags in the HTML that have a href attribute\n",
        "a_tags = soup.find_all(\"a\", href=True)\n",
        "\n",
        "# Iterate over the <a> tags and visit each link\n",
        "for a_tag in a_tags:\n",
        "    href = a_tag[\"href\"]\n",
        "    if href.startswith(\"http\"):\n",
        "        # Construct the absolute URL of the link\n",
        "        link_url = urllib.parse.urljoin(url, href)\n",
        "        download_pdf(link_url)\n"
      ],
      "metadata": {
        "colab": {
          "base_uri": "https://localhost:8080/"
        },
        "id": "VfiIyk46_5Ui",
        "outputId": "25e89508-2c25-44ba-c8d8-efad95be898b"
      },
      "execution_count": null,
      "outputs": [
        {
          "output_type": "stream",
          "name": "stderr",
          "text": [
            "Downloading PDF files: 0it [00:00, ?it/s]\n",
            "Downloading PDF files: 100%|██████████| 133/133 [00:00<00:00, 49923.25it/s]\n",
            "Downloading PDF files: 0it [00:00, ?it/s]\n",
            "Downloading PDF files: 100%|██████████| 6/6 [00:00<00:00, 9258.95it/s]\n",
            "Downloading PDF files: 100%|██████████| 15/15 [00:00<00:00, 117817.53it/s]\n",
            "Downloading PDF files: 100%|██████████| 6/6 [00:00<00:00, 54236.69it/s]\n",
            "Downloading PDF files: 100%|██████████| 114/114 [00:00<00:00, 435077.94it/s]\n"
          ]
        },
        {
          "output_type": "stream",
          "name": "stdout",
          "text": [
            "Error accessing URL: ('Connection aborted.', ConnectionResetError(104, 'Connection reset by peer'))\n"
          ]
        },
        {
          "output_type": "stream",
          "name": "stderr",
          "text": [
            "Downloading PDF files: 100%|██████████| 167/167 [00:00<00:00, 344709.04it/s]\n"
          ]
        },
        {
          "output_type": "stream",
          "name": "stdout",
          "text": [
            "PDF file 'pdf_files/710.pdf' already exists. Skipping download.\n"
          ]
        },
        {
          "output_type": "stream",
          "name": "stderr",
          "text": [
            "Downloading PDF files: 100%|██████████| 201/201 [00:00<00:00, 95152.95it/s]\n"
          ]
        },
        {
          "output_type": "stream",
          "name": "stdout",
          "text": [
            "PDF file 'pdf_files/PDS%20FormBBSPersonnel.pdf' already exists. Skipping download.\n",
            "PDF file 'pdf_files/AccessPDS.pdf' already exists. Skipping download.\n"
          ]
        },
        {
          "output_type": "stream",
          "name": "stderr",
          "text": [
            "Downloading PDF files: 100%|██████████| 297/297 [00:00<00:00, 206072.50it/s]\n"
          ]
        },
        {
          "output_type": "stream",
          "name": "stdout",
          "text": [
            "PDF file 'pdf_files/visa_on_arrival_policy.pdf' already exists. Skipping download.\n",
            "PDF file 'pdf_files/nvr_policy.pdf' already exists. Skipping download.\n",
            "PDF file 'pdf_files/2023-01-05-05-21-9747e8b10b0587e449c15d4a0f8068bd.pdf' already exists. Skipping download.\n",
            "PDF file 'pdf_files/2023-01-05-07-38-c23b9fae479527101f8c190612f412a1.pdf' already exists. Skipping download.\n",
            "PDF file 'pdf_files/2022-02-16-08-14-a5610d77bc0a8977f5fa42630f5047f2.pdf' already exists. Skipping download.\n",
            "PDF file 'pdf_files/2022-02-16-08-17-50254acd8e6466331f8c10344c27ac69.pdf' already exists. Skipping download.\n",
            "PDF file 'pdf_files/2022-02-16-08-25-f46b1e361b2a7f5ed6b191064c2f74f3.pdf' already exists. Skipping download.\n"
          ]
        },
        {
          "output_type": "stream",
          "name": "stderr",
          "text": [
            "Downloading PDF files: 100%|██████████| 24/24 [00:00<00:00, 152751.59it/s]\n",
            "Downloading PDF files: 100%|██████████| 186/186 [00:00<00:00, 6551.51it/s]\n"
          ]
        },
        {
          "output_type": "stream",
          "name": "stdout",
          "text": [
            "PDF file 'pdf_files/PDS%20FormBBSPersonnel.pdf' already exists. Skipping download.\n",
            "PDF file 'pdf_files/AccessPDS.pdf' already exists. Skipping download.\n",
            "PDF file 'pdf_files/BARISAL%20%2806%29.pdf' already exists. Skipping download.\n",
            "PDF file 'pdf_files/BHOLA%20%2809%29.pdf' already exists. Skipping download.\n",
            "PDF file 'pdf_files/PIROJPUR%20%2879%29.pdf' already exists. Skipping download.\n",
            "PDF file 'pdf_files/JHALOKATI%20%2842%29.pdf' already exists. Skipping download.\n",
            "PDF file 'pdf_files/PATUAKHALI%20%2878%29.pdf' already exists. Skipping download.\n",
            "PDF file 'pdf_files/BARGUNA%20%2804%29.pdf' already exists. Skipping download.\n",
            "PDF file 'pdf_files/CHITTAGONG%20%2815%29.pdf' already exists. Skipping download.\n",
            "PDF file 'pdf_files/COXBAZAR%20%2822%29.pdf' already exists. Skipping download.\n",
            "PDF file 'pdf_files/BANDARBAN%20%2803%29.pdf' already exists. Skipping download.\n",
            "PDF file 'pdf_files/KHAGRACHHARI%20%2846%29.pdf' already exists. Skipping download.\n",
            "PDF file 'pdf_files/RANGAMATI%20%2884%29.pdf' already exists. Skipping download.\n",
            "PDF file 'pdf_files/NOAKHALI%20%2875%29.pdf' already exists. Skipping download.\n",
            "PDF file 'pdf_files/FENI%20%2830%29.pdf' already exists. Skipping download.\n",
            "PDF file 'pdf_files/LAKSHMIPUR%20%2851%29.pdf' already exists. Skipping download.\n",
            "PDF file 'pdf_files/COMILLA%20%2819%29.pdf' already exists. Skipping download.\n",
            "PDF file 'pdf_files/CHANDPUR%2813%29.pdf' already exists. Skipping download.\n",
            "PDF file 'pdf_files/BRAHMANBARIA%20%2812%29.pdf' already exists. Skipping download.\n",
            "PDF file 'pdf_files/DHAKA-26.pdf' already exists. Skipping download.\n",
            "PDF file 'pdf_files/NARAYANGANJ%20%2867%29.pdf' already exists. Skipping download.\n",
            "PDF file 'pdf_files/GAZIPUR%20%2833%29.pdf' already exists. Skipping download.\n",
            "PDF file 'pdf_files/MUNSHIGANJ%2859%29.pdf' already exists. Skipping download.\n",
            "PDF file 'pdf_files/MANIKGANJ%20%2856%29.pdf' already exists. Skipping download.\n",
            "PDF file 'pdf_files/NARSINGDI%20%2868%29.pdf' already exists. Skipping download.\n",
            "PDF file 'pdf_files/FARIDPUR%20%2829%29.pdf' already exists. Skipping download.\n",
            "PDF file 'pdf_files/MADARIPUR%20%2854%29.pdf' already exists. Skipping download.\n",
            "PDF file 'pdf_files/GOPALGANJ%20%2835%29.pdf' already exists. Skipping download.\n",
            "PDF file 'pdf_files/RAJBARI%2882%29.pdf' already exists. Skipping download.\n",
            "PDF file 'pdf_files/SHARIATPUR%20%2886%29.pdf' already exists. Skipping download.\n",
            "PDF file 'pdf_files/TANGAIL%20%2893%29.pdf' already exists. Skipping download.\n",
            "PDF file 'pdf_files/KISHOREGANJ%20%2848%29.pdf' already exists. Skipping download.\n",
            "PDF file 'pdf_files/JAMALPUR%20%2839%29.pdf' already exists. Skipping download.\n",
            "PDF file 'pdf_files/SHERPUR%20%2889%29.pdf' already exists. Skipping download.\n",
            "PDF file 'pdf_files/MYMENSINGH%20%2861%29.pdf' already exists. Skipping download.\n",
            "PDF file 'pdf_files/NETRAKONA%20%2872%29.pdf' already exists. Skipping download.\n",
            "PDF file 'pdf_files/KHULNA%20%2847%29.pdf' already exists. Skipping download.\n",
            "PDF file 'pdf_files/BAGERHAT%20%2801%29.pdf' already exists. Skipping download.\n",
            "PDF file 'pdf_files/SATKHIRA%20%2887%29.pdf' already exists. Skipping download.\n",
            "PDF file 'pdf_files/JESSORE%20%2841%29.pdf' already exists. Skipping download.\n",
            "PDF file 'pdf_files/JHENAIDAH%20%2844%29.pdf' already exists. Skipping download.\n",
            "PDF file 'pdf_files/CHUADANGA%20%2818%29.pdf' already exists. Skipping download.\n",
            "PDF file 'pdf_files/MAGURA%20%2855%29.pdf' already exists. Skipping download.\n",
            "PDF file 'pdf_files/NARAIL%20%2865%29.pdf' already exists. Skipping download.\n",
            "PDF file 'pdf_files/KUSTIA%20%2850%29.pdf' already exists. Skipping download.\n",
            "PDF file 'pdf_files/MEHERPUR%20%2857%29.pdf' already exists. Skipping download.\n",
            "PDF file 'pdf_files/RAJSHAHI%20%2881%29.pdf' already exists. Skipping download.\n",
            "PDF file 'pdf_files/NATORE%20%2869%29.pdf' already exists. Skipping download.\n",
            "PDF file 'pdf_files/NAOGAON%20%2864%29.pdf' already exists. Skipping download.\n",
            "PDF file 'pdf_files/CHAPAI%20NABABGANJ%20%2870%29.pdf' already exists. Skipping download.\n",
            "PDF file 'pdf_files/PABNA%20%2876%29.pdf' already exists. Skipping download.\n",
            "PDF file 'pdf_files/SIRAJGANJ%20%2888%29.pdf' already exists. Skipping download.\n",
            "PDF file 'pdf_files/BOGRA%20%2810%29.pdf' already exists. Skipping download.\n",
            "PDF file 'pdf_files/JOYPURHAT%20%2838%29.pdf' already exists. Skipping download.\n",
            "PDF file 'pdf_files/RANGPUR%20%2885%29.pdf' already exists. Skipping download.\n",
            "PDF file 'pdf_files/GAIBANDHA%20%2832%29.pdf' already exists. Skipping download.\n",
            "PDF file 'pdf_files/NILPHAMARI%20%2873%29.pdf' already exists. Skipping download.\n",
            "PDF file 'pdf_files/LALMONIRHAT%20%2852%29.pdf' already exists. Skipping download.\n",
            "PDF file 'pdf_files/KURIGRAM%20%2849%29.pdf' already exists. Skipping download.\n",
            "PDF file 'pdf_files/DINAJPUR%20%2827%29.pdf' already exists. Skipping download.\n",
            "PDF file 'pdf_files/THAKURGAON%20%2894%29.pdf' already exists. Skipping download.\n",
            "PDF file 'pdf_files/PANCHAGARH%20%2877%29.pdf' already exists. Skipping download.\n",
            "PDF file 'pdf_files/SYLHET%2891%29.pdf' already exists. Skipping download.\n",
            "PDF file 'pdf_files/HABIGANJ%20%2836%29.pdf' already exists. Skipping download.\n",
            "PDF file 'pdf_files/MOULVIBAZAR%20%2858%29.pdf' already exists. Skipping download.\n",
            "PDF file 'pdf_files/SUNAMGANJ%20%2890%29.pdf' already exists. Skipping download.\n"
          ]
        },
        {
          "output_type": "stream",
          "name": "stderr",
          "text": [
            "Downloading PDF files: 100%|██████████| 322/322 [00:00<00:00, 8363.93it/s]\n"
          ]
        },
        {
          "output_type": "stream",
          "name": "stdout",
          "text": [
            "PDF file 'pdf_files/Combined Summary_01_English.pdf' already exists. Skipping download.\n",
            "PDF file 'pdf_files/00_Preface_2019-20 English.pdf' already exists. Skipping download.\n",
            "PDF file 'pdf_files/01_Introduction_English.pdf' already exists. Skipping download.\n",
            "PDF file 'pdf_files/ST_01_Eng.pdf' already exists. Skipping download.\n",
            "PDF file 'pdf_files/G-1_01_124_Primary Education_English.pdf' already exists. Skipping download.\n",
            "PDF file 'pdf_files/G-1_02_125_Secondary Education_English.pdf' already exists. Skipping download.\n",
            "PDF file 'pdf_files/ST_03_Eng.pdf' already exists. Skipping download.\n",
            "PDF file 'pdf_files/St_02_Eng.pdf' already exists. Skipping download.\n",
            "PDF file 'pdf_files/G-1_03_160_Technical  Education_English.pdf' already exists. Skipping download.\n",
            "PDF file 'pdf_files/ST_04_Eng.pdf' already exists. Skipping download.\n",
            "PDF file 'pdf_files/G-1_04_127_Health Services_English.pdf' already exists. Skipping download.\n",
            "PDF file 'pdf_files/ST_05_Eng.pdf' already exists. Skipping download.\n",
            "PDF file 'pdf_files/ST_06_Eng.pdf' already exists. Skipping download.\n",
            "PDF file 'pdf_files/G-1_05_162_Medical  Edication_English.pdf' already exists. Skipping download.\n",
            "PDF file 'pdf_files/G-1_06_130_Women_English.pdf' already exists. Skipping download.\n",
            "PDF file 'pdf_files/G-1_07_138_Rural_English.pdf' already exists. Skipping download.\n",
            "PDF file 'pdf_files/ST_08_Eng.pdf' already exists. Skipping download.\n",
            "PDF file 'pdf_files/ST_09_Eng.pdf' already exists. Skipping download.\n",
            "PDF file 'pdf_files/G-1_08_143_Agriculture_English.pdf' already exists. Skipping download.\n",
            "PDF file 'pdf_files/ST_10_Eng.pdf' already exists. Skipping download.\n",
            "PDF file 'pdf_files/G-1_09_144_Fisheries_English.pdf' already exists. Skipping download.\n",
            "PDF file 'pdf_files/G-2_01_129_Social_English.pdf' already exists. Skipping download.\n",
            "PDF file 'pdf_files/ST_11_Eng.pdf' already exists. Skipping download.\n",
            "PDF file 'pdf_files/G-2_02_131_Labour_English.pdf' already exists. Skipping download.\n",
            "PDF file 'pdf_files/G-2_03_136_Youth_English.pdf' already exists. Skipping download.\n",
            "PDF file 'pdf_files/G-2_04_137_LGD_English.pdf' already exists. Skipping download.\n",
            "PDF file 'pdf_files/St_07_Eng.pdf' already exists. Skipping download.\n",
            "PDF file 'pdf_files/G-2_05_141_Textile_English.pdf' already exists. Skipping download.\n",
            "PDF file 'pdf_files/G-2_06_147_Water_English.pdf' already exists. Skipping download.\n",
            "PDF file 'pdf_files/G-2_07_149_Disaster_English.pdf' already exists. Skipping download.\n",
            "PDF file 'pdf_files/G-2_08_140_Expatriate_English.pdf' already exists. Skipping download.\n",
            "PDF file 'pdf_files/G-2_09_155_CHT_English_1.pdf' already exists. Skipping download.\n",
            "PDF file 'pdf_files/G-3_01_103_PMO_English.pdf' already exists. Skipping download.\n",
            "PDF file 'pdf_files/G-3_02_106_Election_English.pdf' already exists. Skipping download.\n",
            "PDF file 'pdf_files/G-3_02_106_Election_English.pdf' already exists. Skipping download.\n",
            "PDF file 'pdf_files/G-3_04_117_Commerce_English.pdf' already exists. Skipping download.\n",
            "PDF file 'pdf_files/G-3_05_121_Law_English.pdf' already exists. Skipping download.\n",
            "PDF file 'pdf_files/125_Higher Education_English.pdf' already exists. Skipping download.\n",
            "PDF file 'pdf_files/G-3_06_122_Public  Security_English.pdf' already exists. Skipping download.\n",
            "PDF file 'pdf_files/126_Science_English.pdf' already exists. Skipping download.\n",
            "PDF file 'pdf_files/127_Health Service_English (1).pdf' already exists. Skipping download.\n",
            "PDF file 'pdf_files/G-3_07_161_Security  Services_English.pdf' already exists. Skipping download.\n",
            "PDF file 'pdf_files/128_ICT_ English.pdf' already exists. Skipping download.\n",
            "PDF file 'pdf_files/G-3_08_126_Science_English_1.pdf' already exists. Skipping download.\n",
            "PDF file 'pdf_files/G-3_09_128_ICT Division_Bangla_1 (1).pdf' already exists. Skipping download.\n",
            "PDF file 'pdf_files/129_Social_English.pdf' already exists. Skipping download.\n",
            "PDF file 'pdf_files/130_Women_English.pdf' already exists. Skipping download.\n",
            "PDF file 'pdf_files/G-3_10_132_Housing_English.pdf' already exists. Skipping download.\n",
            "PDF file 'pdf_files/131_Labour_English.pdf' already exists. Skipping download.\n",
            "PDF file 'pdf_files/G-3_11_133_Information_English.pdf' already exists. Skipping download.\n",
            "PDF file 'pdf_files/G-3_12_134_Culture_English_1.pdf' already exists. Skipping download.\n",
            "PDF file 'pdf_files/132_Housing_English.pdf' already exists. Skipping download.\n",
            "PDF file 'pdf_files/G-3_13_135_Religious_English.pdf' already exists. Skipping download.\n",
            "PDF file 'pdf_files/133_Information_English.pdf' already exists. Skipping download.\n",
            "PDF file 'pdf_files/G-3_14_139_Industry_English.pdf' already exists. Skipping download.\n",
            "PDF file 'pdf_files/135_Religious_English.pdf' already exists. Skipping download.\n",
            "PDF file 'pdf_files/G-3_15_142_Energy_English.pdf' already exists. Skipping download.\n",
            "PDF file 'pdf_files/136_Youth_English.pdf' already exists. Skipping download.\n",
            "PDF file 'pdf_files/G-3_16_145_Environment_English.pdf' already exists. Skipping download.\n",
            "PDF file 'pdf_files/G-3_17_146_Land_English.pdf' already exists. Skipping download.\n",
            "PDF file 'pdf_files/137_LGD_English.pdf' already exists. Skipping download.\n",
            "PDF file 'pdf_files/138_Rural_English.pdf' already exists. Skipping download.\n",
            "PDF file 'pdf_files/G-3_18_148_Food_English.pdf' already exists. Skipping download.\n",
            "PDF file 'pdf_files/139_Industry_English.pdf' already exists. Skipping download.\n",
            "PDF file 'pdf_files/G-3_19_150_Roads_English.pdf' already exists. Skipping download.\n",
            "PDF file 'pdf_files/140_Expatriate_English.pdf' already exists. Skipping download.\n",
            "PDF file 'pdf_files/G-3_18_148_Food_English.pdf' already exists. Skipping download.\n",
            "PDF file 'pdf_files/141_Textiles_English.pdf' already exists. Skipping download.\n",
            "PDF file 'pdf_files/G3_21_152_Shipping.pdf' already exists. Skipping download.\n",
            "PDF file 'pdf_files/G-3_22_153_Civil_English.pdf' already exists. Skipping download.\n",
            "PDF file 'pdf_files/142_Energy_English.pdf' already exists. Skipping download.\n",
            "PDF file 'pdf_files/G-3_23_154_Post_English.pdf' already exists. Skipping download.\n",
            "PDF file 'pdf_files/143_Agriculture_English.pdf' already exists. Skipping download.\n",
            "PDF file 'pdf_files/G-3_24_156_Power_English.pdf' already exists. Skipping download.\n",
            "PDF file 'pdf_files/144_Fisheries_English.pdf' already exists. Skipping download.\n",
            "PDF file 'pdf_files/145_Environment_English.pdf' already exists. Skipping download.\n",
            "PDF file 'pdf_files/G-3_25_157_Liberation  War_English (1).pdf' already exists. Skipping download.\n",
            "PDF file 'pdf_files/146_Land_English.pdf' already exists. Skipping download.\n",
            "PDF file 'pdf_files/147_Water_English.pdf' already exists. Skipping download.\n",
            "PDF file 'pdf_files/148_Food_English.pdf' already exists. Skipping download.\n",
            "PDF file 'pdf_files/149_Disaster_English.pdf' already exists. Skipping download.\n",
            "PDF file 'pdf_files/150_Roads_English.pdf' already exists. Skipping download.\n",
            "PDF file 'pdf_files/151_Railway_English.pdf' already exists. Skipping download.\n",
            "PDF file 'pdf_files/152_Shipping_English.pdf' already exists. Skipping download.\n",
            "PDF file 'pdf_files/153_Civil Aviation_English.pdf' already exists. Skipping download.\n",
            "PDF file 'pdf_files/154_Post_English.pdf' already exists. Skipping download.\n",
            "PDF file 'pdf_files/155_Hill Tracts_English.pdf' already exists. Skipping download.\n",
            "PDF file 'pdf_files/156_Power_English.pdf' already exists. Skipping download.\n",
            "PDF file 'pdf_files/157_Liberation_English.pdf' already exists. Skipping download.\n",
            "PDF file 'pdf_files/158_Anti Corruption_English.pdf' already exists. Skipping download.\n",
            "PDF file 'pdf_files/159_Bridge_English.pdf' already exists. Skipping download.\n",
            "PDF file 'pdf_files/160_Technical Education_English.pdf' already exists. Skipping download.\n",
            "PDF file 'pdf_files/161_Security Services_English.pdf' already exists. Skipping download.\n",
            "PDF file 'pdf_files/162_Medical Education_English.pdf' already exists. Skipping download.\n"
          ]
        },
        {
          "output_type": "stream",
          "name": "stderr",
          "text": [
            "Downloading PDF files: 100%|██████████| 205/205 [00:00<00:00, 541456.12it/s]\n",
            "Downloading PDF files: 100%|██████████| 184/184 [00:00<00:00, 345148.45it/s]\n"
          ]
        },
        {
          "output_type": "stream",
          "name": "stdout",
          "text": [
            "PDF file 'pdf_files/2023-06-15-06-05-979b82fa4493167d3b1c1b3037260dbf.pdf' already exists. Skipping download.\n",
            "PDF file 'pdf_files/2023-06-15-06-05-979b82fa4493167d3b1c1b3037260dbf.pdf' already exists. Skipping download.\n"
          ]
        },
        {
          "output_type": "stream",
          "name": "stderr",
          "text": [
            "Downloading PDF files: 100%|██████████| 24/24 [00:00<00:00, 34192.70it/s]\n",
            "Downloading PDF files: 100%|██████████| 24/24 [00:00<00:00, 157779.46it/s]\n",
            "Downloading PDF files: 100%|██████████| 106/106 [00:00<00:00, 494545.30it/s]\n"
          ]
        },
        {
          "output_type": "stream",
          "name": "stdout",
          "text": [
            "Error accessing URL: ('Connection aborted.', ConnectionResetError(104, 'Connection reset by peer'))\n"
          ]
        },
        {
          "output_type": "stream",
          "name": "stderr",
          "text": [
            "WARNING:urllib3.connection:Certificate did not match expected hostname: 103.48.19.74. Certificate: {'subject': ((('commonName', '*.habiganj.gov.bd'),),), 'issuer': ((('countryName', 'US'),), (('organizationName', 'DigiCert Inc'),), (('organizationalUnitName', 'www.digicert.com'),), (('commonName', 'Thawte RSA CA 2018'),)), 'version': 3, 'serialNumber': '0EDDDFC5A7996ED270D492F59AC54CAD', 'notBefore': 'Jan 29 00:00:00 2023 GMT', 'notAfter': 'Jan 28 23:59:59 2024 GMT', 'subjectAltName': (('DNS', '*.habiganj.gov.bd'), ('DNS', 'habiganj.gov.bd')), 'OCSP': ('http://status.thawte.com',), 'caIssuers': ('http://cacerts.thawte.com/ThawteRSACA2018.crt',), 'crlDistributionPoints': ('http://cdp.thawte.com/ThawteRSACA2018.crl',)}\n"
          ]
        },
        {
          "output_type": "stream",
          "name": "stdout",
          "text": [
            "Error accessing URL: HTTPSConnectionPool(host='103.48.19.74', port=443): Max retries exceeded with url: / (Caused by SSLError(CertificateError(\"hostname '103.48.19.74' doesn't match either of '*.habiganj.gov.bd', 'habiganj.gov.bd'\")))\n"
          ]
        },
        {
          "output_type": "stream",
          "name": "stderr",
          "text": [
            "Downloading PDF files: 100%|██████████| 6/6 [00:00<00:00, 16142.29it/s]\n"
          ]
        },
        {
          "output_type": "stream",
          "name": "stdout",
          "text": [
            "PDF file 'pdf_files/sample-letter.pdf' already exists. Skipping download.\n",
            "PDF file 'pdf_files/sample-letter.pdf' already exists. Skipping download.\n"
          ]
        },
        {
          "output_type": "stream",
          "name": "stderr",
          "text": [
            "\rDownloading PDF files:   0%|          | 0/94 [00:00<?, ?it/s]"
          ]
        },
        {
          "output_type": "stream",
          "name": "stdout",
          "text": [
            "PDF file 'pdf_files/Final_Org_2017.pdf' already exists. Skipping download.\n",
            "Error downloading PDF file: 404 Client Error: Not Found for url: http://www.padmabridge.gov.bd/doc/notice_for_11_to_20_grade_exam_pmbp.pdf\n",
            "Retrying (1/3)...\n",
            "Error downloading PDF file: 404 Client Error: Not Found for url: http://www.padmabridge.gov.bd/doc/notice_for_11_to_20_grade_exam_pmbp.pdf\n",
            "Retrying (2/3)...\n",
            "Error downloading PDF file: 404 Client Error: Not Found for url: http://www.padmabridge.gov.bd/doc/notice_for_11_to_20_grade_exam_pmbp.pdf\n",
            "Retrying (3/3)...\n"
          ]
        },
        {
          "output_type": "stream",
          "name": "stderr",
          "text": [
            "\rDownloading PDF files:  80%|███████▉  | 75/94 [00:16<00:04,  4.59it/s]"
          ]
        },
        {
          "output_type": "stream",
          "name": "stdout",
          "text": [
            "Error downloading PDF file: 404 Client Error: Not Found for url: http://www.padmabridge.gov.bd/doc/forwarding_letter_to_PD.pdf\n",
            "Retrying (1/3)...\n",
            "Error downloading PDF file: 404 Client Error: Not Found for url: http://www.padmabridge.gov.bd/doc/forwarding_letter_to_PD.pdf\n",
            "Retrying (2/3)...\n",
            "Error downloading PDF file: 404 Client Error: Not Found for url: http://www.padmabridge.gov.bd/doc/forwarding_letter_to_PD.pdf\n",
            "Retrying (3/3)...\n"
          ]
        },
        {
          "output_type": "stream",
          "name": "stderr",
          "text": [
            "\rDownloading PDF files:  81%|████████  | 76/94 [00:32<00:09,  1.92it/s]"
          ]
        },
        {
          "output_type": "stream",
          "name": "stdout",
          "text": [
            "Error downloading PDF file: 404 Client Error: Not Found for url: http://www.padmabridge.gov.bd/doc/NOC_Sharful%20Islam_pmbp.pdf\n",
            "Retrying (1/3)...\n",
            "Error downloading PDF file: 404 Client Error: Not Found for url: http://www.padmabridge.gov.bd/doc/NOC_Sharful%20Islam_pmbp.pdf\n",
            "Retrying (2/3)...\n",
            "Error downloading PDF file: 404 Client Error: Not Found for url: http://www.padmabridge.gov.bd/doc/NOC_Sharful%20Islam_pmbp.pdf\n",
            "Retrying (3/3)...\n"
          ]
        },
        {
          "output_type": "stream",
          "name": "stderr",
          "text": [
            "Downloading PDF files: 100%|██████████| 94/94 [00:49<00:00,  1.91it/s]\n",
            "Downloading PDF files:   0%|          | 0/100 [00:00<?, ?it/s]"
          ]
        },
        {
          "output_type": "stream",
          "name": "stdout",
          "text": [
            "Error downloading PDF file: 404 Client Error: Not Found for url: https://sheikhrussel.gov.bd/assets/files/%E0%A6%B6%E0%A7%87%E0%A6%96%20%E0%A6%B0%E0%A6%BE%E0%A6%B8%E0%A7%87%E0%A6%B2%20%E0%A6%A6%E0%A6%BF%E0%A6%AC%E0%A6%B8%20%E0%A6%89%E0%A6%A6%E0%A6%AF%E0%A6%BE%E0%A6%AA%E0%A6%A8%20%E0%A6%A8%E0%A7%80%E0%A6%A4%E0%A6%BF%E0%A6%AE%E0%A6%BE%E0%A6%B2%E0%A6%BE%20%E0%A7%A8%E0%A7%A6%E0%A7%A8%E0%A7%A8%20%E0%A6%B8%E0%A7%8D%E0%A6%AC%E0%A6%BE%E0%A6%95%E0%A7%8D%E0%A6%B7%E0%A6%B0%E0%A6%BF%E0%A6%A4.pdf\n",
            "Retrying (1/3)...\n",
            "Error downloading PDF file: 404 Client Error: Not Found for url: https://sheikhrussel.gov.bd/assets/files/%E0%A6%B6%E0%A7%87%E0%A6%96%20%E0%A6%B0%E0%A6%BE%E0%A6%B8%E0%A7%87%E0%A6%B2%20%E0%A6%A6%E0%A6%BF%E0%A6%AC%E0%A6%B8%20%E0%A6%89%E0%A6%A6%E0%A6%AF%E0%A6%BE%E0%A6%AA%E0%A6%A8%20%E0%A6%A8%E0%A7%80%E0%A6%A4%E0%A6%BF%E0%A6%AE%E0%A6%BE%E0%A6%B2%E0%A6%BE%20%E0%A7%A8%E0%A7%A6%E0%A7%A8%E0%A7%A8%20%E0%A6%B8%E0%A7%8D%E0%A6%AC%E0%A6%BE%E0%A6%95%E0%A7%8D%E0%A6%B7%E0%A6%B0%E0%A6%BF%E0%A6%A4.pdf\n",
            "Retrying (2/3)...\n",
            "Error downloading PDF file: 404 Client Error: Not Found for url: https://sheikhrussel.gov.bd/assets/files/%E0%A6%B6%E0%A7%87%E0%A6%96%20%E0%A6%B0%E0%A6%BE%E0%A6%B8%E0%A7%87%E0%A6%B2%20%E0%A6%A6%E0%A6%BF%E0%A6%AC%E0%A6%B8%20%E0%A6%89%E0%A6%A6%E0%A6%AF%E0%A6%BE%E0%A6%AA%E0%A6%A8%20%E0%A6%A8%E0%A7%80%E0%A6%A4%E0%A6%BF%E0%A6%AE%E0%A6%BE%E0%A6%B2%E0%A6%BE%20%E0%A7%A8%E0%A7%A6%E0%A7%A8%E0%A7%A8%20%E0%A6%B8%E0%A7%8D%E0%A6%AC%E0%A6%BE%E0%A6%95%E0%A7%8D%E0%A6%B7%E0%A6%B0%E0%A6%BF%E0%A6%A4.pdf\n",
            "Retrying (3/3)...\n"
          ]
        },
        {
          "output_type": "stream",
          "name": "stderr",
          "text": [
            "\rDownloading PDF files:  18%|█▊        | 18/100 [00:21<01:37,  1.19s/it]"
          ]
        },
        {
          "output_type": "stream",
          "name": "stdout",
          "text": [
            "Error downloading PDF file: 404 Client Error: Not Found for url: https://sheikhrussel.gov.bd/assets/files/%E0%A6%B6%E0%A7%87%E0%A6%96-%E0%A6%B0%E0%A6%BE%E0%A6%B8%E0%A7%87%E0%A6%B2-%E0%A6%AA%E0%A6%A6%E0%A6%95-%E0%A6%A8%E0%A7%80%E0%A6%A4%E0%A6%BF%E0%A6%AE%E0%A6%BE%E0%A6%B2%E0%A6%BE-%E0%A7%A8%E0%A7%A6%E0%A7%A8%E0%A7%A8-%E0%A6%B8%E0%A7%8D%E0%A6%AC%E0%A6%BE%E0%A6%95%E0%A7%8D%E0%A6%B7%E0%A6%B0%E0%A6%BF%E0%A6%A4.pdf\n",
            "Retrying (1/3)...\n",
            "Error downloading PDF file: 404 Client Error: Not Found for url: https://sheikhrussel.gov.bd/assets/files/%E0%A6%B6%E0%A7%87%E0%A6%96-%E0%A6%B0%E0%A6%BE%E0%A6%B8%E0%A7%87%E0%A6%B2-%E0%A6%AA%E0%A6%A6%E0%A6%95-%E0%A6%A8%E0%A7%80%E0%A6%A4%E0%A6%BF%E0%A6%AE%E0%A6%BE%E0%A6%B2%E0%A6%BE-%E0%A7%A8%E0%A7%A6%E0%A7%A8%E0%A7%A8-%E0%A6%B8%E0%A7%8D%E0%A6%AC%E0%A6%BE%E0%A6%95%E0%A7%8D%E0%A6%B7%E0%A6%B0%E0%A6%BF%E0%A6%A4.pdf\n",
            "Retrying (2/3)...\n",
            "Error downloading PDF file: 404 Client Error: Not Found for url: https://sheikhrussel.gov.bd/assets/files/%E0%A6%B6%E0%A7%87%E0%A6%96-%E0%A6%B0%E0%A6%BE%E0%A6%B8%E0%A7%87%E0%A6%B2-%E0%A6%AA%E0%A6%A6%E0%A6%95-%E0%A6%A8%E0%A7%80%E0%A6%A4%E0%A6%BF%E0%A6%AE%E0%A6%BE%E0%A6%B2%E0%A6%BE-%E0%A7%A8%E0%A7%A6%E0%A7%A8%E0%A7%A8-%E0%A6%B8%E0%A7%8D%E0%A6%AC%E0%A6%BE%E0%A6%95%E0%A7%8D%E0%A6%B7%E0%A6%B0%E0%A6%BF%E0%A6%A4.pdf\n",
            "Retrying (3/3)...\n"
          ]
        },
        {
          "output_type": "stream",
          "name": "stderr",
          "text": [
            "\rDownloading PDF files:  39%|███▉      | 39/100 [00:42<01:06,  1.09s/it]"
          ]
        },
        {
          "output_type": "stream",
          "name": "stdout",
          "text": [
            "PDF file 'pdf_files/Important factors to consider in award planning.pdf' already exists. Skipping download.\n",
            "PDF file 'pdf_files/Areas of reward.pdf' already exists. Skipping download.\n",
            "PDF file 'pdf_files/Sheikh Russell Award 2022 notification.pdf' already exists. Skipping download.\n",
            "Error downloading PDF file: 404 Client Error: Not Found for url: https://sheikhrussel.gov.bd/assets/files/%E0%A6%AE%E0%A7%82%E0%A6%B2%E0%A7%8D%E0%A6%AF%E0%A6%BE%E0%A7%9F%E0%A6%A8%20%E0%A6%9B%E0%A6%95%20%E0%A6%B8%E0%A6%82%E0%A6%B6%E0%A7%8B%E0%A6%A7%E0%A6%BF%E0%A6%A4.pdf\n",
            "Retrying (1/3)...\n",
            "Error downloading PDF file: 404 Client Error: Not Found for url: https://sheikhrussel.gov.bd/assets/files/%E0%A6%AE%E0%A7%82%E0%A6%B2%E0%A7%8D%E0%A6%AF%E0%A6%BE%E0%A7%9F%E0%A6%A8%20%E0%A6%9B%E0%A6%95%20%E0%A6%B8%E0%A6%82%E0%A6%B6%E0%A7%8B%E0%A6%A7%E0%A6%BF%E0%A6%A4.pdf\n",
            "Retrying (2/3)...\n",
            "Error downloading PDF file: 404 Client Error: Not Found for url: https://sheikhrussel.gov.bd/assets/files/%E0%A6%AE%E0%A7%82%E0%A6%B2%E0%A7%8D%E0%A6%AF%E0%A6%BE%E0%A7%9F%E0%A6%A8%20%E0%A6%9B%E0%A6%95%20%E0%A6%B8%E0%A6%82%E0%A6%B6%E0%A7%8B%E0%A6%A7%E0%A6%BF%E0%A6%A4.pdf\n",
            "Retrying (3/3)...\n"
          ]
        },
        {
          "output_type": "stream",
          "name": "stderr",
          "text": [
            "\rDownloading PDF files:  45%|████▌     | 45/100 [01:03<01:25,  1.55s/it]"
          ]
        },
        {
          "output_type": "stream",
          "name": "stdout",
          "text": [
            "Error downloading PDF file: 404 Client Error: Not Found for url: https://sheikhrussel.gov.bd/assets/files/%E0%A6%B6%E0%A7%87%E0%A6%96%20%E0%A6%B0%E0%A6%BE%E0%A6%B8%E0%A7%87%E0%A6%B2%20%E0%A6%AA%E0%A6%A6%E0%A6%95%20%E0%A6%86%E0%A6%AC%E0%A7%87%E0%A6%A6%E0%A6%A8%20%E0%A6%AB%E0%A6%B0%E0%A6%AE%20%E0%A6%B8%E0%A6%82%E0%A6%B6%E0%A7%8B%E0%A6%A7%E0%A6%BF%E0%A6%A4.pdf\n",
            "Retrying (1/3)...\n",
            "Error downloading PDF file: 404 Client Error: Not Found for url: https://sheikhrussel.gov.bd/assets/files/%E0%A6%B6%E0%A7%87%E0%A6%96%20%E0%A6%B0%E0%A6%BE%E0%A6%B8%E0%A7%87%E0%A6%B2%20%E0%A6%AA%E0%A6%A6%E0%A6%95%20%E0%A6%86%E0%A6%AC%E0%A7%87%E0%A6%A6%E0%A6%A8%20%E0%A6%AB%E0%A6%B0%E0%A6%AE%20%E0%A6%B8%E0%A6%82%E0%A6%B6%E0%A7%8B%E0%A6%A7%E0%A6%BF%E0%A6%A4.pdf\n",
            "Retrying (2/3)...\n",
            "Error downloading PDF file: 404 Client Error: Not Found for url: https://sheikhrussel.gov.bd/assets/files/%E0%A6%B6%E0%A7%87%E0%A6%96%20%E0%A6%B0%E0%A6%BE%E0%A6%B8%E0%A7%87%E0%A6%B2%20%E0%A6%AA%E0%A6%A6%E0%A6%95%20%E0%A6%86%E0%A6%AC%E0%A7%87%E0%A6%A6%E0%A6%A8%20%E0%A6%AB%E0%A6%B0%E0%A6%AE%20%E0%A6%B8%E0%A6%82%E0%A6%B6%E0%A7%8B%E0%A6%A7%E0%A6%BF%E0%A6%A4.pdf\n",
            "Retrying (3/3)...\n"
          ]
        },
        {
          "output_type": "stream",
          "name": "stderr",
          "text": [
            "Downloading PDF files: 100%|██████████| 100/100 [01:24<00:00,  1.18it/s]\n",
            "Downloading PDF files: 100%|██████████| 344/344 [00:00<00:00, 260581.65it/s]\n",
            "Downloading PDF files: 100%|██████████| 80/80 [00:00<00:00, 456522.88it/s]\n",
            "Downloading PDF files: 100%|██████████| 68/68 [00:00<00:00, 92391.54it/s]\n",
            "Downloading PDF files: 100%|██████████| 205/205 [00:00<00:00, 493872.67it/s]\n",
            "Downloading PDF files: 100%|██████████| 79/79 [00:00<00:00, 328394.47it/s]\n"
          ]
        },
        {
          "output_type": "stream",
          "name": "stdout",
          "text": [
            "Error accessing URL: ('Connection aborted.', ConnectionResetError(104, 'Connection reset by peer'))\n"
          ]
        },
        {
          "output_type": "stream",
          "name": "stderr",
          "text": [
            "Downloading PDF files: 0it [00:00, ?it/s]\n",
            "Downloading PDF files: 0it [00:00, ?it/s]\n",
            "Downloading PDF files: 100%|██████████| 15/15 [00:00<00:00, 22445.44it/s]\n",
            "Downloading PDF files: 100%|██████████| 59/59 [00:00<00:00, 49344.75it/s]\n"
          ]
        },
        {
          "output_type": "stream",
          "name": "stdout",
          "text": [
            "Error accessing URL: HTTPConnectionPool(host='edirectory.apps.portal.gov.bd', port=80): Max retries exceeded with url: / (Caused by ConnectTimeoutError(<urllib3.connection.HTTPConnection object at 0x7efc3ea4eec0>, 'Connection to edirectory.apps.portal.gov.bd timed out. (connect timeout=None)'))\n"
          ]
        },
        {
          "output_type": "stream",
          "name": "stderr",
          "text": [
            "Downloading PDF files: 100%|██████████| 193/193 [00:00<00:00, 57180.24it/s]\n"
          ]
        },
        {
          "output_type": "stream",
          "name": "stdout",
          "text": [
            "PDF file 'pdf_files/2023-05-31-09-43-9ae91c880057d930fadf7f93b1a0f0e7.pdf' already exists. Skipping download.\n",
            "PDF file 'pdf_files/2023-05-28-12-07-8e0ad839af5aaa428dd260bd63bc22c3.pdf' already exists. Skipping download.\n",
            "PDF file 'pdf_files/2023-06-20-03-21-64f988574529b02401742b5a43620451.pdf' already exists. Skipping download.\n",
            "PDF file 'pdf_files/2022-06-30-09-33-336375efb294c8aa5829fa37986ff591.pdf' already exists. Skipping download.\n",
            "PDF file 'pdf_files/2022-12-20-03-59-6f6cb1d8d5332252733777f8e2d670c6.pdf' already exists. Skipping download.\n",
            "PDF file 'pdf_files/2021-11-15-09-36-f5c540fd2a9e016165c292eda0b2a1b7.pdf' already exists. Skipping download.\n",
            "PDF file 'pdf_files/2023-01-22-06-47-15046ffa98b100230a90dd4fdfef10bc.pdf' already exists. Skipping download.\n",
            "PDF file 'pdf_files/2023-06-15-07-37-38f59ebc6819f7f28db3c8622ae4e8cf.pdf' already exists. Skipping download.\n",
            "PDF file 'pdf_files/2023-06-07-05-32-c8eccf30799aac101fd44282040e6161.pdf' already exists. Skipping download.\n",
            "PDF file 'pdf_files/2023-06-04-08-26-95e31a11b4f14a822676d65b0f6ea581.pdf' already exists. Skipping download.\n",
            "PDF file 'pdf_files/2023-05-18-09-18-c3d794905117b884c5bba9d20c54a5c6.pdf' already exists. Skipping download.\n"
          ]
        },
        {
          "output_type": "stream",
          "name": "stderr",
          "text": [
            "Downloading PDF files: 100%|██████████| 65/65 [00:00<00:00, 45697.24it/s]\n"
          ]
        },
        {
          "output_type": "stream",
          "name": "stdout",
          "text": [
            "PDF file 'pdf_files/Teacher Requirment 02,2023.pdf' already exists. Skipping download.\n",
            "PDF file 'pdf_files/Recruitment circular of MRT Line 1.pdf' already exists. Skipping download.\n",
            "PDF file 'pdf_files/Circular.pdf' already exists. Skipping download.\n",
            "PDF file 'pdf_files/Cadet_11-08-2022.pdf' already exists. Skipping download.\n",
            "PDF file 'pdf_files/InternalRecruitmentNotice.pdf' already exists. Skipping download.\n"
          ]
        },
        {
          "output_type": "stream",
          "name": "stderr",
          "text": [
            "Downloading PDF files: 100%|██████████| 80/80 [00:00<00:00, 352462.52it/s]\n",
            "Downloading PDF files: 100%|██████████| 91/91 [00:00<00:00, 360757.72it/s]\n",
            "Downloading PDF files:   0%|          | 0/227 [00:00<?, ?it/s]"
          ]
        },
        {
          "output_type": "stream",
          "name": "stdout",
          "text": [
            "PDF file 'pdf_files/বিষয়ক নির্দেশিকা.pdf' already exists. Skipping download.\n",
            "PDF file 'pdf_files/1. Gezette Notification.pdf' already exists. Skipping download.\n",
            "Error downloading PDF file: 400 Client Error: Bad Request for url: http://bangladesh.gov.bd/sites/default/files/files/bangladesh.gov.bd/policy/9ed6a427_eb7d_43be_9fff_8b8b8e196483/%E0%A6%AA%E0%A6%B0%E0%A7%8D%E0%A6%AF%E0%A6%BE%E0%A7%9F%E0%A7%87%E0%A6%B0_%E0%A6%AC%E0%A6%BF%E0%A6%AD%E0%A6%BE%E0%A6%97%E0%A7%80%E0%A7%9F_%E0%A6%86%E0%A6%9E%E0%A7%8D%E0%A6%9A%E0%A6%B2%E0%A6%BF%E0%A6%95_%E0%A6%9C%E0%A7%87%E0%A6%B2%E0%A6%BE%20%E0%A6%93%20%E0%A6%89%E0%A6%AA%E0%A6%9C%E0%A7%87%E0%A6%B2%E0%A6%BE_%E0%A6%95%E0%A6%BE%E0%A6%B0%E0%A7%8D%E0%A6%AF%E0%A6%BE%E0%A6%B2%E0%A7%9F%E0%A6%B8%E0%A6%AE%E0%A7%82%E0%A6%B9%E0%A7%87%E0%A6%B0%20%E0%A6%AC%E0%A6%BE%E0%A6%B0%E0%A7%8D%E0%A6%B7%E0%A6%BF%E0%A6%95%20%E0%A6%95%E0%A6%B0%E0%A7%8D%E0%A6%AE%E0%A6%B8%E0%A6%AE%E0%A7%8D%E0%A6%AA%E0%A6%BE%E0%A6%A6%E0%A6%A8%20%E0%A6%9A%E0%A7%81%E0%A6%95%E0%A7%8D%E0%A6%A4%E0%A6%BF%20%E0%A6%B8%E0%A6%82%E0%A6%95%E0%A7%8D%E0%A6%B0%E0%A6%BE%E0%A6%A8%E0%A7%8D%E0%A6%A4%20%E0%A6%A8%E0%A7%80%E0%A6%A4%E0%A6%BF%E0%A6%AE%E0%A6%BE%E0%A6%B2%E0%A6%BE%20%E0%A7%A8%E0%A7%A6%E0%A7%A7%E0%A7%AD-%E0%A7%A7%E0%A7%AE.compressed.pdf\n",
            "Retrying (1/3)...\n",
            "Error downloading PDF file: 400 Client Error: Bad Request for url: http://bangladesh.gov.bd/sites/default/files/files/bangladesh.gov.bd/policy/9ed6a427_eb7d_43be_9fff_8b8b8e196483/%E0%A6%AA%E0%A6%B0%E0%A7%8D%E0%A6%AF%E0%A6%BE%E0%A7%9F%E0%A7%87%E0%A6%B0_%E0%A6%AC%E0%A6%BF%E0%A6%AD%E0%A6%BE%E0%A6%97%E0%A7%80%E0%A7%9F_%E0%A6%86%E0%A6%9E%E0%A7%8D%E0%A6%9A%E0%A6%B2%E0%A6%BF%E0%A6%95_%E0%A6%9C%E0%A7%87%E0%A6%B2%E0%A6%BE%20%E0%A6%93%20%E0%A6%89%E0%A6%AA%E0%A6%9C%E0%A7%87%E0%A6%B2%E0%A6%BE_%E0%A6%95%E0%A6%BE%E0%A6%B0%E0%A7%8D%E0%A6%AF%E0%A6%BE%E0%A6%B2%E0%A7%9F%E0%A6%B8%E0%A6%AE%E0%A7%82%E0%A6%B9%E0%A7%87%E0%A6%B0%20%E0%A6%AC%E0%A6%BE%E0%A6%B0%E0%A7%8D%E0%A6%B7%E0%A6%BF%E0%A6%95%20%E0%A6%95%E0%A6%B0%E0%A7%8D%E0%A6%AE%E0%A6%B8%E0%A6%AE%E0%A7%8D%E0%A6%AA%E0%A6%BE%E0%A6%A6%E0%A6%A8%20%E0%A6%9A%E0%A7%81%E0%A6%95%E0%A7%8D%E0%A6%A4%E0%A6%BF%20%E0%A6%B8%E0%A6%82%E0%A6%95%E0%A7%8D%E0%A6%B0%E0%A6%BE%E0%A6%A8%E0%A7%8D%E0%A6%A4%20%E0%A6%A8%E0%A7%80%E0%A6%A4%E0%A6%BF%E0%A6%AE%E0%A6%BE%E0%A6%B2%E0%A6%BE%20%E0%A7%A8%E0%A7%A6%E0%A7%A7%E0%A7%AD-%E0%A7%A7%E0%A7%AE.compressed.pdf\n",
            "Retrying (2/3)...\n",
            "Error downloading PDF file: 400 Client Error: Bad Request for url: http://bangladesh.gov.bd/sites/default/files/files/bangladesh.gov.bd/policy/9ed6a427_eb7d_43be_9fff_8b8b8e196483/%E0%A6%AA%E0%A6%B0%E0%A7%8D%E0%A6%AF%E0%A6%BE%E0%A7%9F%E0%A7%87%E0%A6%B0_%E0%A6%AC%E0%A6%BF%E0%A6%AD%E0%A6%BE%E0%A6%97%E0%A7%80%E0%A7%9F_%E0%A6%86%E0%A6%9E%E0%A7%8D%E0%A6%9A%E0%A6%B2%E0%A6%BF%E0%A6%95_%E0%A6%9C%E0%A7%87%E0%A6%B2%E0%A6%BE%20%E0%A6%93%20%E0%A6%89%E0%A6%AA%E0%A6%9C%E0%A7%87%E0%A6%B2%E0%A6%BE_%E0%A6%95%E0%A6%BE%E0%A6%B0%E0%A7%8D%E0%A6%AF%E0%A6%BE%E0%A6%B2%E0%A7%9F%E0%A6%B8%E0%A6%AE%E0%A7%82%E0%A6%B9%E0%A7%87%E0%A6%B0%20%E0%A6%AC%E0%A6%BE%E0%A6%B0%E0%A7%8D%E0%A6%B7%E0%A6%BF%E0%A6%95%20%E0%A6%95%E0%A6%B0%E0%A7%8D%E0%A6%AE%E0%A6%B8%E0%A6%AE%E0%A7%8D%E0%A6%AA%E0%A6%BE%E0%A6%A6%E0%A6%A8%20%E0%A6%9A%E0%A7%81%E0%A6%95%E0%A7%8D%E0%A6%A4%E0%A6%BF%20%E0%A6%B8%E0%A6%82%E0%A6%95%E0%A7%8D%E0%A6%B0%E0%A6%BE%E0%A6%A8%E0%A7%8D%E0%A6%A4%20%E0%A6%A8%E0%A7%80%E0%A6%A4%E0%A6%BF%E0%A6%AE%E0%A6%BE%E0%A6%B2%E0%A6%BE%20%E0%A7%A8%E0%A7%A6%E0%A7%A7%E0%A7%AD-%E0%A7%A7%E0%A7%AE.compressed.pdf\n",
            "Retrying (3/3)...\n"
          ]
        },
        {
          "output_type": "stream",
          "name": "stderr",
          "text": [
            "\rDownloading PDF files:  24%|██▍       | 54/227 [00:18<01:00,  2.86it/s]"
          ]
        },
        {
          "output_type": "stream",
          "name": "stdout",
          "text": [
            "PDF file 'pdf_files/_বিভাগসমূহের_বার্ষিক_কর্মসম্পাদন_চুক্তি_সংক্রান্ত_নীতিমালা_২০১৭_১৮.compressed.pdf' already exists. Skipping download.\n",
            "PDF file 'pdf_files/2. Mukhobndh.pdf' already exists. Skipping download.\n",
            "PDF file 'pdf_files/4. Integration standard of LISF (3) (2).pdf' already exists. Skipping download.\n",
            "PDF file 'pdf_files/3.Data standard of LISF.pdf' already exists. Skipping download.\n",
            "PDF file 'pdf_files/_সংস্থাসমূহের বার্ষিক কর্মসম্পাদন চুক্তি সংক্রান্ত নীতিমালা_ ২০১৭-১৮.compressed.pdf' already exists. Skipping download.\n",
            "PDF file 'pdf_files/68. জাতীয় শিল্পনীতি- ২০১৬.pdf' already exists. Skipping download.\n",
            "PDF file 'pdf_files/50. জেন্ডার পলিসি (1).pdf' already exists. Skipping download.\n",
            "Error downloading PDF file: 400 Client Error: Bad Request for url: http://bangladesh.gov.bd/sites/default/files/files/bangladesh.gov.bd/policy/c7b9aa5f_6c2b_4344_8aef_fb1359935f59/%E0%A6%AA%E0%A6%B0%E0%A7%8D%E0%A6%AF%E0%A6%BE%E0%A7%9F%E0%A7%87%20%E0%A6%B9%E0%A6%A4%E0%A6%A6%E0%A6%B0%E0%A6%BF%E0%A6%A6%E0%A7%8D%E0%A6%B0%E0%A6%A6%E0%A7%87%E0%A6%B0%20%E0%A6%9C%E0%A6%A8%E0%A7%8D%E0%A6%AF%20%E0%A6%B8%E0%A6%B0%E0%A6%95%E0%A6%BE%E0%A6%B0%20%E0%A6%A8%E0%A6%BF%E0%A6%B0%E0%A7%8D%E0%A6%A7%E0%A6%BE%E0%A6%B0%E0%A6%BF%E0%A6%A4%20%E0%A6%AE%E0%A7%82%E0%A6%B2%E0%A7%8D%E0%A6%AF%E0%A7%87%20%E0%A6%95%E0%A6%BE%E0%A6%B0%E0%A7%8D%E0%A6%A1%E0%A7%87%E0%A6%B0%20%E0%A6%AE%E0%A6%BE%E0%A6%A7%E0%A7%8D%E0%A6%AF%E0%A6%AE%E0%A7%87%20%E0%A6%96%E0%A6%BE%E0%A6%A6%E0%A7%8D%E0%A6%AF%E0%A6%B6%E0%A6%B8%E0%A7%8D%E0%A6%AF%20%E0%A6%AC%E0%A6%BF%E0%A6%A4%E0%A6%B0%E0%A6%A3%20%E0%A6%A8%E0%A7%80%E0%A6%A4%E0%A6%BF%E0%A6%AE%E0%A6%BE%E0%A6%B2%E0%A6%BE%20%E0%A7%A8%E0%A7%A6%E0%A7%A7%E0%A7%AC.pdf\n",
            "Retrying (1/3)...\n",
            "Error downloading PDF file: 400 Client Error: Bad Request for url: http://bangladesh.gov.bd/sites/default/files/files/bangladesh.gov.bd/policy/c7b9aa5f_6c2b_4344_8aef_fb1359935f59/%E0%A6%AA%E0%A6%B0%E0%A7%8D%E0%A6%AF%E0%A6%BE%E0%A7%9F%E0%A7%87%20%E0%A6%B9%E0%A6%A4%E0%A6%A6%E0%A6%B0%E0%A6%BF%E0%A6%A6%E0%A7%8D%E0%A6%B0%E0%A6%A6%E0%A7%87%E0%A6%B0%20%E0%A6%9C%E0%A6%A8%E0%A7%8D%E0%A6%AF%20%E0%A6%B8%E0%A6%B0%E0%A6%95%E0%A6%BE%E0%A6%B0%20%E0%A6%A8%E0%A6%BF%E0%A6%B0%E0%A7%8D%E0%A6%A7%E0%A6%BE%E0%A6%B0%E0%A6%BF%E0%A6%A4%20%E0%A6%AE%E0%A7%82%E0%A6%B2%E0%A7%8D%E0%A6%AF%E0%A7%87%20%E0%A6%95%E0%A6%BE%E0%A6%B0%E0%A7%8D%E0%A6%A1%E0%A7%87%E0%A6%B0%20%E0%A6%AE%E0%A6%BE%E0%A6%A7%E0%A7%8D%E0%A6%AF%E0%A6%AE%E0%A7%87%20%E0%A6%96%E0%A6%BE%E0%A6%A6%E0%A7%8D%E0%A6%AF%E0%A6%B6%E0%A6%B8%E0%A7%8D%E0%A6%AF%20%E0%A6%AC%E0%A6%BF%E0%A6%A4%E0%A6%B0%E0%A6%A3%20%E0%A6%A8%E0%A7%80%E0%A6%A4%E0%A6%BF%E0%A6%AE%E0%A6%BE%E0%A6%B2%E0%A6%BE%20%E0%A7%A8%E0%A7%A6%E0%A7%A7%E0%A7%AC.pdf\n",
            "Retrying (2/3)...\n",
            "Error downloading PDF file: 400 Client Error: Bad Request for url: http://bangladesh.gov.bd/sites/default/files/files/bangladesh.gov.bd/policy/c7b9aa5f_6c2b_4344_8aef_fb1359935f59/%E0%A6%AA%E0%A6%B0%E0%A7%8D%E0%A6%AF%E0%A6%BE%E0%A7%9F%E0%A7%87%20%E0%A6%B9%E0%A6%A4%E0%A6%A6%E0%A6%B0%E0%A6%BF%E0%A6%A6%E0%A7%8D%E0%A6%B0%E0%A6%A6%E0%A7%87%E0%A6%B0%20%E0%A6%9C%E0%A6%A8%E0%A7%8D%E0%A6%AF%20%E0%A6%B8%E0%A6%B0%E0%A6%95%E0%A6%BE%E0%A6%B0%20%E0%A6%A8%E0%A6%BF%E0%A6%B0%E0%A7%8D%E0%A6%A7%E0%A6%BE%E0%A6%B0%E0%A6%BF%E0%A6%A4%20%E0%A6%AE%E0%A7%82%E0%A6%B2%E0%A7%8D%E0%A6%AF%E0%A7%87%20%E0%A6%95%E0%A6%BE%E0%A6%B0%E0%A7%8D%E0%A6%A1%E0%A7%87%E0%A6%B0%20%E0%A6%AE%E0%A6%BE%E0%A6%A7%E0%A7%8D%E0%A6%AF%E0%A6%AE%E0%A7%87%20%E0%A6%96%E0%A6%BE%E0%A6%A6%E0%A7%8D%E0%A6%AF%E0%A6%B6%E0%A6%B8%E0%A7%8D%E0%A6%AF%20%E0%A6%AC%E0%A6%BF%E0%A6%A4%E0%A6%B0%E0%A6%A3%20%E0%A6%A8%E0%A7%80%E0%A6%A4%E0%A6%BF%E0%A6%AE%E0%A6%BE%E0%A6%B2%E0%A6%BE%20%E0%A7%A8%E0%A7%A6%E0%A7%A7%E0%A7%AC.pdf\n",
            "Retrying (3/3)...\n"
          ]
        },
        {
          "output_type": "stream",
          "name": "stderr",
          "text": [
            "\rDownloading PDF files:  29%|██▊       | 65/227 [00:42<02:01,  1.34it/s]"
          ]
        },
        {
          "output_type": "stream",
          "name": "stdout",
          "text": [
            "PDF file 'pdf_files/119. খসড়া জাতীয় যুবনীিত ২০১৬.pdf' already exists. Skipping download.\n",
            "PDF file 'pdf_files/78. গৃহকর্মী সুরক্ষা ও কল্যাণ নীতি, ২০১৫.pdf' already exists. Skipping download.\n",
            "PDF file 'pdf_files/112. বেগম রোকেয়া পদক প্রদানের জন্য অনুসৃতব্য নীতিমালা.pdf' already exists. Skipping download.\n",
            "PDF file 'pdf_files/74. কমিউনিটি রেডিও স্থাপন, সম্প্রচার ও পরিচালনা নীতিমালা-২০১৬ (খসড়া).pdf' already exists. Skipping download.\n",
            "PDF file 'pdf_files/41. জাতীয় তথ্য ও যোগাযোগ প্রযুক্তি নীতিমালা, ২০১৫.pdf' already exists. Skipping download.\n",
            "PDF file 'pdf_files/113. জাতীয় মনোসামাজিক কাউন্সেলিং নীতিমালা ২০১৬ (খসড়া).pdf' already exists. Skipping download.\n",
            "PDF file 'pdf_files/নীতিমালা ২০১৫-২০১৮ (বাংলা).pdf' already exists. Skipping download.\n",
            "Error downloading PDF file: 400 Client Error: Bad Request for url: http://bangladesh.gov.bd/sites/default/files/files/bangladesh.gov.bd/policy/ef6013b2_a823_4e85_86d4_3d3201d0ebac/128.%20%E0%A6%AC%E0%A6%BF%E0%A6%A6%E0%A7%87%E0%A6%B6%E0%A6%B8%E0%A7%8D%E0%A6%A5%20%E0%A6%AC%E0%A6%BE%E0%A6%82%E0%A6%B2%E0%A6%BE%E0%A6%A6%E0%A7%87%E0%A6%B6%20%E0%A6%A6%E0%A7%82%E0%A6%A4%E0%A6%BE%E0%A6%AC%E0%A6%BE%E0%A6%B8%E0%A7%87%E0%A6%B0%20%E0%A6%B6%E0%A7%8D%E0%A6%B0%E0%A6%AE%20%E0%A6%89%E0%A6%87%E0%A6%82%E0%A6%B8%E0%A6%AE%E0%A7%82%E0%A6%B9%E0%A7%87%20%E0%A6%8F%20%E0%A6%AE%E0%A6%A8%E0%A7%8D%E0%A6%A4%E0%A7%8D%E0%A6%B0%E0%A6%A3%E0%A6%BE%E0%A6%B2%E0%A7%9F%E0%A7%87%E0%A6%B0%20%E0%A6%95%E0%A6%B0%E0%A7%8D%E0%A6%AE%E0%A6%95%E0%A6%B0%E0%A7%8D%E0%A6%A4%E0%A6%BE%20%E0%A6%93%20%E0%A6%95%E0%A6%B0%E0%A7%8D%E0%A6%AE%E0%A6%9A%E0%A6%BE%E0%A6%B0%E0%A7%80%20%E0%A6%AA%E0%A6%A6%E0%A6%BE%E0%A7%9F%E0%A6%A8%20%E0%A6%93%20%E0%A6%AC%E0%A6%A6%E0%A6%B2%E0%A7%80%20%E0%A6%A8%E0%A7%80%E0%A6%A4%E0%A6%BF%E0%A6%AE%E0%A6%BE%E0%A6%B2%E0%A6%BE-%E0%A7%A8%E0%A7%A6%E0%A7%A7%E0%A7%AC.pdf\n",
            "Retrying (1/3)...\n",
            "Error downloading PDF file: 400 Client Error: Bad Request for url: http://bangladesh.gov.bd/sites/default/files/files/bangladesh.gov.bd/policy/ef6013b2_a823_4e85_86d4_3d3201d0ebac/128.%20%E0%A6%AC%E0%A6%BF%E0%A6%A6%E0%A7%87%E0%A6%B6%E0%A6%B8%E0%A7%8D%E0%A6%A5%20%E0%A6%AC%E0%A6%BE%E0%A6%82%E0%A6%B2%E0%A6%BE%E0%A6%A6%E0%A7%87%E0%A6%B6%20%E0%A6%A6%E0%A7%82%E0%A6%A4%E0%A6%BE%E0%A6%AC%E0%A6%BE%E0%A6%B8%E0%A7%87%E0%A6%B0%20%E0%A6%B6%E0%A7%8D%E0%A6%B0%E0%A6%AE%20%E0%A6%89%E0%A6%87%E0%A6%82%E0%A6%B8%E0%A6%AE%E0%A7%82%E0%A6%B9%E0%A7%87%20%E0%A6%8F%20%E0%A6%AE%E0%A6%A8%E0%A7%8D%E0%A6%A4%E0%A7%8D%E0%A6%B0%E0%A6%A3%E0%A6%BE%E0%A6%B2%E0%A7%9F%E0%A7%87%E0%A6%B0%20%E0%A6%95%E0%A6%B0%E0%A7%8D%E0%A6%AE%E0%A6%95%E0%A6%B0%E0%A7%8D%E0%A6%A4%E0%A6%BE%20%E0%A6%93%20%E0%A6%95%E0%A6%B0%E0%A7%8D%E0%A6%AE%E0%A6%9A%E0%A6%BE%E0%A6%B0%E0%A7%80%20%E0%A6%AA%E0%A6%A6%E0%A6%BE%E0%A7%9F%E0%A6%A8%20%E0%A6%93%20%E0%A6%AC%E0%A6%A6%E0%A6%B2%E0%A7%80%20%E0%A6%A8%E0%A7%80%E0%A6%A4%E0%A6%BF%E0%A6%AE%E0%A6%BE%E0%A6%B2%E0%A6%BE-%E0%A7%A8%E0%A7%A6%E0%A7%A7%E0%A7%AC.pdf\n",
            "Retrying (2/3)...\n",
            "Error downloading PDF file: 400 Client Error: Bad Request for url: http://bangladesh.gov.bd/sites/default/files/files/bangladesh.gov.bd/policy/ef6013b2_a823_4e85_86d4_3d3201d0ebac/128.%20%E0%A6%AC%E0%A6%BF%E0%A6%A6%E0%A7%87%E0%A6%B6%E0%A6%B8%E0%A7%8D%E0%A6%A5%20%E0%A6%AC%E0%A6%BE%E0%A6%82%E0%A6%B2%E0%A6%BE%E0%A6%A6%E0%A7%87%E0%A6%B6%20%E0%A6%A6%E0%A7%82%E0%A6%A4%E0%A6%BE%E0%A6%AC%E0%A6%BE%E0%A6%B8%E0%A7%87%E0%A6%B0%20%E0%A6%B6%E0%A7%8D%E0%A6%B0%E0%A6%AE%20%E0%A6%89%E0%A6%87%E0%A6%82%E0%A6%B8%E0%A6%AE%E0%A7%82%E0%A6%B9%E0%A7%87%20%E0%A6%8F%20%E0%A6%AE%E0%A6%A8%E0%A7%8D%E0%A6%A4%E0%A7%8D%E0%A6%B0%E0%A6%A3%E0%A6%BE%E0%A6%B2%E0%A7%9F%E0%A7%87%E0%A6%B0%20%E0%A6%95%E0%A6%B0%E0%A7%8D%E0%A6%AE%E0%A6%95%E0%A6%B0%E0%A7%8D%E0%A6%A4%E0%A6%BE%20%E0%A6%93%20%E0%A6%95%E0%A6%B0%E0%A7%8D%E0%A6%AE%E0%A6%9A%E0%A6%BE%E0%A6%B0%E0%A7%80%20%E0%A6%AA%E0%A6%A6%E0%A6%BE%E0%A7%9F%E0%A6%A8%20%E0%A6%93%20%E0%A6%AC%E0%A6%A6%E0%A6%B2%E0%A7%80%20%E0%A6%A8%E0%A7%80%E0%A6%A4%E0%A6%BF%E0%A6%AE%E0%A6%BE%E0%A6%B2%E0%A6%BE-%E0%A7%A8%E0%A7%A6%E0%A7%A7%E0%A7%AC.pdf\n",
            "Retrying (3/3)...\n"
          ]
        },
        {
          "output_type": "stream",
          "name": "stderr",
          "text": [
            "\rDownloading PDF files:  33%|███▎      | 74/227 [01:02<02:42,  1.06s/it]"
          ]
        },
        {
          "output_type": "stream",
          "name": "stdout",
          "text": [
            "PDF file 'pdf_files/129. প্রবাসী কল্যাণ ও বৈদেশিক কর্মসংস্থান নীতিমালা - ২০১৬.pdf' already exists. Skipping download.\n",
            "PDF file 'pdf_files/65. EOI Advertisement on SME Credit Policy.pdf' already exists. Skipping download.\n",
            "PDF file 'pdf_files/98. টেলিযোগাযোগ নীতিমালা.pdf' already exists. Skipping download.\n",
            "PDF file 'pdf_files/হোটেল চিহ্নিতকরণ ও প্রত্যয়ন প্রদান সম্পর্কিত নীতিমালা.pdf' already exists. Skipping download.\n",
            "PDF file 'pdf_files/107. দরিদ্র মা’র জন্য মাতৃত্বকাল ভাতা প্রদান সংক্রান্ত নীতিমালা 2015.pdf' already exists. Skipping download.\n",
            "PDF file 'pdf_files/139. জাতীয় দুর্যোগ ব্যবস্থাপনা নীতিমালা ২০১৫.pdf' already exists. Skipping download.\n",
            "PDF file 'pdf_files/10. মোবাইল কোর্ট পরিচালনাকালে কতিপয় অনুসরণীয় বিষয়.pdf' already exists. Skipping download.\n",
            "PDF file 'pdf_files/নীতিমালা ২০১৫-২০১৮ (বাংলা).pdf' already exists. Skipping download.\n",
            "PDF file 'pdf_files/73. জাতীয় অনলাইন গণমাধ্যম নীতিমালা-২০১৫ (খসড়া).pdf' already exists. Skipping download.\n",
            "PDF file 'pdf_files/গুরুতর আহত দরিদ্র ও মেধাবী শিক্ষার্থীদের এককালীন আর্থিক অনুদান প্রদান নীতিমালা, ২০১৫.pdf' already exists. Skipping download.\n",
            "PDF file 'pdf_files/72. জাতীয় চলচ্চিত্র নীতিমালা (খসড়া).pdf' already exists. Skipping download.\n",
            "PDF file 'pdf_files/প্রণোদনা ২০১৫-১৬ঃ বাস্তবায়ন নীতিমালা.pdf' already exists. Skipping download.\n",
            "PDF file 'pdf_files/5. সরকারি প্রাথমিক বিদ্যালয়ের শিক্ষক বদলি নির্দেশিকা, ২০১৫.pdf' already exists. Skipping download.\n",
            "PDF file 'pdf_files/নীতিমালা, ২০১৫.pdf' already exists. Skipping download.\n",
            "PDF file 'pdf_files/ও মেধাবী শিক্ষার্থীদের শিক্ষা প্রতিষ্ঠানে ভর্তি নিশ্চিতকরণে আর্থিক সহায়তা নীতিমালা, ২০১৫.pdf' already exists. Skipping download.\n",
            "PDF file 'pdf_files/কৃষি সম্প্রসারণ নীতি-২০১৫ (খসড়া).pdf' already exists. Skipping download.\n",
            "Error downloading PDF file: 400 Client Error: Bad Request for url: http://bangladesh.gov.bd/sites/default/files/files/bangladesh.gov.bd/policy/aa1440ec_1b6d_4d12_8a8a_0015f267a376/7.%20%E0%A6%B8%E0%A6%B0%E0%A6%95%E0%A6%BE%E0%A6%B0%E0%A6%BF%20%E0%A6%AA%E0%A7%8D%E0%A6%B0%E0%A6%BE%E0%A6%A5%E0%A6%AE%E0%A6%BF%E0%A6%95%20%E0%A6%AC%E0%A6%BF%E0%A6%A6%E0%A7%8D%E0%A6%AF%E0%A6%BE%E0%A6%B2%E0%A7%9F%E0%A7%87%E0%A6%B0%20%E0%A6%A6%E0%A6%AA%E0%A7%8D%E0%A6%A4%E0%A6%B0%E0%A7%80-%E0%A6%95%E0%A6%BE%E0%A6%AE%20%E0%A6%AA%E0%A7%8D%E0%A6%B0%E0%A6%B9%E0%A6%B0%E0%A7%80%20%E0%A6%AA%E0%A6%A6%E0%A7%87%20%E0%A6%86%E0%A6%89%E0%A6%9F%20%E0%A6%B8%E0%A7%8B%E0%A6%B0%E0%A7%8D%E0%A6%B8%E0%A6%BF%E0%A6%82%E0%A7%9F%E0%A7%87%E0%A6%B0%20%E0%A6%AE%E0%A6%BE%E0%A6%A7%E0%A7%8D%E0%A6%AF%E0%A6%AE%E0%A7%87%20%E0%A6%9C%E0%A6%A8%E0%A6%AC%E0%A6%B2%20%E0%A6%A8%E0%A6%BF%E0%A7%9F%E0%A7%8B%E0%A6%97%E0%A7%87%E0%A6%B0%20%E0%A6%A8%E0%A7%80%E0%A6%A4%E0%A6%BF%E0%A6%AE%E0%A6%BE%E0%A6%B2%E0%A6%BE%20%E0%A6%B8%E0%A6%82%E0%A6%B6%E0%A7%8B%E0%A6%A7%E0%A6%A8.pdf\n",
            "Retrying (1/3)...\n",
            "Error downloading PDF file: 400 Client Error: Bad Request for url: http://bangladesh.gov.bd/sites/default/files/files/bangladesh.gov.bd/policy/aa1440ec_1b6d_4d12_8a8a_0015f267a376/7.%20%E0%A6%B8%E0%A6%B0%E0%A6%95%E0%A6%BE%E0%A6%B0%E0%A6%BF%20%E0%A6%AA%E0%A7%8D%E0%A6%B0%E0%A6%BE%E0%A6%A5%E0%A6%AE%E0%A6%BF%E0%A6%95%20%E0%A6%AC%E0%A6%BF%E0%A6%A6%E0%A7%8D%E0%A6%AF%E0%A6%BE%E0%A6%B2%E0%A7%9F%E0%A7%87%E0%A6%B0%20%E0%A6%A6%E0%A6%AA%E0%A7%8D%E0%A6%A4%E0%A6%B0%E0%A7%80-%E0%A6%95%E0%A6%BE%E0%A6%AE%20%E0%A6%AA%E0%A7%8D%E0%A6%B0%E0%A6%B9%E0%A6%B0%E0%A7%80%20%E0%A6%AA%E0%A6%A6%E0%A7%87%20%E0%A6%86%E0%A6%89%E0%A6%9F%20%E0%A6%B8%E0%A7%8B%E0%A6%B0%E0%A7%8D%E0%A6%B8%E0%A6%BF%E0%A6%82%E0%A7%9F%E0%A7%87%E0%A6%B0%20%E0%A6%AE%E0%A6%BE%E0%A6%A7%E0%A7%8D%E0%A6%AF%E0%A6%AE%E0%A7%87%20%E0%A6%9C%E0%A6%A8%E0%A6%AC%E0%A6%B2%20%E0%A6%A8%E0%A6%BF%E0%A7%9F%E0%A7%8B%E0%A6%97%E0%A7%87%E0%A6%B0%20%E0%A6%A8%E0%A7%80%E0%A6%A4%E0%A6%BF%E0%A6%AE%E0%A6%BE%E0%A6%B2%E0%A6%BE%20%E0%A6%B8%E0%A6%82%E0%A6%B6%E0%A7%8B%E0%A6%A7%E0%A6%A8.pdf\n",
            "Retrying (2/3)...\n",
            "Error downloading PDF file: 400 Client Error: Bad Request for url: http://bangladesh.gov.bd/sites/default/files/files/bangladesh.gov.bd/policy/aa1440ec_1b6d_4d12_8a8a_0015f267a376/7.%20%E0%A6%B8%E0%A6%B0%E0%A6%95%E0%A6%BE%E0%A6%B0%E0%A6%BF%20%E0%A6%AA%E0%A7%8D%E0%A6%B0%E0%A6%BE%E0%A6%A5%E0%A6%AE%E0%A6%BF%E0%A6%95%20%E0%A6%AC%E0%A6%BF%E0%A6%A6%E0%A7%8D%E0%A6%AF%E0%A6%BE%E0%A6%B2%E0%A7%9F%E0%A7%87%E0%A6%B0%20%E0%A6%A6%E0%A6%AA%E0%A7%8D%E0%A6%A4%E0%A6%B0%E0%A7%80-%E0%A6%95%E0%A6%BE%E0%A6%AE%20%E0%A6%AA%E0%A7%8D%E0%A6%B0%E0%A6%B9%E0%A6%B0%E0%A7%80%20%E0%A6%AA%E0%A6%A6%E0%A7%87%20%E0%A6%86%E0%A6%89%E0%A6%9F%20%E0%A6%B8%E0%A7%8B%E0%A6%B0%E0%A7%8D%E0%A6%B8%E0%A6%BF%E0%A6%82%E0%A7%9F%E0%A7%87%E0%A6%B0%20%E0%A6%AE%E0%A6%BE%E0%A6%A7%E0%A7%8D%E0%A6%AF%E0%A6%AE%E0%A7%87%20%E0%A6%9C%E0%A6%A8%E0%A6%AC%E0%A6%B2%20%E0%A6%A8%E0%A6%BF%E0%A7%9F%E0%A7%8B%E0%A6%97%E0%A7%87%E0%A6%B0%20%E0%A6%A8%E0%A7%80%E0%A6%A4%E0%A6%BF%E0%A6%AE%E0%A6%BE%E0%A6%B2%E0%A6%BE%20%E0%A6%B8%E0%A6%82%E0%A6%B6%E0%A7%8B%E0%A6%A7%E0%A6%A8.pdf\n",
            "Retrying (3/3)...\n"
          ]
        },
        {
          "output_type": "stream",
          "name": "stderr",
          "text": [
            "\rDownloading PDF files:  41%|████      | 92/227 [01:22<02:26,  1.08s/it]"
          ]
        },
        {
          "output_type": "stream",
          "name": "stdout",
          "text": [
            "Error downloading PDF file: 408 Client Error: Request Time-out for url: http://bangladesh.gov.bd/sites/default/files/files/bangladesh.gov.bd/policy/e5a77d53_8811_480c_b574_2ab7a2c7f924/124.%20%E0%A6%AE%E0%A7%81%E0%A6%95%E0%A7%8D%E0%A6%A4%E0%A6%BF%E0%A6%AF%E0%A7%8B%E0%A6%A6%E0%A7%8D%E0%A6%A7%E0%A6%BE%E0%A6%A6%E0%A7%87%E0%A6%B0%20%E0%A6%95%E0%A6%B2%E0%A7%8D%E0%A6%AF%E0%A6%BE%E0%A6%A3%E0%A7%87%20%E0%A6%A6%E0%A7%87%E0%A6%B6%E0%A7%87%E0%A6%B0%20%E0%A6%B8%E0%A6%B0%E0%A6%95%E0%A6%BE%E0%A6%B0%E0%A6%BF%20%E0%A6%B9%E0%A6%BE%E0%A6%9F-%E0%A6%AC%E0%A6%BE%E0%A6%9C%E0%A6%BE%E0%A6%B0%E0%A6%B8%E0%A6%AE%E0%A7%82%E0%A6%B9%E0%A7%87%E0%A6%B0%20%E0%A6%87%E0%A6%9C%E0%A6%BE%E0%A6%B0%E0%A6%BE%E0%A6%B2%E0%A6%AC%E0%A7%8D%E0%A6%A6%20%E0%A6%86%E0%A7%9F%E0%A7%87%E0%A6%B0%20%E0%A7%AA%25%20%E0%A6%85%E0%A6%B0%E0%A7%8D%E0%A6%A5%20%E0%A6%AC%E0%A7%8D%E0%A6%AF%E0%A7%9F%20%E0%A6%B8%E0%A6%82%E0%A6%95%E0%A7%8D%E0%A6%B0%E0%A6%BE%E0%A6%A8%E0%A7%8D%E0%A6%A4%20%E0%A6%A8%E0%A7%80%E0%A6%A4%E0%A6%BF%E0%A6%AE%E0%A6%BE%E0%A6%B2%E0%A6%BE-%E0%A7%A8%E0%A7%A6%E0%A7%A7%E0%A7%AB.pdf\n",
            "Retrying (1/3)...\n",
            "Error downloading PDF file: 408 Client Error: Request Time-out for url: http://bangladesh.gov.bd/sites/default/files/files/bangladesh.gov.bd/policy/e5a77d53_8811_480c_b574_2ab7a2c7f924/124.%20%E0%A6%AE%E0%A7%81%E0%A6%95%E0%A7%8D%E0%A6%A4%E0%A6%BF%E0%A6%AF%E0%A7%8B%E0%A6%A6%E0%A7%8D%E0%A6%A7%E0%A6%BE%E0%A6%A6%E0%A7%87%E0%A6%B0%20%E0%A6%95%E0%A6%B2%E0%A7%8D%E0%A6%AF%E0%A6%BE%E0%A6%A3%E0%A7%87%20%E0%A6%A6%E0%A7%87%E0%A6%B6%E0%A7%87%E0%A6%B0%20%E0%A6%B8%E0%A6%B0%E0%A6%95%E0%A6%BE%E0%A6%B0%E0%A6%BF%20%E0%A6%B9%E0%A6%BE%E0%A6%9F-%E0%A6%AC%E0%A6%BE%E0%A6%9C%E0%A6%BE%E0%A6%B0%E0%A6%B8%E0%A6%AE%E0%A7%82%E0%A6%B9%E0%A7%87%E0%A6%B0%20%E0%A6%87%E0%A6%9C%E0%A6%BE%E0%A6%B0%E0%A6%BE%E0%A6%B2%E0%A6%AC%E0%A7%8D%E0%A6%A6%20%E0%A6%86%E0%A7%9F%E0%A7%87%E0%A6%B0%20%E0%A7%AA%25%20%E0%A6%85%E0%A6%B0%E0%A7%8D%E0%A6%A5%20%E0%A6%AC%E0%A7%8D%E0%A6%AF%E0%A7%9F%20%E0%A6%B8%E0%A6%82%E0%A6%95%E0%A7%8D%E0%A6%B0%E0%A6%BE%E0%A6%A8%E0%A7%8D%E0%A6%A4%20%E0%A6%A8%E0%A7%80%E0%A6%A4%E0%A6%BF%E0%A6%AE%E0%A6%BE%E0%A6%B2%E0%A6%BE-%E0%A7%A8%E0%A7%A6%E0%A7%A7%E0%A7%AB.pdf\n",
            "Retrying (2/3)...\n",
            "Error downloading PDF file: 408 Client Error: Request Time-out for url: http://bangladesh.gov.bd/sites/default/files/files/bangladesh.gov.bd/policy/e5a77d53_8811_480c_b574_2ab7a2c7f924/124.%20%E0%A6%AE%E0%A7%81%E0%A6%95%E0%A7%8D%E0%A6%A4%E0%A6%BF%E0%A6%AF%E0%A7%8B%E0%A6%A6%E0%A7%8D%E0%A6%A7%E0%A6%BE%E0%A6%A6%E0%A7%87%E0%A6%B0%20%E0%A6%95%E0%A6%B2%E0%A7%8D%E0%A6%AF%E0%A6%BE%E0%A6%A3%E0%A7%87%20%E0%A6%A6%E0%A7%87%E0%A6%B6%E0%A7%87%E0%A6%B0%20%E0%A6%B8%E0%A6%B0%E0%A6%95%E0%A6%BE%E0%A6%B0%E0%A6%BF%20%E0%A6%B9%E0%A6%BE%E0%A6%9F-%E0%A6%AC%E0%A6%BE%E0%A6%9C%E0%A6%BE%E0%A6%B0%E0%A6%B8%E0%A6%AE%E0%A7%82%E0%A6%B9%E0%A7%87%E0%A6%B0%20%E0%A6%87%E0%A6%9C%E0%A6%BE%E0%A6%B0%E0%A6%BE%E0%A6%B2%E0%A6%AC%E0%A7%8D%E0%A6%A6%20%E0%A6%86%E0%A7%9F%E0%A7%87%E0%A6%B0%20%E0%A7%AA%25%20%E0%A6%85%E0%A6%B0%E0%A7%8D%E0%A6%A5%20%E0%A6%AC%E0%A7%8D%E0%A6%AF%E0%A7%9F%20%E0%A6%B8%E0%A6%82%E0%A6%95%E0%A7%8D%E0%A6%B0%E0%A6%BE%E0%A6%A8%E0%A7%8D%E0%A6%A4%20%E0%A6%A8%E0%A7%80%E0%A6%A4%E0%A6%BF%E0%A6%AE%E0%A6%BE%E0%A6%B2%E0%A6%BE-%E0%A7%A8%E0%A7%A6%E0%A7%A7%E0%A7%AB.pdf\n",
            "Retrying (3/3)...\n"
          ]
        },
        {
          "output_type": "stream",
          "name": "stderr",
          "text": [
            "\rDownloading PDF files:  41%|████      | 93/227 [01:42<03:39,  1.64s/it]"
          ]
        },
        {
          "output_type": "stream",
          "name": "stdout",
          "text": [
            "PDF file 'pdf_files/6. তথ্য অবমুক্তকরণ নীতিমালা ২০১৫.pdf' already exists. Skipping download.\n",
            "PDF file 'pdf_files/আধুনিক ফ্লাওয়ার মিল পরিচালন নীতিমালা-২০১৫.pdf' already exists. Skipping download.\n",
            "PDF file 'pdf_files/ও জনপথ অধিদপ্তরের সমন্বিত ভূমি ব্যবস্থাপনা নীতিমালা-২০১৪.pdf' already exists. Skipping download.\n",
            "Error downloading PDF file: 400 Client Error: Bad Request for url: http://bangladesh.gov.bd/sites/default/files/files/bangladesh.gov.bd/policy/5e7b2838_585e_4dd5_8ae2_cab18048a98b/12.%20%E0%A6%8F%E0%A6%95%20%E0%A6%89%E0%A6%AA%E0%A6%9C%E0%A7%87%E0%A6%B2%E0%A6%BE%20%E0%A6%B9%E0%A6%87%E0%A6%A4%E0%A7%87%20%E0%A6%85%E0%A6%A8%E0%A7%8D%E0%A6%AF%20%E0%A6%89%E0%A6%AA%E0%A6%9C%E0%A7%87%E0%A6%B2%E0%A6%BE%E0%A7%9F%20%E0%A6%87%E0%A6%89%E0%A6%A8%E0%A6%BF%E0%A7%9F%E0%A6%A8,%20%E0%A6%93%E0%A7%9F%E0%A6%BE%E0%A6%B0%E0%A7%8D%E0%A6%A1%20%E0%A6%B8%E0%A6%82%E0%A6%AF%E0%A7%8B%E0%A6%9C%E0%A6%A8%20%E0%A6%8F%E0%A6%AC%E0%A6%82%20%E0%A6%AC%E0%A6%BF%E0%A6%A6%E0%A7%8D%E0%A6%AF%E0%A6%AE%E0%A6%BE%E0%A6%A8%20%E0%A6%A8%E0%A6%AC%E0%A6%B8%E0%A7%83%E0%A6%B7%E0%A7%8D%E0%A6%9F%20%E0%A6%B8%E0%A6%BF%E0%A6%9F%E0%A6%BF%20%E0%A6%95%E0%A6%B0%E0%A7%8D%E0%A6%AA%E0%A7%8B%E0%A6%B0%E0%A7%87%E0%A6%B6%E0%A6%A8%E0%A7%87%20%E0%A6%85%E0%A6%A8%E0%A7%8D%E0%A6%A4%E0%A6%B0%E0%A7%8D%E0%A6%AD%E0%A7%81%E0%A6%95%E0%A7%8D%E0%A6%A4%20%E0%A6%8F%E0%A6%B2%E0%A6%BE%E0%A6%95%E0%A6%BE%20%E0%A6%AC%E0%A7%8D%E0%A6%AF%E0%A6%A4%E0%A7%80%E0%A6%A4%20%E0%A6%85%E0%A6%AC%E0%A6%B6%E0%A6%BF%E0%A6%B7%E0%A7%8D%E0%A6%9F%20%E0%A6%8F%E0%A6%B2%E0%A6%BE%E0%A6%95%E0%A6%BE%20%E0%A6%B2%E0%A6%87%E0%A7%9F%E0%A6%BE%20%E0%A6%89%E0%A6%AA%E0%A6%9C%E0%A7%87%E0%A6%B2%E0%A6%BE%20%E0%A6%AA%E0%A7%81%E0%A6%A8%E0%A6%B0%E0%A7%8D%E0%A6%97%E0%A6%A0%E0%A6%A8%20%E0%A6%B8%E0%A6%82%E0%A6%95%E0%A7%8D%E0%A6%B0%E0%A6%BE%E0%A6%A8%E0%A7%8D%E0%A6%A4%20%E0%A6%A8%E0%A7%80%E0%A6%A4%E0%A6%BF%E0%A6%AE%E0%A6%BE%E0%A6%B2%E0%A6%BE.pdf\n",
            "Retrying (1/3)...\n",
            "Error downloading PDF file: 400 Client Error: Bad Request for url: http://bangladesh.gov.bd/sites/default/files/files/bangladesh.gov.bd/policy/5e7b2838_585e_4dd5_8ae2_cab18048a98b/12.%20%E0%A6%8F%E0%A6%95%20%E0%A6%89%E0%A6%AA%E0%A6%9C%E0%A7%87%E0%A6%B2%E0%A6%BE%20%E0%A6%B9%E0%A6%87%E0%A6%A4%E0%A7%87%20%E0%A6%85%E0%A6%A8%E0%A7%8D%E0%A6%AF%20%E0%A6%89%E0%A6%AA%E0%A6%9C%E0%A7%87%E0%A6%B2%E0%A6%BE%E0%A7%9F%20%E0%A6%87%E0%A6%89%E0%A6%A8%E0%A6%BF%E0%A7%9F%E0%A6%A8,%20%E0%A6%93%E0%A7%9F%E0%A6%BE%E0%A6%B0%E0%A7%8D%E0%A6%A1%20%E0%A6%B8%E0%A6%82%E0%A6%AF%E0%A7%8B%E0%A6%9C%E0%A6%A8%20%E0%A6%8F%E0%A6%AC%E0%A6%82%20%E0%A6%AC%E0%A6%BF%E0%A6%A6%E0%A7%8D%E0%A6%AF%E0%A6%AE%E0%A6%BE%E0%A6%A8%20%E0%A6%A8%E0%A6%AC%E0%A6%B8%E0%A7%83%E0%A6%B7%E0%A7%8D%E0%A6%9F%20%E0%A6%B8%E0%A6%BF%E0%A6%9F%E0%A6%BF%20%E0%A6%95%E0%A6%B0%E0%A7%8D%E0%A6%AA%E0%A7%8B%E0%A6%B0%E0%A7%87%E0%A6%B6%E0%A6%A8%E0%A7%87%20%E0%A6%85%E0%A6%A8%E0%A7%8D%E0%A6%A4%E0%A6%B0%E0%A7%8D%E0%A6%AD%E0%A7%81%E0%A6%95%E0%A7%8D%E0%A6%A4%20%E0%A6%8F%E0%A6%B2%E0%A6%BE%E0%A6%95%E0%A6%BE%20%E0%A6%AC%E0%A7%8D%E0%A6%AF%E0%A6%A4%E0%A7%80%E0%A6%A4%20%E0%A6%85%E0%A6%AC%E0%A6%B6%E0%A6%BF%E0%A6%B7%E0%A7%8D%E0%A6%9F%20%E0%A6%8F%E0%A6%B2%E0%A6%BE%E0%A6%95%E0%A6%BE%20%E0%A6%B2%E0%A6%87%E0%A7%9F%E0%A6%BE%20%E0%A6%89%E0%A6%AA%E0%A6%9C%E0%A7%87%E0%A6%B2%E0%A6%BE%20%E0%A6%AA%E0%A7%81%E0%A6%A8%E0%A6%B0%E0%A7%8D%E0%A6%97%E0%A6%A0%E0%A6%A8%20%E0%A6%B8%E0%A6%82%E0%A6%95%E0%A7%8D%E0%A6%B0%E0%A6%BE%E0%A6%A8%E0%A7%8D%E0%A6%A4%20%E0%A6%A8%E0%A7%80%E0%A6%A4%E0%A6%BF%E0%A6%AE%E0%A6%BE%E0%A6%B2%E0%A6%BE.pdf\n",
            "Retrying (2/3)...\n",
            "Error downloading PDF file: 400 Client Error: Bad Request for url: http://bangladesh.gov.bd/sites/default/files/files/bangladesh.gov.bd/policy/5e7b2838_585e_4dd5_8ae2_cab18048a98b/12.%20%E0%A6%8F%E0%A6%95%20%E0%A6%89%E0%A6%AA%E0%A6%9C%E0%A7%87%E0%A6%B2%E0%A6%BE%20%E0%A6%B9%E0%A6%87%E0%A6%A4%E0%A7%87%20%E0%A6%85%E0%A6%A8%E0%A7%8D%E0%A6%AF%20%E0%A6%89%E0%A6%AA%E0%A6%9C%E0%A7%87%E0%A6%B2%E0%A6%BE%E0%A7%9F%20%E0%A6%87%E0%A6%89%E0%A6%A8%E0%A6%BF%E0%A7%9F%E0%A6%A8,%20%E0%A6%93%E0%A7%9F%E0%A6%BE%E0%A6%B0%E0%A7%8D%E0%A6%A1%20%E0%A6%B8%E0%A6%82%E0%A6%AF%E0%A7%8B%E0%A6%9C%E0%A6%A8%20%E0%A6%8F%E0%A6%AC%E0%A6%82%20%E0%A6%AC%E0%A6%BF%E0%A6%A6%E0%A7%8D%E0%A6%AF%E0%A6%AE%E0%A6%BE%E0%A6%A8%20%E0%A6%A8%E0%A6%AC%E0%A6%B8%E0%A7%83%E0%A6%B7%E0%A7%8D%E0%A6%9F%20%E0%A6%B8%E0%A6%BF%E0%A6%9F%E0%A6%BF%20%E0%A6%95%E0%A6%B0%E0%A7%8D%E0%A6%AA%E0%A7%8B%E0%A6%B0%E0%A7%87%E0%A6%B6%E0%A6%A8%E0%A7%87%20%E0%A6%85%E0%A6%A8%E0%A7%8D%E0%A6%A4%E0%A6%B0%E0%A7%8D%E0%A6%AD%E0%A7%81%E0%A6%95%E0%A7%8D%E0%A6%A4%20%E0%A6%8F%E0%A6%B2%E0%A6%BE%E0%A6%95%E0%A6%BE%20%E0%A6%AC%E0%A7%8D%E0%A6%AF%E0%A6%A4%E0%A7%80%E0%A6%A4%20%E0%A6%85%E0%A6%AC%E0%A6%B6%E0%A6%BF%E0%A6%B7%E0%A7%8D%E0%A6%9F%20%E0%A6%8F%E0%A6%B2%E0%A6%BE%E0%A6%95%E0%A6%BE%20%E0%A6%B2%E0%A6%87%E0%A7%9F%E0%A6%BE%20%E0%A6%89%E0%A6%AA%E0%A6%9C%E0%A7%87%E0%A6%B2%E0%A6%BE%20%E0%A6%AA%E0%A7%81%E0%A6%A8%E0%A6%B0%E0%A7%8D%E0%A6%97%E0%A6%A0%E0%A6%A8%20%E0%A6%B8%E0%A6%82%E0%A6%95%E0%A7%8D%E0%A6%B0%E0%A6%BE%E0%A6%A8%E0%A7%8D%E0%A6%A4%20%E0%A6%A8%E0%A7%80%E0%A6%A4%E0%A6%BF%E0%A6%AE%E0%A6%BE%E0%A6%B2%E0%A6%BE.pdf\n",
            "Retrying (3/3)...\n"
          ]
        },
        {
          "output_type": "stream",
          "name": "stderr",
          "text": [
            "\rDownloading PDF files:  43%|████▎     | 97/227 [02:03<04:34,  2.12s/it]"
          ]
        },
        {
          "output_type": "stream",
          "name": "stdout",
          "text": [
            "PDF file 'pdf_files/_নির্দেশমালা_২০১৪.pdf' already exists. Skipping download.\n",
            "PDF file 'pdf_files/8. প্রাথমিক স্তরে বিনামূল্যে পাঠ্যপুস্তক বিতরন নীতিমালা.pdf' already exists. Skipping download.\n",
            "PDF file 'pdf_files/96. জাতীয় তথ্য ব্যবস্থাপনা নীতিমালা (খসড়া), ২০১৪.pdf' already exists. Skipping download.\n",
            "PDF file 'pdf_files/71. সিআইপি(শিল্প) নির্বাচন নীতিমালা-২০১৪.pdf' already exists. Skipping download.\n",
            "Error downloading PDF file: 400 Client Error: Bad Request for url: http://bangladesh.gov.bd/sites/default/files/files/bangladesh.gov.bd/policy/5c7715e5_2aa1_4958_93a0_4acce1fa70c9/102.%20%E0%A6%A4%E0%A6%A5%E0%A7%8D%E0%A6%AF%20%E0%A6%93%20%E0%A6%AF%E0%A7%8B%E0%A6%97%E0%A6%BE%E0%A6%AF%E0%A7%8B%E0%A6%97%20%E0%A6%AA%E0%A7%8D%E0%A6%B0%E0%A6%AF%E0%A7%81%E0%A6%95%E0%A7%8D%E0%A6%A4%E0%A6%BF%20%E0%A6%96%E0%A6%BE%E0%A6%A4%E0%A7%87%20%E0%A6%97%E0%A6%AC%E0%A7%87%E0%A6%B7%E0%A6%A3%E0%A6%BE%E0%A6%B0%20%E0%A6%9C%E0%A6%A8%E0%A7%8D%E0%A6%AF%20%E0%A6%AB%E0%A7%87%E0%A6%B2%E0%A7%8B%E0%A6%B6%E0%A6%BF%E0%A6%AA%20%E0%A6%93%20%E0%A6%AC%E0%A7%83%E0%A6%A4%E0%A7%8D%E0%A6%A4%E0%A6%BF%20%E0%A6%AA%E0%A7%8D%E0%A6%B0%E0%A6%A6%E0%A6%BE%E0%A6%A8%20%E0%A6%8F%E0%A6%AC%E0%A6%82%20%E0%A6%89%E0%A6%A6%E0%A7%8D%E0%A6%AD%E0%A6%BE%E0%A6%AC%E0%A6%A8%E0%A7%80%E0%A6%AE%E0%A7%82%E0%A6%B2%E0%A6%95%20%E0%A6%95%E0%A6%BE%E0%A6%9C%E0%A7%87%E0%A6%B0%20%E0%A6%9C%E0%A6%A8%E0%A7%8D%E0%A6%AF%E0%A7%87%20%E0%A6%85%E0%A6%A8%E0%A7%81%E0%A6%A6%E0%A6%BE%E0%A6%A8%20%E0%A6%AA%E0%A7%8D%E0%A6%B0%E0%A6%A6%E0%A6%BE%E0%A6%A8%20%E0%A6%B8%E0%A6%AE%E0%A7%8D%E0%A6%AA%E0%A6%B0%E0%A7%8D%E0%A6%95%E0%A6%BF%E0%A6%A4%20(%E0%A6%B8%E0%A6%82%E0%A6%B6%E0%A7%8B%E0%A6%A7%E0%A6%BF%E0%A6%A4)%20%E0%A6%A8%E0%A7%80%E0%A6%A4%E0%A6%BF%E0%A6%AE%E0%A6%BE%E0%A6%B2%E0%A6%BE-%E0%A7%A8%E0%A7%A6%E0%A7%A7%E0%A7%A9.pdf\n",
            "Retrying (1/3)...\n",
            "Error downloading PDF file: 400 Client Error: Bad Request for url: http://bangladesh.gov.bd/sites/default/files/files/bangladesh.gov.bd/policy/5c7715e5_2aa1_4958_93a0_4acce1fa70c9/102.%20%E0%A6%A4%E0%A6%A5%E0%A7%8D%E0%A6%AF%20%E0%A6%93%20%E0%A6%AF%E0%A7%8B%E0%A6%97%E0%A6%BE%E0%A6%AF%E0%A7%8B%E0%A6%97%20%E0%A6%AA%E0%A7%8D%E0%A6%B0%E0%A6%AF%E0%A7%81%E0%A6%95%E0%A7%8D%E0%A6%A4%E0%A6%BF%20%E0%A6%96%E0%A6%BE%E0%A6%A4%E0%A7%87%20%E0%A6%97%E0%A6%AC%E0%A7%87%E0%A6%B7%E0%A6%A3%E0%A6%BE%E0%A6%B0%20%E0%A6%9C%E0%A6%A8%E0%A7%8D%E0%A6%AF%20%E0%A6%AB%E0%A7%87%E0%A6%B2%E0%A7%8B%E0%A6%B6%E0%A6%BF%E0%A6%AA%20%E0%A6%93%20%E0%A6%AC%E0%A7%83%E0%A6%A4%E0%A7%8D%E0%A6%A4%E0%A6%BF%20%E0%A6%AA%E0%A7%8D%E0%A6%B0%E0%A6%A6%E0%A6%BE%E0%A6%A8%20%E0%A6%8F%E0%A6%AC%E0%A6%82%20%E0%A6%89%E0%A6%A6%E0%A7%8D%E0%A6%AD%E0%A6%BE%E0%A6%AC%E0%A6%A8%E0%A7%80%E0%A6%AE%E0%A7%82%E0%A6%B2%E0%A6%95%20%E0%A6%95%E0%A6%BE%E0%A6%9C%E0%A7%87%E0%A6%B0%20%E0%A6%9C%E0%A6%A8%E0%A7%8D%E0%A6%AF%E0%A7%87%20%E0%A6%85%E0%A6%A8%E0%A7%81%E0%A6%A6%E0%A6%BE%E0%A6%A8%20%E0%A6%AA%E0%A7%8D%E0%A6%B0%E0%A6%A6%E0%A6%BE%E0%A6%A8%20%E0%A6%B8%E0%A6%AE%E0%A7%8D%E0%A6%AA%E0%A6%B0%E0%A7%8D%E0%A6%95%E0%A6%BF%E0%A6%A4%20(%E0%A6%B8%E0%A6%82%E0%A6%B6%E0%A7%8B%E0%A6%A7%E0%A6%BF%E0%A6%A4)%20%E0%A6%A8%E0%A7%80%E0%A6%A4%E0%A6%BF%E0%A6%AE%E0%A6%BE%E0%A6%B2%E0%A6%BE-%E0%A7%A8%E0%A7%A6%E0%A7%A7%E0%A7%A9.pdf\n",
            "Retrying (2/3)...\n",
            "Error downloading PDF file: 400 Client Error: Bad Request for url: http://bangladesh.gov.bd/sites/default/files/files/bangladesh.gov.bd/policy/5c7715e5_2aa1_4958_93a0_4acce1fa70c9/102.%20%E0%A6%A4%E0%A6%A5%E0%A7%8D%E0%A6%AF%20%E0%A6%93%20%E0%A6%AF%E0%A7%8B%E0%A6%97%E0%A6%BE%E0%A6%AF%E0%A7%8B%E0%A6%97%20%E0%A6%AA%E0%A7%8D%E0%A6%B0%E0%A6%AF%E0%A7%81%E0%A6%95%E0%A7%8D%E0%A6%A4%E0%A6%BF%20%E0%A6%96%E0%A6%BE%E0%A6%A4%E0%A7%87%20%E0%A6%97%E0%A6%AC%E0%A7%87%E0%A6%B7%E0%A6%A3%E0%A6%BE%E0%A6%B0%20%E0%A6%9C%E0%A6%A8%E0%A7%8D%E0%A6%AF%20%E0%A6%AB%E0%A7%87%E0%A6%B2%E0%A7%8B%E0%A6%B6%E0%A6%BF%E0%A6%AA%20%E0%A6%93%20%E0%A6%AC%E0%A7%83%E0%A6%A4%E0%A7%8D%E0%A6%A4%E0%A6%BF%20%E0%A6%AA%E0%A7%8D%E0%A6%B0%E0%A6%A6%E0%A6%BE%E0%A6%A8%20%E0%A6%8F%E0%A6%AC%E0%A6%82%20%E0%A6%89%E0%A6%A6%E0%A7%8D%E0%A6%AD%E0%A6%BE%E0%A6%AC%E0%A6%A8%E0%A7%80%E0%A6%AE%E0%A7%82%E0%A6%B2%E0%A6%95%20%E0%A6%95%E0%A6%BE%E0%A6%9C%E0%A7%87%E0%A6%B0%20%E0%A6%9C%E0%A6%A8%E0%A7%8D%E0%A6%AF%E0%A7%87%20%E0%A6%85%E0%A6%A8%E0%A7%81%E0%A6%A6%E0%A6%BE%E0%A6%A8%20%E0%A6%AA%E0%A7%8D%E0%A6%B0%E0%A6%A6%E0%A6%BE%E0%A6%A8%20%E0%A6%B8%E0%A6%AE%E0%A7%8D%E0%A6%AA%E0%A6%B0%E0%A7%8D%E0%A6%95%E0%A6%BF%E0%A6%A4%20(%E0%A6%B8%E0%A6%82%E0%A6%B6%E0%A7%8B%E0%A6%A7%E0%A6%BF%E0%A6%A4)%20%E0%A6%A8%E0%A7%80%E0%A6%A4%E0%A6%BF%E0%A6%AE%E0%A6%BE%E0%A6%B2%E0%A6%BE-%E0%A7%A8%E0%A7%A6%E0%A7%A7%E0%A7%A9.pdf\n",
            "Retrying (3/3)...\n"
          ]
        },
        {
          "output_type": "stream",
          "name": "stderr",
          "text": [
            "\rDownloading PDF files:  45%|████▍     | 102/227 [02:23<05:13,  2.51s/it]"
          ]
        },
        {
          "output_type": "stream",
          "name": "stdout",
          "text": [
            "PDF file 'pdf_files/91. জাতীয় সমবায় নীতি, ২০১২.pdf' already exists. Skipping download.\n",
            "PDF file 'pdf_files/105. জাতীয় প্রবীণ নীতিমালা ২০১৩.pdf' already exists. Skipping download.\n",
            "PDF file 'pdf_files/ক্ষুদ্রসেচ নীতিমালা.pdf' already exists. Skipping download.\n",
            "PDF file 'pdf_files/58. জাতীয় চিংড়ি নীতিমালা-২০১৪.pdf' already exists. Skipping download.\n",
            "PDF file 'pdf_files/101. তথ্য নিরাপত্তা পলিসি গাইডলাইন (বাংলা ও ইংরেজী ভার্সন).pdf' already exists. Skipping download.\n",
            "PDF file 'pdf_files/138. জাতীয় বিজ্ঞান ও প্রযুক্তি ফেলোশিপ নীতিমালা-২০১৩.pdf' already exists. Skipping download.\n",
            "PDF file 'pdf_files/114. শিশুর প্রারম্ভিক যত্ন ও বিকাশে সমন্বিত নীতি-২০১৩.pdf' already exists. Skipping download.\n",
            "PDF file 'pdf_files/79. জাতীয় পেশাগত স্বাস্থ্য সেইফটি নীতিমালা ২০১৩.pdf' already exists. Skipping download.\n",
            "PDF file 'pdf_files/MPO Policy.pdf' already exists. Skipping download.\n",
            "PDF file 'pdf_files/60. চিংড়ি প্লট ইজারা, ইজারা নবায়ন, ব্যবস্থাপনা ও উন্নয়ন নীতিমালা, ২০১৩.pdf' already exists. Skipping download.\n",
            "PDF file 'pdf_files/কৃষি নীতি ২০১৩.pdf' already exists. Skipping download.\n",
            "PDF file 'pdf_files/4. রাজস্ব বাজেটে মেরামত সংস্কার নীতিমালা.pdf' already exists. Skipping download.\n",
            "PDF file 'pdf_files/141. কাজের বিনিময়ে খাদ্য বাস্তবায়ন নীতিমালা.pdf' already exists. Skipping download.\n",
            "PDF file 'pdf_files/9. প্রাথমিক বিদ্যালয়ের শিক্ষক নিয়োগ নীতিমালা.pdf' already exists. Skipping download.\n",
            "Error downloading PDF file: 400 Client Error: Bad Request for url: http://bangladesh.gov.bd/sites/default/files/files/bangladesh.gov.bd/policy/af587384_55e9_47a4_99ac_8d09628b8df0/137.%20%E0%A6%AC%E0%A6%BF%E0%A6%9C%E0%A7%8D%E0%A6%9E%E0%A6%BE%E0%A6%A8%E0%A6%B8%E0%A7%87%E0%A6%AC%E0%A7%80%20%E0%A6%B8%E0%A6%82%E0%A6%B8%E0%A7%8D%E0%A6%A5%E0%A6%BE%20%E0%A6%93%20%E0%A6%AC%E0%A6%BF%E0%A6%9C%E0%A7%8D%E0%A6%9E%E0%A6%BE%E0%A6%A8%E0%A6%AD%E0%A6%BF%E0%A6%A4%E0%A7%8D%E0%A6%A4%E0%A6%BF%E0%A6%95%20%E0%A6%AA%E0%A7%87%E0%A6%B6%E0%A6%BE%E0%A6%9C%E0%A7%80%E0%A6%AC%E0%A6%BF%E0%A6%95%E0%A7%87%20%E0%A6%86%E0%A6%B0%E0%A7%8D%E0%A6%A5%E0%A6%BF%E0%A6%95%20%E0%A6%85%E0%A6%A8%E0%A7%81%E0%A6%A6%E0%A6%BE%E0%A6%A8%20%E0%A6%AA%E0%A7%8D%E0%A6%B0%E0%A6%A6%E0%A6%BE%E0%A6%A8%20%E0%A6%B8%E0%A6%82%E0%A6%95%E0%A7%8D%E0%A6%B0%E0%A6%BE%E0%A6%A8%E0%A7%8D%E0%A6%A4%20%E0%A6%A8%E0%A7%80%E0%A6%A4%E0%A6%BF%E0%A6%AE%E0%A6%BE%E0%A6%B2%E0%A6%BE(%E0%A6%B8%E0%A6%82%E0%A6%B6%E0%A7%8B%E0%A6%A7%E0%A6%BF%E0%A6%A4).pdf\n",
            "Retrying (1/3)...\n",
            "Error downloading PDF file: 400 Client Error: Bad Request for url: http://bangladesh.gov.bd/sites/default/files/files/bangladesh.gov.bd/policy/af587384_55e9_47a4_99ac_8d09628b8df0/137.%20%E0%A6%AC%E0%A6%BF%E0%A6%9C%E0%A7%8D%E0%A6%9E%E0%A6%BE%E0%A6%A8%E0%A6%B8%E0%A7%87%E0%A6%AC%E0%A7%80%20%E0%A6%B8%E0%A6%82%E0%A6%B8%E0%A7%8D%E0%A6%A5%E0%A6%BE%20%E0%A6%93%20%E0%A6%AC%E0%A6%BF%E0%A6%9C%E0%A7%8D%E0%A6%9E%E0%A6%BE%E0%A6%A8%E0%A6%AD%E0%A6%BF%E0%A6%A4%E0%A7%8D%E0%A6%A4%E0%A6%BF%E0%A6%95%20%E0%A6%AA%E0%A7%87%E0%A6%B6%E0%A6%BE%E0%A6%9C%E0%A7%80%E0%A6%AC%E0%A6%BF%E0%A6%95%E0%A7%87%20%E0%A6%86%E0%A6%B0%E0%A7%8D%E0%A6%A5%E0%A6%BF%E0%A6%95%20%E0%A6%85%E0%A6%A8%E0%A7%81%E0%A6%A6%E0%A6%BE%E0%A6%A8%20%E0%A6%AA%E0%A7%8D%E0%A6%B0%E0%A6%A6%E0%A6%BE%E0%A6%A8%20%E0%A6%B8%E0%A6%82%E0%A6%95%E0%A7%8D%E0%A6%B0%E0%A6%BE%E0%A6%A8%E0%A7%8D%E0%A6%A4%20%E0%A6%A8%E0%A7%80%E0%A6%A4%E0%A6%BF%E0%A6%AE%E0%A6%BE%E0%A6%B2%E0%A6%BE(%E0%A6%B8%E0%A6%82%E0%A6%B6%E0%A7%8B%E0%A6%A7%E0%A6%BF%E0%A6%A4).pdf\n",
            "Retrying (2/3)...\n",
            "Error downloading PDF file: 400 Client Error: Bad Request for url: http://bangladesh.gov.bd/sites/default/files/files/bangladesh.gov.bd/policy/af587384_55e9_47a4_99ac_8d09628b8df0/137.%20%E0%A6%AC%E0%A6%BF%E0%A6%9C%E0%A7%8D%E0%A6%9E%E0%A6%BE%E0%A6%A8%E0%A6%B8%E0%A7%87%E0%A6%AC%E0%A7%80%20%E0%A6%B8%E0%A6%82%E0%A6%B8%E0%A7%8D%E0%A6%A5%E0%A6%BE%20%E0%A6%93%20%E0%A6%AC%E0%A6%BF%E0%A6%9C%E0%A7%8D%E0%A6%9E%E0%A6%BE%E0%A6%A8%E0%A6%AD%E0%A6%BF%E0%A6%A4%E0%A7%8D%E0%A6%A4%E0%A6%BF%E0%A6%95%20%E0%A6%AA%E0%A7%87%E0%A6%B6%E0%A6%BE%E0%A6%9C%E0%A7%80%E0%A6%AC%E0%A6%BF%E0%A6%95%E0%A7%87%20%E0%A6%86%E0%A6%B0%E0%A7%8D%E0%A6%A5%E0%A6%BF%E0%A6%95%20%E0%A6%85%E0%A6%A8%E0%A7%81%E0%A6%A6%E0%A6%BE%E0%A6%A8%20%E0%A6%AA%E0%A7%8D%E0%A6%B0%E0%A6%A6%E0%A6%BE%E0%A6%A8%20%E0%A6%B8%E0%A6%82%E0%A6%95%E0%A7%8D%E0%A6%B0%E0%A6%BE%E0%A6%A8%E0%A7%8D%E0%A6%A4%20%E0%A6%A8%E0%A7%80%E0%A6%A4%E0%A6%BF%E0%A6%AE%E0%A6%BE%E0%A6%B2%E0%A6%BE(%E0%A6%B8%E0%A6%82%E0%A6%B6%E0%A7%8B%E0%A6%A7%E0%A6%BF%E0%A6%A4).pdf\n",
            "Retrying (3/3)...\n"
          ]
        },
        {
          "output_type": "stream",
          "name": "stderr",
          "text": [
            "\rDownloading PDF files:  53%|█████▎    | 120/227 [02:42<03:09,  1.77s/it]"
          ]
        },
        {
          "output_type": "stream",
          "name": "stdout",
          "text": [
            "PDF file 'pdf_files/উদ্ভাবন, গবেষণা ও উন্নয়নমূলক প্রকল্পে অনুদান সংক্রান্ত সংশোধিত সাধারণ নীতিমালা.pdf' already exists. Skipping download.\n",
            "PDF file 'pdf_files/ethnic_minority_120516.pdf' already exists. Skipping download.\n",
            "PDF file 'pdf_files/89. জাতীয় সমবায় পুরস্কার নীতিমালা, ২০১১.pdf' already exists. Skipping download.\n",
            "PDF file 'pdf_files/136. জাতীয় বিজ্ঞান ও প্রযুক্তি নীতি-২০১১, কর্ম-পরিকল্পনা.pdf' already exists. Skipping download.\n",
            "PDF file 'pdf_files/Bangladesh-Population-Policy-2012.pdf' already exists. Skipping download.\n",
            "PDF file 'pdf_files/81. বাংলাদেশ শ্রম নীতি ২০১২.pdf' already exists. Skipping download.\n",
            "PDF file 'pdf_files/76. পাট নীতি - ২০১১.pdf' already exists. Skipping download.\n",
            "PDF file 'pdf_files/82. সরকারি জলমহাল নীতি, ২০০৯-এর সংশোধন.pdf' already exists. Skipping download.\n",
            "PDF file 'pdf_files/127. বঙ্গবন্ধু ছাত্রবৃত্তি নীতিমালা ২০১২.pdf' already exists. Skipping download.\n",
            "PDF file 'pdf_files/135. জাতীয় জীবপ্রযুক্তি নীতি-২০১২.pdf' already exists. Skipping download.\n",
            "PDF file 'pdf_files/92. জাতীয় পল্লী উন্নয়ন পদক নীতিমালা, ২০১২.pdf' already exists. Skipping download.\n",
            "PDF file 'pdf_files/70. জাতীয় লবণনীতি-২০১১.pdf' already exists. Skipping download.\n",
            "PDF file 'pdf_files/109. ‘‘কর্মজীবী ল্যাকটেটিং মাদার সহায়তা তহবিল নীতিমালা.pdf' already exists. Skipping download.\n",
            "PDF file 'pdf_files/59. নিমগাছি সমাজভিত্তিক মৎস্যচাষ ব্যবস্থাপনা নীতিমালা, ২০১১.pdf' already exists. Skipping download.\n",
            "PDF file 'pdf_files/116. জাতীয় নারী উন্নয়ন নীতি-২০১১.pdf' already exists. Skipping download.\n",
            "PDF file 'pdf_files/ডিলার নিয়োগ ও সার বিতরণ সংক্রান্ত সমন্বিত নীতিমালা-২০০৯ এর সংশোধন.pdf' already exists. Skipping download.\n",
            "PDF file 'pdf_files/115. জাতীয় শিশু নীতি ২০১১.pdf' already exists. Skipping download.\n",
            "PDF file 'pdf_files/66. Health Policy 2011.pdf' already exists. Skipping download.\n",
            "PDF file 'pdf_files/132. জাতীয় বিজ্ঞান ও প্রযুক্তি নীতি-২০১১.pdf' already exists. Skipping download.\n",
            "PDF file 'pdf_files/140. ঘূর্ণিঝড় আশ্রয়কেন্দ্র নির্মাণ, তদারকি এবং ব্যবস্হাপনা নীতিমালা ২০১১.pdf' already exists. Skipping download.\n",
            "PDF file 'pdf_files/পর্যটন নীতিমালা-২০১০.pdf' already exists. Skipping download.\n",
            "PDF file 'pdf_files/97. আইএলডিটিএস নীতিমালা.pdf' already exists. Skipping download.\n",
            "PDF file 'pdf_files/80. শিশুশ্রম নিরসন নীতিমালা ২০১০.pdf ব.pdf' already exists. Skipping download.\n",
            "Error downloading PDF file: ('Connection aborted.', ConnectionResetError(104, 'Connection reset by peer'))\n",
            "Retrying (1/3)...\n",
            "Error downloading PDF file: 400 Client Error: Bad Request for url: http://bangladesh.gov.bd/sites/default/files/files/bangladesh.gov.bd/policy/6855fb62_be4e_43c6_b448_1b63289f2d1a/126.%20%E0%A6%AF%E0%A7%81%E0%A6%A6%E0%A7%8D%E0%A6%A7%E0%A6%BE%E0%A6%B9%E0%A6%A4%20%E0%A6%AE%E0%A7%81%E0%A6%95%E0%A7%8D%E0%A6%A4%E0%A6%BF%E0%A6%AF%E0%A7%8B%E0%A6%A6%E0%A7%8D%E0%A6%A7%E0%A6%BE,%E0%A6%B6%E0%A6%B9%E0%A7%80%E0%A6%A6%20%E0%A6%93%20%E0%A6%AE%E0%A7%83%E0%A6%A4%20%E0%A6%AF%E0%A7%81%E0%A6%A6%E0%A7%8D%E0%A6%A7%E0%A6%BE%E0%A6%B9%E0%A6%A4%20%E0%A6%AE%E0%A7%81%E0%A6%95%E0%A7%8D%E0%A6%A4%E0%A6%BF%E0%A6%AF%E0%A7%8B%E0%A6%A6%E0%A7%8D%E0%A6%A7%E0%A6%BE%20%E0%A6%AA%E0%A6%B0%E0%A6%BF%E0%A6%AC%E0%A6%BE%E0%A6%B0%20%E0%A6%8F%E0%A6%AC%E0%A6%82%20%E0%A6%AC%E0%A7%80%E0%A6%B0%E0%A6%B6%E0%A7%8D%E0%A6%B0%E0%A7%87%E0%A6%B7%E0%A7%8D%E0%A6%A0%20%E0%A6%93%20%E0%A6%A4%E0%A6%BE%E0%A6%B0%E0%A6%BE%E0%A6%AE%E0%A6%A8%20%E0%A6%AC%E0%A7%80%E0%A6%B0%E0%A6%AA%E0%A7%8D%E0%A6%B0%E0%A6%A4%E0%A7%80%E0%A6%95%20%E0%A6%AA%E0%A6%B0%E0%A6%BF%E0%A6%AC%E0%A6%BE%E0%A6%B0%E0%A7%87%E0%A6%B0%20%E0%A6%B8%E0%A6%A6%E0%A6%B8%E0%A7%8D%E0%A6%AF%E0%A6%A6%E0%A7%87%E0%A6%B0%20%E0%A6%B0%E0%A7%87%E0%A6%B6%E0%A6%A8%20%E0%A6%A8%E0%A7%80%E0%A6%A4%E0%A6%BF%E0%A6%AE%E0%A6%BE%E0%A6%B2%E0%A6%BE,%E0%A7%A8%E0%A7%A6%E0%A7%A6%E0%A7%AF.pdf\n",
            "Retrying (2/3)...\n",
            "Error downloading PDF file: 400 Client Error: Bad Request for url: http://bangladesh.gov.bd/sites/default/files/files/bangladesh.gov.bd/policy/6855fb62_be4e_43c6_b448_1b63289f2d1a/126.%20%E0%A6%AF%E0%A7%81%E0%A6%A6%E0%A7%8D%E0%A6%A7%E0%A6%BE%E0%A6%B9%E0%A6%A4%20%E0%A6%AE%E0%A7%81%E0%A6%95%E0%A7%8D%E0%A6%A4%E0%A6%BF%E0%A6%AF%E0%A7%8B%E0%A6%A6%E0%A7%8D%E0%A6%A7%E0%A6%BE,%E0%A6%B6%E0%A6%B9%E0%A7%80%E0%A6%A6%20%E0%A6%93%20%E0%A6%AE%E0%A7%83%E0%A6%A4%20%E0%A6%AF%E0%A7%81%E0%A6%A6%E0%A7%8D%E0%A6%A7%E0%A6%BE%E0%A6%B9%E0%A6%A4%20%E0%A6%AE%E0%A7%81%E0%A6%95%E0%A7%8D%E0%A6%A4%E0%A6%BF%E0%A6%AF%E0%A7%8B%E0%A6%A6%E0%A7%8D%E0%A6%A7%E0%A6%BE%20%E0%A6%AA%E0%A6%B0%E0%A6%BF%E0%A6%AC%E0%A6%BE%E0%A6%B0%20%E0%A6%8F%E0%A6%AC%E0%A6%82%20%E0%A6%AC%E0%A7%80%E0%A6%B0%E0%A6%B6%E0%A7%8D%E0%A6%B0%E0%A7%87%E0%A6%B7%E0%A7%8D%E0%A6%A0%20%E0%A6%93%20%E0%A6%A4%E0%A6%BE%E0%A6%B0%E0%A6%BE%E0%A6%AE%E0%A6%A8%20%E0%A6%AC%E0%A7%80%E0%A6%B0%E0%A6%AA%E0%A7%8D%E0%A6%B0%E0%A6%A4%E0%A7%80%E0%A6%95%20%E0%A6%AA%E0%A6%B0%E0%A6%BF%E0%A6%AC%E0%A6%BE%E0%A6%B0%E0%A7%87%E0%A6%B0%20%E0%A6%B8%E0%A6%A6%E0%A6%B8%E0%A7%8D%E0%A6%AF%E0%A6%A6%E0%A7%87%E0%A6%B0%20%E0%A6%B0%E0%A7%87%E0%A6%B6%E0%A6%A8%20%E0%A6%A8%E0%A7%80%E0%A6%A4%E0%A6%BF%E0%A6%AE%E0%A6%BE%E0%A6%B2%E0%A6%BE,%E0%A7%A8%E0%A7%A6%E0%A7%A6%E0%A7%AF.pdf\n",
            "Retrying (3/3)...\n"
          ]
        },
        {
          "output_type": "stream",
          "name": "stderr",
          "text": [
            "Downloading PDF files: 100%|██████████| 227/227 [03:02<00:00,  1.24it/s]\n"
          ]
        },
        {
          "output_type": "stream",
          "name": "stdout",
          "text": [
            "PDF file 'pdf_files/শিক্ষানীতি ২০১০.pdf' already exists. Skipping download.\n",
            "PDF file 'pdf_files/133. বেসরকারি শিক্ষা প্রতিষ্ঠান ও বিজ্ঞান ক্লাবসমূহে আর্থিক অনুদানের সাধারণ নীতিমালা.pdf' already exists. Skipping download.\n",
            "PDF file 'pdf_files/120. জাতীয় যুব পুরস্কার নীতিমালা-২০১০.pdf' already exists. Skipping download.\n",
            "PDF file 'pdf_files/37. অভ্যন্তরীণ খাদ্যশস্য সংগ্রহ নীতিমালা, ২০১০.pdf' already exists. Skipping download.\n",
            "PDF file 'pdf_files/ও স্বল্পমেয়াদী ফসলের জাত ও প্রযুক্তি উদ্ভাবন বিষয়ক নীতিমালা.pdf' already exists. Skipping download.\n",
            "PDF file 'pdf_files/সার্ভিস নীতিমালা.pdf' already exists. Skipping download.\n",
            "PDF file 'pdf_files/83. সরকারি জলমহাল নীতি, ২০০৯.pdf' already exists. Skipping download.\n",
            "PDF file 'pdf_files/99. ব্রডব্যান্ড নীতিমালা.pdf' already exists. Skipping download.\n",
            "PDF file 'pdf_files/ডিলার নিয়োগ ও সার বিতরণ সংক্রান্ত সমন্বিত নীতিমালা-২০০৯.pdf' already exists. Skipping download.\n",
            "PDF file 'pdf_files/64. আউটসোর্সিং সংক্রান্ত নীতিমালা.pdf' already exists. Skipping download.\n",
            "PDF file 'pdf_files/45. স্মল পাওয়ার পলিসি.pdf' already exists. Skipping download.\n",
            "PDF file 'pdf_files/44. বাংলাদেশের নবায়নযোগ্য জ্বালানি নীতিমালা.pdf' already exists. Skipping download.\n",
            "PDF file 'pdf_files/48. বিদ্যুৎ খাতে বেসরকারী অংশগ্রহণ বৃদ্ধি নীতিমালা.pdf' already exists. Skipping download.\n",
            "PDF file 'pdf_files/35. খাদ্যশস্য চলাচল নীতিমালা,২০০৮.pdf' already exists. Skipping download.\n",
            "PDF file 'pdf_files/75. বিজেসি'র সম্পত্তি বিক্রয় নীতিমালা-২০০৮.pdf' already exists. Skipping download.\n",
            "PDF file 'pdf_files/62. জাতীয় পোল্ট্রি উন্নয়ন নীতিমালা, ২০০৮.pdf' already exists. Skipping download.\n",
            "PDF file 'pdf_files/47. Policy Guidelines for Power Purchase from Captive Power Plant.pdf' already exists. Skipping download.\n",
            "PDF file 'pdf_files/67. ভিসা নীতিমালা.pdf' already exists. Skipping download.\n",
            "PDF file 'pdf_files/36. জাতীয় খাদ্য নীতি, ২০০৬.pdf' already exists. Skipping download.\n",
            "PDF file 'pdf_files/118. কোস্টাল জোন পলিসি ২০০৫.pdf' already exists. Skipping download.\n",
            "PDF file 'pdf_files/drug-policy-2005-bng.pdf' already exists. Skipping download.\n",
            "PDF file 'pdf_files/103. জাতীয় সমাজকল্যাণ নীতি ২০০৫.pdf' already exists. Skipping download.\n",
            "PDF file 'pdf_files/108. নির্যাতিত, দুঃস্থ মহিলা ও শিশু কল্যাণ তহবিল নীতিমালা.pdf' already exists. Skipping download.\n",
            "PDF file 'pdf_files/49. ন্যাশনাল এনার্জি পলিসি।.pdf' already exists. Skipping download.\n",
            "PDF file 'pdf_files/93. সমবায় সমিতি নীতিমালা, ২০০৪.pdf' already exists. Skipping download.\n",
            "PDF file 'pdf_files/43. বাংলাদেশের বেসরকারী পাওয়ার জেনারেশন পলিসি.pdf' already exists. Skipping download.\n",
            "PDF file 'pdf_files/11. নতুন উপজেলা, থানা এবং তদন্তকেন্দ্র স্থাপনের সংশোধিত নীতিমালা.pdf' already exists. Skipping download.\n",
            "PDF file 'pdf_files/94. ক্ষুদ্র ঋণ সংক্রান্ত নীতিমালা.pdf' already exists. Skipping download.\n",
            "PDF file 'pdf_files/সমন্বিত বালাই ব্যবস্থাপনা(আইপিএম)নীতিমালা.pdf' already exists. Skipping download.\n",
            "PDF file 'pdf_files/95. জাতীয় পল্লী উন্নয়ন নীতিমালা, ২০০১.pdf' already exists. Skipping download.\n",
            "PDF file 'pdf_files/84. জাতীয় ভূমি ব্যবহার নীতি, ২০০১.pdf' already exists. Skipping download.\n",
            "PDF file 'pdf_files/13. মোটরযান ও অন্যান্য যন্রপাতি অকেযো ঘোষণাকরণ নীতিমালা.pdf' already exists. Skipping download.\n",
            "PDF file 'pdf_files/87. চিংড়ি মহাল ব্যবস্থাপনা নীতিমালা.pdf' already exists. Skipping download.\n",
            "PDF file 'pdf_files/85. হোটেল, মোটেলের জন্য সরকারি খাসজমি বন্দোবস্তের সংশোধিত নীতিমালা.pdf' already exists. Skipping download.\n",
            "PDF file 'pdf_files/86. লবন মহাল ব্যবস্থাপনা নীতিমালা.pdf' already exists. Skipping download.\n",
            "PDF file 'pdf_files/61. জাতীয় মৎস্য নীতি, ১৯৯৮.pdf' already exists. Skipping download.\n",
            "PDF file 'pdf_files/121. জাতীয় ক্রীড়া নীতি.pdf' already exists. Skipping download.\n",
            "PDF file 'pdf_files/77. বস্ত্রনীতি-১৯৯৫.pdf' already exists. Skipping download.\n",
            "PDF file 'pdf_files/104. প্রতিবন্ধী বিষয়ক জাতীয় নীতিমালা ১৯৯৫.pdf' already exists. Skipping download.\n",
            "PDF file 'pdf_files/122. ন্যাশনাল সার্ভিস পলিসি.pdf' already exists. Skipping download.\n",
            "PDF file 'pdf_files/beja_Policy.pdf' already exists. Skipping download.\n",
            "PDF file 'pdf_files/Sewing machine allocation policy.pdf' already exists. Skipping download.\n",
            "PDF file 'pdf_files/বীজ নীতি(NSP).pdf' already exists. Skipping download.\n",
            "PDF file 'pdf_files/46. ভিশন স্টেটমেন্ট পলিসি.pdf' already exists. Skipping download.\n",
            "PDF file 'pdf_files/131. বাংলাদেশ রেলওয়ে নীতিমালা.pdf' already exists. Skipping download.\n",
            "PDF file 'pdf_files/69. জাতীয় হস্ত ও কারুশিল্প নীতিমালা.pdf' already exists. Skipping download.\n",
            "PDF file 'pdf_files/price-fixation-procedure.pdf' already exists. Skipping download.\n",
            "PDF file 'pdf_files/117. জাতীয় পানি নীতি.pdf' already exists. Skipping download.\n",
            "PDF file 'pdf_files/3. প্রাথমিক শিক্ষা সমাপনী পরীক্ষা নীতিমালা.pdf' already exists. Skipping download.\n"
          ]
        },
        {
          "output_type": "stream",
          "name": "stderr",
          "text": [
            "Downloading PDF files: 100%|██████████| 68/68 [00:00<00:00, 303417.74it/s]\n",
            "Downloading PDF files: 100%|██████████| 13/13 [00:00<00:00, 20583.60it/s]\n",
            "Downloading PDF files:   0%|          | 0/24 [00:00<?, ?it/s]"
          ]
        },
        {
          "output_type": "stream",
          "name": "stdout",
          "text": [
            "PDF file 'pdf_files/gpf-rules-1979.pdf' already exists. Skipping download.\n",
            "PDF file 'pdf_files/gpf-rules-1979-correction.pdf' already exists. Skipping download.\n",
            "Error downloading PDF file: HTTPConnectionPool(host='mopa.portal.gov.bd', port=80): Max retries exceeded with url: /sites/default/files/files/mopa.portal.gov.bd/forms/006ff41c_a806_4975_99d1_574d40caca71/Editable_mopa6.pdf (Caused by ConnectTimeoutError(<urllib3.connection.HTTPConnection object at 0x7efc451db0a0>, 'Connection to mopa.portal.gov.bd timed out. (connect timeout=None)'))\n",
            "Retrying (1/3)...\n",
            "Error downloading PDF file: HTTPConnectionPool(host='mopa.portal.gov.bd', port=80): Max retries exceeded with url: /sites/default/files/files/mopa.portal.gov.bd/forms/006ff41c_a806_4975_99d1_574d40caca71/Editable_mopa6.pdf (Caused by ConnectTimeoutError(<urllib3.connection.HTTPConnection object at 0x7efc47588040>, 'Connection to mopa.portal.gov.bd timed out. (connect timeout=None)'))\n",
            "Retrying (2/3)...\n",
            "Error downloading PDF file: HTTPConnectionPool(host='mopa.portal.gov.bd', port=80): Max retries exceeded with url: /sites/default/files/files/mopa.portal.gov.bd/forms/006ff41c_a806_4975_99d1_574d40caca71/Editable_mopa6.pdf (Caused by ConnectTimeoutError(<urllib3.connection.HTTPConnection object at 0x7efc47588cd0>, 'Connection to mopa.portal.gov.bd timed out. (connect timeout=None)'))\n",
            "Retrying (3/3)...\n"
          ]
        },
        {
          "output_type": "stream",
          "name": "stderr",
          "text": [
            "\rDownloading PDF files:  42%|████▏     | 10/24 [06:43<09:25, 40.37s/it]"
          ]
        },
        {
          "output_type": "stream",
          "name": "stdout",
          "text": [
            "PDF file 'pdf_files/gpf-rules-1979.pdf' already exists. Skipping download.\n",
            "PDF file 'pdf_files/gpf-rules-1979-correction.pdf' already exists. Skipping download.\n",
            "Error downloading PDF file: HTTPConnectionPool(host='mopa.portal.gov.bd', port=80): Max retries exceeded with url: /sites/default/files/files/mopa.portal.gov.bd/forms/006ff41c_a806_4975_99d1_574d40caca71/Editable_mopa6.pdf (Caused by ConnectTimeoutError(<urllib3.connection.HTTPConnection object at 0x7efc475894b0>, 'Connection to mopa.portal.gov.bd timed out. (connect timeout=None)'))\n",
            "Retrying (1/3)...\n",
            "Error downloading PDF file: HTTPConnectionPool(host='mopa.portal.gov.bd', port=80): Max retries exceeded with url: /sites/default/files/files/mopa.portal.gov.bd/forms/006ff41c_a806_4975_99d1_574d40caca71/Editable_mopa6.pdf (Caused by ConnectTimeoutError(<urllib3.connection.HTTPConnection object at 0x7efc4758b730>, 'Connection to mopa.portal.gov.bd timed out. (connect timeout=None)'))\n",
            "Retrying (2/3)...\n",
            "Error downloading PDF file: HTTPConnectionPool(host='mopa.portal.gov.bd', port=80): Max retries exceeded with url: /sites/default/files/files/mopa.portal.gov.bd/forms/006ff41c_a806_4975_99d1_574d40caca71/Editable_mopa6.pdf (Caused by ConnectTimeoutError(<urllib3.connection.HTTPConnection object at 0x7efc451dbb50>, 'Connection to mopa.portal.gov.bd timed out. (connect timeout=None)'))\n",
            "Retrying (3/3)...\n"
          ]
        },
        {
          "output_type": "stream",
          "name": "stderr",
          "text": [
            "\rDownloading PDF files:  96%|█████████▌| 23/24 [13:29<00:34, 34.41s/it]"
          ]
        },
        {
          "output_type": "stream",
          "name": "stdout",
          "text": [
            "Error downloading PDF file: HTTPConnectionPool(host='mopa.portal.gov.bd', port=80): Max retries exceeded with url: /sites/default/files/files/mopa.portal.gov.bd/forms/006ff41c_a806_4975_99d1_574d40caca71/Editable_mopa6.pdf (Caused by ConnectTimeoutError(<urllib3.connection.HTTPConnection object at 0x7efc47589150>, 'Connection to mopa.portal.gov.bd timed out. (connect timeout=None)'))\n",
            "Retrying (1/3)...\n",
            "Error downloading PDF file: HTTPConnectionPool(host='mopa.portal.gov.bd', port=80): Max retries exceeded with url: /sites/default/files/files/mopa.portal.gov.bd/forms/006ff41c_a806_4975_99d1_574d40caca71/Editable_mopa6.pdf (Caused by ConnectTimeoutError(<urllib3.connection.HTTPConnection object at 0x7efc47588730>, 'Connection to mopa.portal.gov.bd timed out. (connect timeout=None)'))\n",
            "Retrying (2/3)...\n",
            "Error downloading PDF file: HTTPConnectionPool(host='mopa.portal.gov.bd', port=80): Max retries exceeded with url: /sites/default/files/files/mopa.portal.gov.bd/forms/006ff41c_a806_4975_99d1_574d40caca71/Editable_mopa6.pdf (Caused by ConnectTimeoutError(<urllib3.connection.HTTPConnection object at 0x7efc47588040>, 'Connection to mopa.portal.gov.bd timed out. (connect timeout=None)'))\n",
            "Retrying (3/3)...\n"
          ]
        },
        {
          "output_type": "stream",
          "name": "stderr",
          "text": [
            "Downloading PDF files: 100%|██████████| 24/24 [20:14<00:00, 50.61s/it]\n"
          ]
        },
        {
          "output_type": "stream",
          "name": "stdout",
          "text": [
            "Error accessing URL: ('Connection aborted.', RemoteDisconnected('Remote end closed connection without response'))\n"
          ]
        },
        {
          "output_type": "stream",
          "name": "stderr",
          "text": [
            "Downloading PDF files: 0it [00:00, ?it/s]\n"
          ]
        },
        {
          "output_type": "stream",
          "name": "stdout",
          "text": [
            "Error accessing URL: ('Connection aborted.', ConnectionResetError(104, 'Connection reset by peer'))\n",
            "Error accessing URL: HTTPSConnectionPool(host='teachers.gov.bd', port=443): Max retries exceeded with url: / (Caused by SSLError(SSLCertVerificationError(1, '[SSL: CERTIFICATE_VERIFY_FAILED] certificate verify failed: unable to get local issuer certificate (_ssl.c:1007)')))\n",
            "Error accessing URL: 404 Client Error: Not Found for url: http://konnect.edu.bd/public/\n"
          ]
        },
        {
          "output_type": "stream",
          "name": "stderr",
          "text": [
            "Downloading PDF files: 100%|██████████| 296/296 [00:00<00:00, 269367.32it/s]\n"
          ]
        },
        {
          "output_type": "stream",
          "name": "stdout",
          "text": [
            "PDF file 'pdf_files/visa_on_arrival_policy.pdf' already exists. Skipping download.\n",
            "PDF file 'pdf_files/nvr_policy.pdf' already exists. Skipping download.\n",
            "PDF file 'pdf_files/2023-01-05-05-21-9747e8b10b0587e449c15d4a0f8068bd.pdf' already exists. Skipping download.\n",
            "PDF file 'pdf_files/2023-01-05-07-38-c23b9fae479527101f8c190612f412a1.pdf' already exists. Skipping download.\n",
            "PDF file 'pdf_files/2022-02-16-08-14-a5610d77bc0a8977f5fa42630f5047f2.pdf' already exists. Skipping download.\n",
            "PDF file 'pdf_files/2022-02-16-08-17-50254acd8e6466331f8c10344c27ac69.pdf' already exists. Skipping download.\n",
            "PDF file 'pdf_files/2022-02-16-08-25-f46b1e361b2a7f5ed6b191064c2f74f3.pdf' already exists. Skipping download.\n"
          ]
        },
        {
          "output_type": "stream",
          "name": "stderr",
          "text": [
            "Downloading PDF files: 0it [00:00, ?it/s]\n",
            "Downloading PDF files:   0%|          | 0/164 [00:00<?, ?it/s]"
          ]
        },
        {
          "output_type": "stream",
          "name": "stdout",
          "text": [
            "PDF file 'pdf_files/03012019_1546535060.pdf' already exists. Skipping download.\n",
            "Error downloading PDF file: 404 Client Error: Not Found for url: http://imam.gov.bd/public/kitab/03012019_1546534773.pdf\n",
            "Retrying (1/3)...\n",
            "Error downloading PDF file: 404 Client Error: Not Found for url: http://imam.gov.bd/public/kitab/03012019_1546534773.pdf\n",
            "Retrying (2/3)...\n",
            "Error downloading PDF file: 404 Client Error: Not Found for url: http://imam.gov.bd/public/kitab/03012019_1546534773.pdf\n",
            "Retrying (3/3)...\n"
          ]
        },
        {
          "output_type": "stream",
          "name": "stderr",
          "text": [
            "\rDownloading PDF files:  71%|███████   | 116/164 [00:16<00:06,  7.09it/s]"
          ]
        },
        {
          "output_type": "stream",
          "name": "stdout",
          "text": [
            "PDF file 'pdf_files/03012019_1546535156.pdf' already exists. Skipping download.\n",
            "PDF file 'pdf_files/03012019_1546535267.pdf' already exists. Skipping download.\n",
            "PDF file 'pdf_files/03012019_1546535467.pdf' already exists. Skipping download.\n",
            "PDF file 'pdf_files/03012019_1546535823.pdf' already exists. Skipping download.\n",
            "PDF file 'pdf_files/03012019_1546536097.pdf' already exists. Skipping download.\n",
            "Error downloading PDF file: 404 Client Error: Not Found for url: http://imam.gov.bd/public/kitab/03012019_1546536470.pdf\n",
            "Retrying (1/3)...\n",
            "Error downloading PDF file: 404 Client Error: Not Found for url: http://imam.gov.bd/public/kitab/03012019_1546536470.pdf\n",
            "Retrying (2/3)...\n",
            "Error downloading PDF file: 404 Client Error: Not Found for url: http://imam.gov.bd/public/kitab/03012019_1546536470.pdf\n",
            "Retrying (3/3)...\n"
          ]
        },
        {
          "output_type": "stream",
          "name": "stderr",
          "text": [
            "Downloading PDF files: 100%|██████████| 164/164 [00:33<00:00,  4.94it/s]\n"
          ]
        },
        {
          "output_type": "stream",
          "name": "stdout",
          "text": [
            "PDF file 'pdf_files/03012019_1546536812.pdf' already exists. Skipping download.\n",
            "Error accessing URL: HTTPConnectionPool(host='infokosh.gov.bd', port=80): Max retries exceeded with url: / (Caused by NewConnectionError('<urllib3.connection.HTTPConnection object at 0x7efc47589d20>: Failed to establish a new connection: [Errno -2] Name or service not known'))\n"
          ]
        },
        {
          "output_type": "stream",
          "name": "stderr",
          "text": [
            "Downloading PDF files: 100%|██████████| 106/106 [00:00<00:00, 133954.87it/s]\n"
          ]
        },
        {
          "output_type": "stream",
          "name": "stdout",
          "text": [
            "Error accessing URL: ('Connection aborted.', ConnectionResetError(104, 'Connection reset by peer'))\n"
          ]
        },
        {
          "output_type": "stream",
          "name": "stderr",
          "text": [
            "Downloading PDF files: 0it [00:00, ?it/s]\n",
            "Downloading PDF files: 0it [00:00, ?it/s]\n",
            "Downloading PDF files: 100%|██████████| 15/15 [00:00<00:00, 104857.60it/s]\n",
            "Downloading PDF files: 100%|██████████| 59/59 [00:00<00:00, 267528.58it/s]\n"
          ]
        },
        {
          "output_type": "stream",
          "name": "stdout",
          "text": [
            "Error accessing URL: HTTPConnectionPool(host='edirectory.apps.portal.gov.bd', port=80): Max retries exceeded with url: / (Caused by ConnectTimeoutError(<urllib3.connection.HTTPConnection object at 0x7efc3d3e5f90>, 'Connection to edirectory.apps.portal.gov.bd timed out. (connect timeout=None)'))\n"
          ]
        },
        {
          "output_type": "stream",
          "name": "stderr",
          "text": [
            "Downloading PDF files: 100%|██████████| 194/194 [00:00<00:00, 157235.74it/s]\n"
          ]
        },
        {
          "output_type": "stream",
          "name": "stdout",
          "text": [
            "PDF file 'pdf_files/2023-05-31-09-43-9ae91c880057d930fadf7f93b1a0f0e7.pdf' already exists. Skipping download.\n",
            "PDF file 'pdf_files/2023-05-28-12-07-8e0ad839af5aaa428dd260bd63bc22c3.pdf' already exists. Skipping download.\n",
            "PDF file 'pdf_files/2023-06-20-03-21-64f988574529b02401742b5a43620451.pdf' already exists. Skipping download.\n",
            "PDF file 'pdf_files/2022-06-30-09-33-336375efb294c8aa5829fa37986ff591.pdf' already exists. Skipping download.\n",
            "PDF file 'pdf_files/2022-12-20-03-59-6f6cb1d8d5332252733777f8e2d670c6.pdf' already exists. Skipping download.\n",
            "PDF file 'pdf_files/2021-11-15-09-36-f5c540fd2a9e016165c292eda0b2a1b7.pdf' already exists. Skipping download.\n",
            "PDF file 'pdf_files/2023-01-22-06-47-15046ffa98b100230a90dd4fdfef10bc.pdf' already exists. Skipping download.\n",
            "PDF file 'pdf_files/2023-06-15-07-37-38f59ebc6819f7f28db3c8622ae4e8cf.pdf' already exists. Skipping download.\n",
            "PDF file 'pdf_files/2023-06-07-05-32-c8eccf30799aac101fd44282040e6161.pdf' already exists. Skipping download.\n",
            "PDF file 'pdf_files/2023-06-04-08-26-95e31a11b4f14a822676d65b0f6ea581.pdf' already exists. Skipping download.\n",
            "PDF file 'pdf_files/2023-05-18-09-18-c3d794905117b884c5bba9d20c54a5c6.pdf' already exists. Skipping download.\n"
          ]
        },
        {
          "output_type": "stream",
          "name": "stderr",
          "text": [
            "Downloading PDF files: 100%|██████████| 65/65 [00:00<00:00, 14125.89it/s]\n"
          ]
        },
        {
          "output_type": "stream",
          "name": "stdout",
          "text": [
            "PDF file 'pdf_files/Teacher Requirment 02,2023.pdf' already exists. Skipping download.\n",
            "PDF file 'pdf_files/Recruitment circular of MRT Line 1.pdf' already exists. Skipping download.\n",
            "PDF file 'pdf_files/Circular.pdf' already exists. Skipping download.\n",
            "PDF file 'pdf_files/Cadet_11-08-2022.pdf' already exists. Skipping download.\n",
            "PDF file 'pdf_files/InternalRecruitmentNotice.pdf' already exists. Skipping download.\n"
          ]
        },
        {
          "output_type": "stream",
          "name": "stderr",
          "text": [
            "Downloading PDF files: 100%|██████████| 80/80 [00:00<00:00, 94016.34it/s]\n",
            "Downloading PDF files: 100%|██████████| 91/91 [00:00<00:00, 314659.24it/s]\n",
            "Downloading PDF files:   0%|          | 0/227 [00:00<?, ?it/s]"
          ]
        },
        {
          "output_type": "stream",
          "name": "stdout",
          "text": [
            "PDF file 'pdf_files/বিষয়ক নির্দেশিকা.pdf' already exists. Skipping download.\n",
            "PDF file 'pdf_files/1. Gezette Notification.pdf' already exists. Skipping download.\n",
            "Error downloading PDF file: 400 Client Error: Bad Request for url: http://bangladesh.gov.bd/sites/default/files/files/bangladesh.gov.bd/policy/9ed6a427_eb7d_43be_9fff_8b8b8e196483/%E0%A6%AA%E0%A6%B0%E0%A7%8D%E0%A6%AF%E0%A6%BE%E0%A7%9F%E0%A7%87%E0%A6%B0_%E0%A6%AC%E0%A6%BF%E0%A6%AD%E0%A6%BE%E0%A6%97%E0%A7%80%E0%A7%9F_%E0%A6%86%E0%A6%9E%E0%A7%8D%E0%A6%9A%E0%A6%B2%E0%A6%BF%E0%A6%95_%E0%A6%9C%E0%A7%87%E0%A6%B2%E0%A6%BE%20%E0%A6%93%20%E0%A6%89%E0%A6%AA%E0%A6%9C%E0%A7%87%E0%A6%B2%E0%A6%BE_%E0%A6%95%E0%A6%BE%E0%A6%B0%E0%A7%8D%E0%A6%AF%E0%A6%BE%E0%A6%B2%E0%A7%9F%E0%A6%B8%E0%A6%AE%E0%A7%82%E0%A6%B9%E0%A7%87%E0%A6%B0%20%E0%A6%AC%E0%A6%BE%E0%A6%B0%E0%A7%8D%E0%A6%B7%E0%A6%BF%E0%A6%95%20%E0%A6%95%E0%A6%B0%E0%A7%8D%E0%A6%AE%E0%A6%B8%E0%A6%AE%E0%A7%8D%E0%A6%AA%E0%A6%BE%E0%A6%A6%E0%A6%A8%20%E0%A6%9A%E0%A7%81%E0%A6%95%E0%A7%8D%E0%A6%A4%E0%A6%BF%20%E0%A6%B8%E0%A6%82%E0%A6%95%E0%A7%8D%E0%A6%B0%E0%A6%BE%E0%A6%A8%E0%A7%8D%E0%A6%A4%20%E0%A6%A8%E0%A7%80%E0%A6%A4%E0%A6%BF%E0%A6%AE%E0%A6%BE%E0%A6%B2%E0%A6%BE%20%E0%A7%A8%E0%A7%A6%E0%A7%A7%E0%A7%AD-%E0%A7%A7%E0%A7%AE.compressed.pdf\n",
            "Retrying (1/3)...\n",
            "Error downloading PDF file: 400 Client Error: Bad Request for url: http://bangladesh.gov.bd/sites/default/files/files/bangladesh.gov.bd/policy/9ed6a427_eb7d_43be_9fff_8b8b8e196483/%E0%A6%AA%E0%A6%B0%E0%A7%8D%E0%A6%AF%E0%A6%BE%E0%A7%9F%E0%A7%87%E0%A6%B0_%E0%A6%AC%E0%A6%BF%E0%A6%AD%E0%A6%BE%E0%A6%97%E0%A7%80%E0%A7%9F_%E0%A6%86%E0%A6%9E%E0%A7%8D%E0%A6%9A%E0%A6%B2%E0%A6%BF%E0%A6%95_%E0%A6%9C%E0%A7%87%E0%A6%B2%E0%A6%BE%20%E0%A6%93%20%E0%A6%89%E0%A6%AA%E0%A6%9C%E0%A7%87%E0%A6%B2%E0%A6%BE_%E0%A6%95%E0%A6%BE%E0%A6%B0%E0%A7%8D%E0%A6%AF%E0%A6%BE%E0%A6%B2%E0%A7%9F%E0%A6%B8%E0%A6%AE%E0%A7%82%E0%A6%B9%E0%A7%87%E0%A6%B0%20%E0%A6%AC%E0%A6%BE%E0%A6%B0%E0%A7%8D%E0%A6%B7%E0%A6%BF%E0%A6%95%20%E0%A6%95%E0%A6%B0%E0%A7%8D%E0%A6%AE%E0%A6%B8%E0%A6%AE%E0%A7%8D%E0%A6%AA%E0%A6%BE%E0%A6%A6%E0%A6%A8%20%E0%A6%9A%E0%A7%81%E0%A6%95%E0%A7%8D%E0%A6%A4%E0%A6%BF%20%E0%A6%B8%E0%A6%82%E0%A6%95%E0%A7%8D%E0%A6%B0%E0%A6%BE%E0%A6%A8%E0%A7%8D%E0%A6%A4%20%E0%A6%A8%E0%A7%80%E0%A6%A4%E0%A6%BF%E0%A6%AE%E0%A6%BE%E0%A6%B2%E0%A6%BE%20%E0%A7%A8%E0%A7%A6%E0%A7%A7%E0%A7%AD-%E0%A7%A7%E0%A7%AE.compressed.pdf\n",
            "Retrying (2/3)...\n",
            "Error downloading PDF file: 400 Client Error: Bad Request for url: http://bangladesh.gov.bd/sites/default/files/files/bangladesh.gov.bd/policy/9ed6a427_eb7d_43be_9fff_8b8b8e196483/%E0%A6%AA%E0%A6%B0%E0%A7%8D%E0%A6%AF%E0%A6%BE%E0%A7%9F%E0%A7%87%E0%A6%B0_%E0%A6%AC%E0%A6%BF%E0%A6%AD%E0%A6%BE%E0%A6%97%E0%A7%80%E0%A7%9F_%E0%A6%86%E0%A6%9E%E0%A7%8D%E0%A6%9A%E0%A6%B2%E0%A6%BF%E0%A6%95_%E0%A6%9C%E0%A7%87%E0%A6%B2%E0%A6%BE%20%E0%A6%93%20%E0%A6%89%E0%A6%AA%E0%A6%9C%E0%A7%87%E0%A6%B2%E0%A6%BE_%E0%A6%95%E0%A6%BE%E0%A6%B0%E0%A7%8D%E0%A6%AF%E0%A6%BE%E0%A6%B2%E0%A7%9F%E0%A6%B8%E0%A6%AE%E0%A7%82%E0%A6%B9%E0%A7%87%E0%A6%B0%20%E0%A6%AC%E0%A6%BE%E0%A6%B0%E0%A7%8D%E0%A6%B7%E0%A6%BF%E0%A6%95%20%E0%A6%95%E0%A6%B0%E0%A7%8D%E0%A6%AE%E0%A6%B8%E0%A6%AE%E0%A7%8D%E0%A6%AA%E0%A6%BE%E0%A6%A6%E0%A6%A8%20%E0%A6%9A%E0%A7%81%E0%A6%95%E0%A7%8D%E0%A6%A4%E0%A6%BF%20%E0%A6%B8%E0%A6%82%E0%A6%95%E0%A7%8D%E0%A6%B0%E0%A6%BE%E0%A6%A8%E0%A7%8D%E0%A6%A4%20%E0%A6%A8%E0%A7%80%E0%A6%A4%E0%A6%BF%E0%A6%AE%E0%A6%BE%E0%A6%B2%E0%A6%BE%20%E0%A7%A8%E0%A7%A6%E0%A7%A7%E0%A7%AD-%E0%A7%A7%E0%A7%AE.compressed.pdf\n",
            "Retrying (3/3)...\n"
          ]
        },
        {
          "output_type": "stream",
          "name": "stderr",
          "text": [
            "\rDownloading PDF files:  24%|██▍       | 54/227 [00:20<01:04,  2.69it/s]"
          ]
        },
        {
          "output_type": "stream",
          "name": "stdout",
          "text": [
            "PDF file 'pdf_files/_বিভাগসমূহের_বার্ষিক_কর্মসম্পাদন_চুক্তি_সংক্রান্ত_নীতিমালা_২০১৭_১৮.compressed.pdf' already exists. Skipping download.\n",
            "PDF file 'pdf_files/2. Mukhobndh.pdf' already exists. Skipping download.\n",
            "PDF file 'pdf_files/4. Integration standard of LISF (3) (2).pdf' already exists. Skipping download.\n",
            "PDF file 'pdf_files/3.Data standard of LISF.pdf' already exists. Skipping download.\n",
            "PDF file 'pdf_files/_সংস্থাসমূহের বার্ষিক কর্মসম্পাদন চুক্তি সংক্রান্ত নীতিমালা_ ২০১৭-১৮.compressed.pdf' already exists. Skipping download.\n",
            "PDF file 'pdf_files/68. জাতীয় শিল্পনীতি- ২০১৬.pdf' already exists. Skipping download.\n",
            "PDF file 'pdf_files/50. জেন্ডার পলিসি (1).pdf' already exists. Skipping download.\n",
            "Error downloading PDF file: 400 Client Error: Bad Request for url: http://bangladesh.gov.bd/sites/default/files/files/bangladesh.gov.bd/policy/c7b9aa5f_6c2b_4344_8aef_fb1359935f59/%E0%A6%AA%E0%A6%B0%E0%A7%8D%E0%A6%AF%E0%A6%BE%E0%A7%9F%E0%A7%87%20%E0%A6%B9%E0%A6%A4%E0%A6%A6%E0%A6%B0%E0%A6%BF%E0%A6%A6%E0%A7%8D%E0%A6%B0%E0%A6%A6%E0%A7%87%E0%A6%B0%20%E0%A6%9C%E0%A6%A8%E0%A7%8D%E0%A6%AF%20%E0%A6%B8%E0%A6%B0%E0%A6%95%E0%A6%BE%E0%A6%B0%20%E0%A6%A8%E0%A6%BF%E0%A6%B0%E0%A7%8D%E0%A6%A7%E0%A6%BE%E0%A6%B0%E0%A6%BF%E0%A6%A4%20%E0%A6%AE%E0%A7%82%E0%A6%B2%E0%A7%8D%E0%A6%AF%E0%A7%87%20%E0%A6%95%E0%A6%BE%E0%A6%B0%E0%A7%8D%E0%A6%A1%E0%A7%87%E0%A6%B0%20%E0%A6%AE%E0%A6%BE%E0%A6%A7%E0%A7%8D%E0%A6%AF%E0%A6%AE%E0%A7%87%20%E0%A6%96%E0%A6%BE%E0%A6%A6%E0%A7%8D%E0%A6%AF%E0%A6%B6%E0%A6%B8%E0%A7%8D%E0%A6%AF%20%E0%A6%AC%E0%A6%BF%E0%A6%A4%E0%A6%B0%E0%A6%A3%20%E0%A6%A8%E0%A7%80%E0%A6%A4%E0%A6%BF%E0%A6%AE%E0%A6%BE%E0%A6%B2%E0%A6%BE%20%E0%A7%A8%E0%A7%A6%E0%A7%A7%E0%A7%AC.pdf\n",
            "Retrying (1/3)...\n",
            "Error downloading PDF file: 400 Client Error: Bad Request for url: http://bangladesh.gov.bd/sites/default/files/files/bangladesh.gov.bd/policy/c7b9aa5f_6c2b_4344_8aef_fb1359935f59/%E0%A6%AA%E0%A6%B0%E0%A7%8D%E0%A6%AF%E0%A6%BE%E0%A7%9F%E0%A7%87%20%E0%A6%B9%E0%A6%A4%E0%A6%A6%E0%A6%B0%E0%A6%BF%E0%A6%A6%E0%A7%8D%E0%A6%B0%E0%A6%A6%E0%A7%87%E0%A6%B0%20%E0%A6%9C%E0%A6%A8%E0%A7%8D%E0%A6%AF%20%E0%A6%B8%E0%A6%B0%E0%A6%95%E0%A6%BE%E0%A6%B0%20%E0%A6%A8%E0%A6%BF%E0%A6%B0%E0%A7%8D%E0%A6%A7%E0%A6%BE%E0%A6%B0%E0%A6%BF%E0%A6%A4%20%E0%A6%AE%E0%A7%82%E0%A6%B2%E0%A7%8D%E0%A6%AF%E0%A7%87%20%E0%A6%95%E0%A6%BE%E0%A6%B0%E0%A7%8D%E0%A6%A1%E0%A7%87%E0%A6%B0%20%E0%A6%AE%E0%A6%BE%E0%A6%A7%E0%A7%8D%E0%A6%AF%E0%A6%AE%E0%A7%87%20%E0%A6%96%E0%A6%BE%E0%A6%A6%E0%A7%8D%E0%A6%AF%E0%A6%B6%E0%A6%B8%E0%A7%8D%E0%A6%AF%20%E0%A6%AC%E0%A6%BF%E0%A6%A4%E0%A6%B0%E0%A6%A3%20%E0%A6%A8%E0%A7%80%E0%A6%A4%E0%A6%BF%E0%A6%AE%E0%A6%BE%E0%A6%B2%E0%A6%BE%20%E0%A7%A8%E0%A7%A6%E0%A7%A7%E0%A7%AC.pdf\n",
            "Retrying (2/3)...\n",
            "Error downloading PDF file: ('Connection aborted.', ConnectionResetError(104, 'Connection reset by peer'))\n",
            "Retrying (3/3)...\n"
          ]
        },
        {
          "output_type": "stream",
          "name": "stderr",
          "text": [
            "\rDownloading PDF files:  29%|██▊       | 65/227 [00:39<01:49,  1.48it/s]"
          ]
        },
        {
          "output_type": "stream",
          "name": "stdout",
          "text": [
            "PDF file 'pdf_files/119. খসড়া জাতীয় যুবনীিত ২০১৬.pdf' already exists. Skipping download.\n",
            "PDF file 'pdf_files/78. গৃহকর্মী সুরক্ষা ও কল্যাণ নীতি, ২০১৫.pdf' already exists. Skipping download.\n",
            "PDF file 'pdf_files/112. বেগম রোকেয়া পদক প্রদানের জন্য অনুসৃতব্য নীতিমালা.pdf' already exists. Skipping download.\n",
            "PDF file 'pdf_files/74. কমিউনিটি রেডিও স্থাপন, সম্প্রচার ও পরিচালনা নীতিমালা-২০১৬ (খসড়া).pdf' already exists. Skipping download.\n",
            "PDF file 'pdf_files/41. জাতীয় তথ্য ও যোগাযোগ প্রযুক্তি নীতিমালা, ২০১৫.pdf' already exists. Skipping download.\n",
            "PDF file 'pdf_files/113. জাতীয় মনোসামাজিক কাউন্সেলিং নীতিমালা ২০১৬ (খসড়া).pdf' already exists. Skipping download.\n",
            "PDF file 'pdf_files/নীতিমালা ২০১৫-২০১৮ (বাংলা).pdf' already exists. Skipping download.\n",
            "Error downloading PDF file: 400 Client Error: Bad Request for url: http://bangladesh.gov.bd/sites/default/files/files/bangladesh.gov.bd/policy/ef6013b2_a823_4e85_86d4_3d3201d0ebac/128.%20%E0%A6%AC%E0%A6%BF%E0%A6%A6%E0%A7%87%E0%A6%B6%E0%A6%B8%E0%A7%8D%E0%A6%A5%20%E0%A6%AC%E0%A6%BE%E0%A6%82%E0%A6%B2%E0%A6%BE%E0%A6%A6%E0%A7%87%E0%A6%B6%20%E0%A6%A6%E0%A7%82%E0%A6%A4%E0%A6%BE%E0%A6%AC%E0%A6%BE%E0%A6%B8%E0%A7%87%E0%A6%B0%20%E0%A6%B6%E0%A7%8D%E0%A6%B0%E0%A6%AE%20%E0%A6%89%E0%A6%87%E0%A6%82%E0%A6%B8%E0%A6%AE%E0%A7%82%E0%A6%B9%E0%A7%87%20%E0%A6%8F%20%E0%A6%AE%E0%A6%A8%E0%A7%8D%E0%A6%A4%E0%A7%8D%E0%A6%B0%E0%A6%A3%E0%A6%BE%E0%A6%B2%E0%A7%9F%E0%A7%87%E0%A6%B0%20%E0%A6%95%E0%A6%B0%E0%A7%8D%E0%A6%AE%E0%A6%95%E0%A6%B0%E0%A7%8D%E0%A6%A4%E0%A6%BE%20%E0%A6%93%20%E0%A6%95%E0%A6%B0%E0%A7%8D%E0%A6%AE%E0%A6%9A%E0%A6%BE%E0%A6%B0%E0%A7%80%20%E0%A6%AA%E0%A6%A6%E0%A6%BE%E0%A7%9F%E0%A6%A8%20%E0%A6%93%20%E0%A6%AC%E0%A6%A6%E0%A6%B2%E0%A7%80%20%E0%A6%A8%E0%A7%80%E0%A6%A4%E0%A6%BF%E0%A6%AE%E0%A6%BE%E0%A6%B2%E0%A6%BE-%E0%A7%A8%E0%A7%A6%E0%A7%A7%E0%A7%AC.pdf\n",
            "Retrying (1/3)...\n",
            "Error downloading PDF file: 400 Client Error: Bad Request for url: http://bangladesh.gov.bd/sites/default/files/files/bangladesh.gov.bd/policy/ef6013b2_a823_4e85_86d4_3d3201d0ebac/128.%20%E0%A6%AC%E0%A6%BF%E0%A6%A6%E0%A7%87%E0%A6%B6%E0%A6%B8%E0%A7%8D%E0%A6%A5%20%E0%A6%AC%E0%A6%BE%E0%A6%82%E0%A6%B2%E0%A6%BE%E0%A6%A6%E0%A7%87%E0%A6%B6%20%E0%A6%A6%E0%A7%82%E0%A6%A4%E0%A6%BE%E0%A6%AC%E0%A6%BE%E0%A6%B8%E0%A7%87%E0%A6%B0%20%E0%A6%B6%E0%A7%8D%E0%A6%B0%E0%A6%AE%20%E0%A6%89%E0%A6%87%E0%A6%82%E0%A6%B8%E0%A6%AE%E0%A7%82%E0%A6%B9%E0%A7%87%20%E0%A6%8F%20%E0%A6%AE%E0%A6%A8%E0%A7%8D%E0%A6%A4%E0%A7%8D%E0%A6%B0%E0%A6%A3%E0%A6%BE%E0%A6%B2%E0%A7%9F%E0%A7%87%E0%A6%B0%20%E0%A6%95%E0%A6%B0%E0%A7%8D%E0%A6%AE%E0%A6%95%E0%A6%B0%E0%A7%8D%E0%A6%A4%E0%A6%BE%20%E0%A6%93%20%E0%A6%95%E0%A6%B0%E0%A7%8D%E0%A6%AE%E0%A6%9A%E0%A6%BE%E0%A6%B0%E0%A7%80%20%E0%A6%AA%E0%A6%A6%E0%A6%BE%E0%A7%9F%E0%A6%A8%20%E0%A6%93%20%E0%A6%AC%E0%A6%A6%E0%A6%B2%E0%A7%80%20%E0%A6%A8%E0%A7%80%E0%A6%A4%E0%A6%BF%E0%A6%AE%E0%A6%BE%E0%A6%B2%E0%A6%BE-%E0%A7%A8%E0%A7%A6%E0%A7%A7%E0%A7%AC.pdf\n",
            "Retrying (2/3)...\n",
            "Error downloading PDF file: 400 Client Error: Bad Request for url: http://bangladesh.gov.bd/sites/default/files/files/bangladesh.gov.bd/policy/ef6013b2_a823_4e85_86d4_3d3201d0ebac/128.%20%E0%A6%AC%E0%A6%BF%E0%A6%A6%E0%A7%87%E0%A6%B6%E0%A6%B8%E0%A7%8D%E0%A6%A5%20%E0%A6%AC%E0%A6%BE%E0%A6%82%E0%A6%B2%E0%A6%BE%E0%A6%A6%E0%A7%87%E0%A6%B6%20%E0%A6%A6%E0%A7%82%E0%A6%A4%E0%A6%BE%E0%A6%AC%E0%A6%BE%E0%A6%B8%E0%A7%87%E0%A6%B0%20%E0%A6%B6%E0%A7%8D%E0%A6%B0%E0%A6%AE%20%E0%A6%89%E0%A6%87%E0%A6%82%E0%A6%B8%E0%A6%AE%E0%A7%82%E0%A6%B9%E0%A7%87%20%E0%A6%8F%20%E0%A6%AE%E0%A6%A8%E0%A7%8D%E0%A6%A4%E0%A7%8D%E0%A6%B0%E0%A6%A3%E0%A6%BE%E0%A6%B2%E0%A7%9F%E0%A7%87%E0%A6%B0%20%E0%A6%95%E0%A6%B0%E0%A7%8D%E0%A6%AE%E0%A6%95%E0%A6%B0%E0%A7%8D%E0%A6%A4%E0%A6%BE%20%E0%A6%93%20%E0%A6%95%E0%A6%B0%E0%A7%8D%E0%A6%AE%E0%A6%9A%E0%A6%BE%E0%A6%B0%E0%A7%80%20%E0%A6%AA%E0%A6%A6%E0%A6%BE%E0%A7%9F%E0%A6%A8%20%E0%A6%93%20%E0%A6%AC%E0%A6%A6%E0%A6%B2%E0%A7%80%20%E0%A6%A8%E0%A7%80%E0%A6%A4%E0%A6%BF%E0%A6%AE%E0%A6%BE%E0%A6%B2%E0%A6%BE-%E0%A7%A8%E0%A7%A6%E0%A7%A7%E0%A7%AC.pdf\n",
            "Retrying (3/3)...\n"
          ]
        },
        {
          "output_type": "stream",
          "name": "stderr",
          "text": [
            "\rDownloading PDF files:  33%|███▎      | 74/227 [00:56<02:24,  1.06it/s]"
          ]
        },
        {
          "output_type": "stream",
          "name": "stdout",
          "text": [
            "PDF file 'pdf_files/129. প্রবাসী কল্যাণ ও বৈদেশিক কর্মসংস্থান নীতিমালা - ২০১৬.pdf' already exists. Skipping download.\n",
            "PDF file 'pdf_files/65. EOI Advertisement on SME Credit Policy.pdf' already exists. Skipping download.\n",
            "PDF file 'pdf_files/98. টেলিযোগাযোগ নীতিমালা.pdf' already exists. Skipping download.\n",
            "PDF file 'pdf_files/হোটেল চিহ্নিতকরণ ও প্রত্যয়ন প্রদান সম্পর্কিত নীতিমালা.pdf' already exists. Skipping download.\n",
            "PDF file 'pdf_files/107. দরিদ্র মা’র জন্য মাতৃত্বকাল ভাতা প্রদান সংক্রান্ত নীতিমালা 2015.pdf' already exists. Skipping download.\n",
            "PDF file 'pdf_files/139. জাতীয় দুর্যোগ ব্যবস্থাপনা নীতিমালা ২০১৫.pdf' already exists. Skipping download.\n",
            "PDF file 'pdf_files/10. মোবাইল কোর্ট পরিচালনাকালে কতিপয় অনুসরণীয় বিষয়.pdf' already exists. Skipping download.\n",
            "PDF file 'pdf_files/নীতিমালা ২০১৫-২০১৮ (বাংলা).pdf' already exists. Skipping download.\n",
            "PDF file 'pdf_files/73. জাতীয় অনলাইন গণমাধ্যম নীতিমালা-২০১৫ (খসড়া).pdf' already exists. Skipping download.\n",
            "PDF file 'pdf_files/গুরুতর আহত দরিদ্র ও মেধাবী শিক্ষার্থীদের এককালীন আর্থিক অনুদান প্রদান নীতিমালা, ২০১৫.pdf' already exists. Skipping download.\n",
            "PDF file 'pdf_files/72. জাতীয় চলচ্চিত্র নীতিমালা (খসড়া).pdf' already exists. Skipping download.\n",
            "PDF file 'pdf_files/প্রণোদনা ২০১৫-১৬ঃ বাস্তবায়ন নীতিমালা.pdf' already exists. Skipping download.\n",
            "PDF file 'pdf_files/5. সরকারি প্রাথমিক বিদ্যালয়ের শিক্ষক বদলি নির্দেশিকা, ২০১৫.pdf' already exists. Skipping download.\n",
            "PDF file 'pdf_files/নীতিমালা, ২০১৫.pdf' already exists. Skipping download.\n",
            "PDF file 'pdf_files/ও মেধাবী শিক্ষার্থীদের শিক্ষা প্রতিষ্ঠানে ভর্তি নিশ্চিতকরণে আর্থিক সহায়তা নীতিমালা, ২০১৫.pdf' already exists. Skipping download.\n",
            "PDF file 'pdf_files/কৃষি সম্প্রসারণ নীতি-২০১৫ (খসড়া).pdf' already exists. Skipping download.\n",
            "Error downloading PDF file: 400 Client Error: Bad Request for url: http://bangladesh.gov.bd/sites/default/files/files/bangladesh.gov.bd/policy/aa1440ec_1b6d_4d12_8a8a_0015f267a376/7.%20%E0%A6%B8%E0%A6%B0%E0%A6%95%E0%A6%BE%E0%A6%B0%E0%A6%BF%20%E0%A6%AA%E0%A7%8D%E0%A6%B0%E0%A6%BE%E0%A6%A5%E0%A6%AE%E0%A6%BF%E0%A6%95%20%E0%A6%AC%E0%A6%BF%E0%A6%A6%E0%A7%8D%E0%A6%AF%E0%A6%BE%E0%A6%B2%E0%A7%9F%E0%A7%87%E0%A6%B0%20%E0%A6%A6%E0%A6%AA%E0%A7%8D%E0%A6%A4%E0%A6%B0%E0%A7%80-%E0%A6%95%E0%A6%BE%E0%A6%AE%20%E0%A6%AA%E0%A7%8D%E0%A6%B0%E0%A6%B9%E0%A6%B0%E0%A7%80%20%E0%A6%AA%E0%A6%A6%E0%A7%87%20%E0%A6%86%E0%A6%89%E0%A6%9F%20%E0%A6%B8%E0%A7%8B%E0%A6%B0%E0%A7%8D%E0%A6%B8%E0%A6%BF%E0%A6%82%E0%A7%9F%E0%A7%87%E0%A6%B0%20%E0%A6%AE%E0%A6%BE%E0%A6%A7%E0%A7%8D%E0%A6%AF%E0%A6%AE%E0%A7%87%20%E0%A6%9C%E0%A6%A8%E0%A6%AC%E0%A6%B2%20%E0%A6%A8%E0%A6%BF%E0%A7%9F%E0%A7%8B%E0%A6%97%E0%A7%87%E0%A6%B0%20%E0%A6%A8%E0%A7%80%E0%A6%A4%E0%A6%BF%E0%A6%AE%E0%A6%BE%E0%A6%B2%E0%A6%BE%20%E0%A6%B8%E0%A6%82%E0%A6%B6%E0%A7%8B%E0%A6%A7%E0%A6%A8.pdf\n",
            "Retrying (1/3)...\n",
            "Error downloading PDF file: 400 Client Error: Bad Request for url: http://bangladesh.gov.bd/sites/default/files/files/bangladesh.gov.bd/policy/aa1440ec_1b6d_4d12_8a8a_0015f267a376/7.%20%E0%A6%B8%E0%A6%B0%E0%A6%95%E0%A6%BE%E0%A6%B0%E0%A6%BF%20%E0%A6%AA%E0%A7%8D%E0%A6%B0%E0%A6%BE%E0%A6%A5%E0%A6%AE%E0%A6%BF%E0%A6%95%20%E0%A6%AC%E0%A6%BF%E0%A6%A6%E0%A7%8D%E0%A6%AF%E0%A6%BE%E0%A6%B2%E0%A7%9F%E0%A7%87%E0%A6%B0%20%E0%A6%A6%E0%A6%AA%E0%A7%8D%E0%A6%A4%E0%A6%B0%E0%A7%80-%E0%A6%95%E0%A6%BE%E0%A6%AE%20%E0%A6%AA%E0%A7%8D%E0%A6%B0%E0%A6%B9%E0%A6%B0%E0%A7%80%20%E0%A6%AA%E0%A6%A6%E0%A7%87%20%E0%A6%86%E0%A6%89%E0%A6%9F%20%E0%A6%B8%E0%A7%8B%E0%A6%B0%E0%A7%8D%E0%A6%B8%E0%A6%BF%E0%A6%82%E0%A7%9F%E0%A7%87%E0%A6%B0%20%E0%A6%AE%E0%A6%BE%E0%A6%A7%E0%A7%8D%E0%A6%AF%E0%A6%AE%E0%A7%87%20%E0%A6%9C%E0%A6%A8%E0%A6%AC%E0%A6%B2%20%E0%A6%A8%E0%A6%BF%E0%A7%9F%E0%A7%8B%E0%A6%97%E0%A7%87%E0%A6%B0%20%E0%A6%A8%E0%A7%80%E0%A6%A4%E0%A6%BF%E0%A6%AE%E0%A6%BE%E0%A6%B2%E0%A6%BE%20%E0%A6%B8%E0%A6%82%E0%A6%B6%E0%A7%8B%E0%A6%A7%E0%A6%A8.pdf\n",
            "Retrying (2/3)...\n",
            "Error downloading PDF file: 400 Client Error: Bad Request for url: http://bangladesh.gov.bd/sites/default/files/files/bangladesh.gov.bd/policy/aa1440ec_1b6d_4d12_8a8a_0015f267a376/7.%20%E0%A6%B8%E0%A6%B0%E0%A6%95%E0%A6%BE%E0%A6%B0%E0%A6%BF%20%E0%A6%AA%E0%A7%8D%E0%A6%B0%E0%A6%BE%E0%A6%A5%E0%A6%AE%E0%A6%BF%E0%A6%95%20%E0%A6%AC%E0%A6%BF%E0%A6%A6%E0%A7%8D%E0%A6%AF%E0%A6%BE%E0%A6%B2%E0%A7%9F%E0%A7%87%E0%A6%B0%20%E0%A6%A6%E0%A6%AA%E0%A7%8D%E0%A6%A4%E0%A6%B0%E0%A7%80-%E0%A6%95%E0%A6%BE%E0%A6%AE%20%E0%A6%AA%E0%A7%8D%E0%A6%B0%E0%A6%B9%E0%A6%B0%E0%A7%80%20%E0%A6%AA%E0%A6%A6%E0%A7%87%20%E0%A6%86%E0%A6%89%E0%A6%9F%20%E0%A6%B8%E0%A7%8B%E0%A6%B0%E0%A7%8D%E0%A6%B8%E0%A6%BF%E0%A6%82%E0%A7%9F%E0%A7%87%E0%A6%B0%20%E0%A6%AE%E0%A6%BE%E0%A6%A7%E0%A7%8D%E0%A6%AF%E0%A6%AE%E0%A7%87%20%E0%A6%9C%E0%A6%A8%E0%A6%AC%E0%A6%B2%20%E0%A6%A8%E0%A6%BF%E0%A7%9F%E0%A7%8B%E0%A6%97%E0%A7%87%E0%A6%B0%20%E0%A6%A8%E0%A7%80%E0%A6%A4%E0%A6%BF%E0%A6%AE%E0%A6%BE%E0%A6%B2%E0%A6%BE%20%E0%A6%B8%E0%A6%82%E0%A6%B6%E0%A7%8B%E0%A6%A7%E0%A6%A8.pdf\n",
            "Retrying (3/3)...\n"
          ]
        },
        {
          "output_type": "stream",
          "name": "stderr",
          "text": [
            "\rDownloading PDF files:  41%|████      | 92/227 [01:15<02:13,  1.01it/s]"
          ]
        },
        {
          "output_type": "stream",
          "name": "stdout",
          "text": [
            "Error downloading PDF file: 408 Client Error: Request Time-out for url: http://bangladesh.gov.bd/sites/default/files/files/bangladesh.gov.bd/policy/e5a77d53_8811_480c_b574_2ab7a2c7f924/124.%20%E0%A6%AE%E0%A7%81%E0%A6%95%E0%A7%8D%E0%A6%A4%E0%A6%BF%E0%A6%AF%E0%A7%8B%E0%A6%A6%E0%A7%8D%E0%A6%A7%E0%A6%BE%E0%A6%A6%E0%A7%87%E0%A6%B0%20%E0%A6%95%E0%A6%B2%E0%A7%8D%E0%A6%AF%E0%A6%BE%E0%A6%A3%E0%A7%87%20%E0%A6%A6%E0%A7%87%E0%A6%B6%E0%A7%87%E0%A6%B0%20%E0%A6%B8%E0%A6%B0%E0%A6%95%E0%A6%BE%E0%A6%B0%E0%A6%BF%20%E0%A6%B9%E0%A6%BE%E0%A6%9F-%E0%A6%AC%E0%A6%BE%E0%A6%9C%E0%A6%BE%E0%A6%B0%E0%A6%B8%E0%A6%AE%E0%A7%82%E0%A6%B9%E0%A7%87%E0%A6%B0%20%E0%A6%87%E0%A6%9C%E0%A6%BE%E0%A6%B0%E0%A6%BE%E0%A6%B2%E0%A6%AC%E0%A7%8D%E0%A6%A6%20%E0%A6%86%E0%A7%9F%E0%A7%87%E0%A6%B0%20%E0%A7%AA%25%20%E0%A6%85%E0%A6%B0%E0%A7%8D%E0%A6%A5%20%E0%A6%AC%E0%A7%8D%E0%A6%AF%E0%A7%9F%20%E0%A6%B8%E0%A6%82%E0%A6%95%E0%A7%8D%E0%A6%B0%E0%A6%BE%E0%A6%A8%E0%A7%8D%E0%A6%A4%20%E0%A6%A8%E0%A7%80%E0%A6%A4%E0%A6%BF%E0%A6%AE%E0%A6%BE%E0%A6%B2%E0%A6%BE-%E0%A7%A8%E0%A7%A6%E0%A7%A7%E0%A7%AB.pdf\n",
            "Retrying (1/3)...\n",
            "Error downloading PDF file: 408 Client Error: Request Time-out for url: http://bangladesh.gov.bd/sites/default/files/files/bangladesh.gov.bd/policy/e5a77d53_8811_480c_b574_2ab7a2c7f924/124.%20%E0%A6%AE%E0%A7%81%E0%A6%95%E0%A7%8D%E0%A6%A4%E0%A6%BF%E0%A6%AF%E0%A7%8B%E0%A6%A6%E0%A7%8D%E0%A6%A7%E0%A6%BE%E0%A6%A6%E0%A7%87%E0%A6%B0%20%E0%A6%95%E0%A6%B2%E0%A7%8D%E0%A6%AF%E0%A6%BE%E0%A6%A3%E0%A7%87%20%E0%A6%A6%E0%A7%87%E0%A6%B6%E0%A7%87%E0%A6%B0%20%E0%A6%B8%E0%A6%B0%E0%A6%95%E0%A6%BE%E0%A6%B0%E0%A6%BF%20%E0%A6%B9%E0%A6%BE%E0%A6%9F-%E0%A6%AC%E0%A6%BE%E0%A6%9C%E0%A6%BE%E0%A6%B0%E0%A6%B8%E0%A6%AE%E0%A7%82%E0%A6%B9%E0%A7%87%E0%A6%B0%20%E0%A6%87%E0%A6%9C%E0%A6%BE%E0%A6%B0%E0%A6%BE%E0%A6%B2%E0%A6%AC%E0%A7%8D%E0%A6%A6%20%E0%A6%86%E0%A7%9F%E0%A7%87%E0%A6%B0%20%E0%A7%AA%25%20%E0%A6%85%E0%A6%B0%E0%A7%8D%E0%A6%A5%20%E0%A6%AC%E0%A7%8D%E0%A6%AF%E0%A7%9F%20%E0%A6%B8%E0%A6%82%E0%A6%95%E0%A7%8D%E0%A6%B0%E0%A6%BE%E0%A6%A8%E0%A7%8D%E0%A6%A4%20%E0%A6%A8%E0%A7%80%E0%A6%A4%E0%A6%BF%E0%A6%AE%E0%A6%BE%E0%A6%B2%E0%A6%BE-%E0%A7%A8%E0%A7%A6%E0%A7%A7%E0%A7%AB.pdf\n",
            "Retrying (2/3)...\n",
            "Error downloading PDF file: 408 Client Error: Request Time-out for url: http://bangladesh.gov.bd/sites/default/files/files/bangladesh.gov.bd/policy/e5a77d53_8811_480c_b574_2ab7a2c7f924/124.%20%E0%A6%AE%E0%A7%81%E0%A6%95%E0%A7%8D%E0%A6%A4%E0%A6%BF%E0%A6%AF%E0%A7%8B%E0%A6%A6%E0%A7%8D%E0%A6%A7%E0%A6%BE%E0%A6%A6%E0%A7%87%E0%A6%B0%20%E0%A6%95%E0%A6%B2%E0%A7%8D%E0%A6%AF%E0%A6%BE%E0%A6%A3%E0%A7%87%20%E0%A6%A6%E0%A7%87%E0%A6%B6%E0%A7%87%E0%A6%B0%20%E0%A6%B8%E0%A6%B0%E0%A6%95%E0%A6%BE%E0%A6%B0%E0%A6%BF%20%E0%A6%B9%E0%A6%BE%E0%A6%9F-%E0%A6%AC%E0%A6%BE%E0%A6%9C%E0%A6%BE%E0%A6%B0%E0%A6%B8%E0%A6%AE%E0%A7%82%E0%A6%B9%E0%A7%87%E0%A6%B0%20%E0%A6%87%E0%A6%9C%E0%A6%BE%E0%A6%B0%E0%A6%BE%E0%A6%B2%E0%A6%AC%E0%A7%8D%E0%A6%A6%20%E0%A6%86%E0%A7%9F%E0%A7%87%E0%A6%B0%20%E0%A7%AA%25%20%E0%A6%85%E0%A6%B0%E0%A7%8D%E0%A6%A5%20%E0%A6%AC%E0%A7%8D%E0%A6%AF%E0%A7%9F%20%E0%A6%B8%E0%A6%82%E0%A6%95%E0%A7%8D%E0%A6%B0%E0%A6%BE%E0%A6%A8%E0%A7%8D%E0%A6%A4%20%E0%A6%A8%E0%A7%80%E0%A6%A4%E0%A6%BF%E0%A6%AE%E0%A6%BE%E0%A6%B2%E0%A6%BE-%E0%A7%A8%E0%A7%A6%E0%A7%A7%E0%A7%AB.pdf\n",
            "Retrying (3/3)...\n"
          ]
        },
        {
          "output_type": "stream",
          "name": "stderr",
          "text": [
            "\rDownloading PDF files:  41%|████      | 93/227 [01:36<03:26,  1.54s/it]"
          ]
        },
        {
          "output_type": "stream",
          "name": "stdout",
          "text": [
            "PDF file 'pdf_files/6. তথ্য অবমুক্তকরণ নীতিমালা ২০১৫.pdf' already exists. Skipping download.\n",
            "PDF file 'pdf_files/আধুনিক ফ্লাওয়ার মিল পরিচালন নীতিমালা-২০১৫.pdf' already exists. Skipping download.\n",
            "PDF file 'pdf_files/ও জনপথ অধিদপ্তরের সমন্বিত ভূমি ব্যবস্থাপনা নীতিমালা-২০১৪.pdf' already exists. Skipping download.\n",
            "Error downloading PDF file: 400 Client Error: Bad Request for url: http://bangladesh.gov.bd/sites/default/files/files/bangladesh.gov.bd/policy/5e7b2838_585e_4dd5_8ae2_cab18048a98b/12.%20%E0%A6%8F%E0%A6%95%20%E0%A6%89%E0%A6%AA%E0%A6%9C%E0%A7%87%E0%A6%B2%E0%A6%BE%20%E0%A6%B9%E0%A6%87%E0%A6%A4%E0%A7%87%20%E0%A6%85%E0%A6%A8%E0%A7%8D%E0%A6%AF%20%E0%A6%89%E0%A6%AA%E0%A6%9C%E0%A7%87%E0%A6%B2%E0%A6%BE%E0%A7%9F%20%E0%A6%87%E0%A6%89%E0%A6%A8%E0%A6%BF%E0%A7%9F%E0%A6%A8,%20%E0%A6%93%E0%A7%9F%E0%A6%BE%E0%A6%B0%E0%A7%8D%E0%A6%A1%20%E0%A6%B8%E0%A6%82%E0%A6%AF%E0%A7%8B%E0%A6%9C%E0%A6%A8%20%E0%A6%8F%E0%A6%AC%E0%A6%82%20%E0%A6%AC%E0%A6%BF%E0%A6%A6%E0%A7%8D%E0%A6%AF%E0%A6%AE%E0%A6%BE%E0%A6%A8%20%E0%A6%A8%E0%A6%AC%E0%A6%B8%E0%A7%83%E0%A6%B7%E0%A7%8D%E0%A6%9F%20%E0%A6%B8%E0%A6%BF%E0%A6%9F%E0%A6%BF%20%E0%A6%95%E0%A6%B0%E0%A7%8D%E0%A6%AA%E0%A7%8B%E0%A6%B0%E0%A7%87%E0%A6%B6%E0%A6%A8%E0%A7%87%20%E0%A6%85%E0%A6%A8%E0%A7%8D%E0%A6%A4%E0%A6%B0%E0%A7%8D%E0%A6%AD%E0%A7%81%E0%A6%95%E0%A7%8D%E0%A6%A4%20%E0%A6%8F%E0%A6%B2%E0%A6%BE%E0%A6%95%E0%A6%BE%20%E0%A6%AC%E0%A7%8D%E0%A6%AF%E0%A6%A4%E0%A7%80%E0%A6%A4%20%E0%A6%85%E0%A6%AC%E0%A6%B6%E0%A6%BF%E0%A6%B7%E0%A7%8D%E0%A6%9F%20%E0%A6%8F%E0%A6%B2%E0%A6%BE%E0%A6%95%E0%A6%BE%20%E0%A6%B2%E0%A6%87%E0%A7%9F%E0%A6%BE%20%E0%A6%89%E0%A6%AA%E0%A6%9C%E0%A7%87%E0%A6%B2%E0%A6%BE%20%E0%A6%AA%E0%A7%81%E0%A6%A8%E0%A6%B0%E0%A7%8D%E0%A6%97%E0%A6%A0%E0%A6%A8%20%E0%A6%B8%E0%A6%82%E0%A6%95%E0%A7%8D%E0%A6%B0%E0%A6%BE%E0%A6%A8%E0%A7%8D%E0%A6%A4%20%E0%A6%A8%E0%A7%80%E0%A6%A4%E0%A6%BF%E0%A6%AE%E0%A6%BE%E0%A6%B2%E0%A6%BE.pdf\n",
            "Retrying (1/3)...\n",
            "Error downloading PDF file: 400 Client Error: Bad Request for url: http://bangladesh.gov.bd/sites/default/files/files/bangladesh.gov.bd/policy/5e7b2838_585e_4dd5_8ae2_cab18048a98b/12.%20%E0%A6%8F%E0%A6%95%20%E0%A6%89%E0%A6%AA%E0%A6%9C%E0%A7%87%E0%A6%B2%E0%A6%BE%20%E0%A6%B9%E0%A6%87%E0%A6%A4%E0%A7%87%20%E0%A6%85%E0%A6%A8%E0%A7%8D%E0%A6%AF%20%E0%A6%89%E0%A6%AA%E0%A6%9C%E0%A7%87%E0%A6%B2%E0%A6%BE%E0%A7%9F%20%E0%A6%87%E0%A6%89%E0%A6%A8%E0%A6%BF%E0%A7%9F%E0%A6%A8,%20%E0%A6%93%E0%A7%9F%E0%A6%BE%E0%A6%B0%E0%A7%8D%E0%A6%A1%20%E0%A6%B8%E0%A6%82%E0%A6%AF%E0%A7%8B%E0%A6%9C%E0%A6%A8%20%E0%A6%8F%E0%A6%AC%E0%A6%82%20%E0%A6%AC%E0%A6%BF%E0%A6%A6%E0%A7%8D%E0%A6%AF%E0%A6%AE%E0%A6%BE%E0%A6%A8%20%E0%A6%A8%E0%A6%AC%E0%A6%B8%E0%A7%83%E0%A6%B7%E0%A7%8D%E0%A6%9F%20%E0%A6%B8%E0%A6%BF%E0%A6%9F%E0%A6%BF%20%E0%A6%95%E0%A6%B0%E0%A7%8D%E0%A6%AA%E0%A7%8B%E0%A6%B0%E0%A7%87%E0%A6%B6%E0%A6%A8%E0%A7%87%20%E0%A6%85%E0%A6%A8%E0%A7%8D%E0%A6%A4%E0%A6%B0%E0%A7%8D%E0%A6%AD%E0%A7%81%E0%A6%95%E0%A7%8D%E0%A6%A4%20%E0%A6%8F%E0%A6%B2%E0%A6%BE%E0%A6%95%E0%A6%BE%20%E0%A6%AC%E0%A7%8D%E0%A6%AF%E0%A6%A4%E0%A7%80%E0%A6%A4%20%E0%A6%85%E0%A6%AC%E0%A6%B6%E0%A6%BF%E0%A6%B7%E0%A7%8D%E0%A6%9F%20%E0%A6%8F%E0%A6%B2%E0%A6%BE%E0%A6%95%E0%A6%BE%20%E0%A6%B2%E0%A6%87%E0%A7%9F%E0%A6%BE%20%E0%A6%89%E0%A6%AA%E0%A6%9C%E0%A7%87%E0%A6%B2%E0%A6%BE%20%E0%A6%AA%E0%A7%81%E0%A6%A8%E0%A6%B0%E0%A7%8D%E0%A6%97%E0%A6%A0%E0%A6%A8%20%E0%A6%B8%E0%A6%82%E0%A6%95%E0%A7%8D%E0%A6%B0%E0%A6%BE%E0%A6%A8%E0%A7%8D%E0%A6%A4%20%E0%A6%A8%E0%A7%80%E0%A6%A4%E0%A6%BF%E0%A6%AE%E0%A6%BE%E0%A6%B2%E0%A6%BE.pdf\n",
            "Retrying (2/3)...\n",
            "Error downloading PDF file: 400 Client Error: Bad Request for url: http://bangladesh.gov.bd/sites/default/files/files/bangladesh.gov.bd/policy/5e7b2838_585e_4dd5_8ae2_cab18048a98b/12.%20%E0%A6%8F%E0%A6%95%20%E0%A6%89%E0%A6%AA%E0%A6%9C%E0%A7%87%E0%A6%B2%E0%A6%BE%20%E0%A6%B9%E0%A6%87%E0%A6%A4%E0%A7%87%20%E0%A6%85%E0%A6%A8%E0%A7%8D%E0%A6%AF%20%E0%A6%89%E0%A6%AA%E0%A6%9C%E0%A7%87%E0%A6%B2%E0%A6%BE%E0%A7%9F%20%E0%A6%87%E0%A6%89%E0%A6%A8%E0%A6%BF%E0%A7%9F%E0%A6%A8,%20%E0%A6%93%E0%A7%9F%E0%A6%BE%E0%A6%B0%E0%A7%8D%E0%A6%A1%20%E0%A6%B8%E0%A6%82%E0%A6%AF%E0%A7%8B%E0%A6%9C%E0%A6%A8%20%E0%A6%8F%E0%A6%AC%E0%A6%82%20%E0%A6%AC%E0%A6%BF%E0%A6%A6%E0%A7%8D%E0%A6%AF%E0%A6%AE%E0%A6%BE%E0%A6%A8%20%E0%A6%A8%E0%A6%AC%E0%A6%B8%E0%A7%83%E0%A6%B7%E0%A7%8D%E0%A6%9F%20%E0%A6%B8%E0%A6%BF%E0%A6%9F%E0%A6%BF%20%E0%A6%95%E0%A6%B0%E0%A7%8D%E0%A6%AA%E0%A7%8B%E0%A6%B0%E0%A7%87%E0%A6%B6%E0%A6%A8%E0%A7%87%20%E0%A6%85%E0%A6%A8%E0%A7%8D%E0%A6%A4%E0%A6%B0%E0%A7%8D%E0%A6%AD%E0%A7%81%E0%A6%95%E0%A7%8D%E0%A6%A4%20%E0%A6%8F%E0%A6%B2%E0%A6%BE%E0%A6%95%E0%A6%BE%20%E0%A6%AC%E0%A7%8D%E0%A6%AF%E0%A6%A4%E0%A7%80%E0%A6%A4%20%E0%A6%85%E0%A6%AC%E0%A6%B6%E0%A6%BF%E0%A6%B7%E0%A7%8D%E0%A6%9F%20%E0%A6%8F%E0%A6%B2%E0%A6%BE%E0%A6%95%E0%A6%BE%20%E0%A6%B2%E0%A6%87%E0%A7%9F%E0%A6%BE%20%E0%A6%89%E0%A6%AA%E0%A6%9C%E0%A7%87%E0%A6%B2%E0%A6%BE%20%E0%A6%AA%E0%A7%81%E0%A6%A8%E0%A6%B0%E0%A7%8D%E0%A6%97%E0%A6%A0%E0%A6%A8%20%E0%A6%B8%E0%A6%82%E0%A6%95%E0%A7%8D%E0%A6%B0%E0%A6%BE%E0%A6%A8%E0%A7%8D%E0%A6%A4%20%E0%A6%A8%E0%A7%80%E0%A6%A4%E0%A6%BF%E0%A6%AE%E0%A6%BE%E0%A6%B2%E0%A6%BE.pdf\n",
            "Retrying (3/3)...\n"
          ]
        },
        {
          "output_type": "stream",
          "name": "stderr",
          "text": [
            "\rDownloading PDF files:  43%|████▎     | 97/227 [01:56<04:24,  2.03s/it]"
          ]
        },
        {
          "output_type": "stream",
          "name": "stdout",
          "text": [
            "PDF file 'pdf_files/_নির্দেশমালা_২০১৪.pdf' already exists. Skipping download.\n",
            "PDF file 'pdf_files/8. প্রাথমিক স্তরে বিনামূল্যে পাঠ্যপুস্তক বিতরন নীতিমালা.pdf' already exists. Skipping download.\n",
            "PDF file 'pdf_files/96. জাতীয় তথ্য ব্যবস্থাপনা নীতিমালা (খসড়া), ২০১৪.pdf' already exists. Skipping download.\n",
            "PDF file 'pdf_files/71. সিআইপি(শিল্প) নির্বাচন নীতিমালা-২০১৪.pdf' already exists. Skipping download.\n",
            "Error downloading PDF file: 400 Client Error: Bad Request for url: http://bangladesh.gov.bd/sites/default/files/files/bangladesh.gov.bd/policy/5c7715e5_2aa1_4958_93a0_4acce1fa70c9/102.%20%E0%A6%A4%E0%A6%A5%E0%A7%8D%E0%A6%AF%20%E0%A6%93%20%E0%A6%AF%E0%A7%8B%E0%A6%97%E0%A6%BE%E0%A6%AF%E0%A7%8B%E0%A6%97%20%E0%A6%AA%E0%A7%8D%E0%A6%B0%E0%A6%AF%E0%A7%81%E0%A6%95%E0%A7%8D%E0%A6%A4%E0%A6%BF%20%E0%A6%96%E0%A6%BE%E0%A6%A4%E0%A7%87%20%E0%A6%97%E0%A6%AC%E0%A7%87%E0%A6%B7%E0%A6%A3%E0%A6%BE%E0%A6%B0%20%E0%A6%9C%E0%A6%A8%E0%A7%8D%E0%A6%AF%20%E0%A6%AB%E0%A7%87%E0%A6%B2%E0%A7%8B%E0%A6%B6%E0%A6%BF%E0%A6%AA%20%E0%A6%93%20%E0%A6%AC%E0%A7%83%E0%A6%A4%E0%A7%8D%E0%A6%A4%E0%A6%BF%20%E0%A6%AA%E0%A7%8D%E0%A6%B0%E0%A6%A6%E0%A6%BE%E0%A6%A8%20%E0%A6%8F%E0%A6%AC%E0%A6%82%20%E0%A6%89%E0%A6%A6%E0%A7%8D%E0%A6%AD%E0%A6%BE%E0%A6%AC%E0%A6%A8%E0%A7%80%E0%A6%AE%E0%A7%82%E0%A6%B2%E0%A6%95%20%E0%A6%95%E0%A6%BE%E0%A6%9C%E0%A7%87%E0%A6%B0%20%E0%A6%9C%E0%A6%A8%E0%A7%8D%E0%A6%AF%E0%A7%87%20%E0%A6%85%E0%A6%A8%E0%A7%81%E0%A6%A6%E0%A6%BE%E0%A6%A8%20%E0%A6%AA%E0%A7%8D%E0%A6%B0%E0%A6%A6%E0%A6%BE%E0%A6%A8%20%E0%A6%B8%E0%A6%AE%E0%A7%8D%E0%A6%AA%E0%A6%B0%E0%A7%8D%E0%A6%95%E0%A6%BF%E0%A6%A4%20(%E0%A6%B8%E0%A6%82%E0%A6%B6%E0%A7%8B%E0%A6%A7%E0%A6%BF%E0%A6%A4)%20%E0%A6%A8%E0%A7%80%E0%A6%A4%E0%A6%BF%E0%A6%AE%E0%A6%BE%E0%A6%B2%E0%A6%BE-%E0%A7%A8%E0%A7%A6%E0%A7%A7%E0%A7%A9.pdf\n",
            "Retrying (1/3)...\n",
            "Error downloading PDF file: 400 Client Error: Bad Request for url: http://bangladesh.gov.bd/sites/default/files/files/bangladesh.gov.bd/policy/5c7715e5_2aa1_4958_93a0_4acce1fa70c9/102.%20%E0%A6%A4%E0%A6%A5%E0%A7%8D%E0%A6%AF%20%E0%A6%93%20%E0%A6%AF%E0%A7%8B%E0%A6%97%E0%A6%BE%E0%A6%AF%E0%A7%8B%E0%A6%97%20%E0%A6%AA%E0%A7%8D%E0%A6%B0%E0%A6%AF%E0%A7%81%E0%A6%95%E0%A7%8D%E0%A6%A4%E0%A6%BF%20%E0%A6%96%E0%A6%BE%E0%A6%A4%E0%A7%87%20%E0%A6%97%E0%A6%AC%E0%A7%87%E0%A6%B7%E0%A6%A3%E0%A6%BE%E0%A6%B0%20%E0%A6%9C%E0%A6%A8%E0%A7%8D%E0%A6%AF%20%E0%A6%AB%E0%A7%87%E0%A6%B2%E0%A7%8B%E0%A6%B6%E0%A6%BF%E0%A6%AA%20%E0%A6%93%20%E0%A6%AC%E0%A7%83%E0%A6%A4%E0%A7%8D%E0%A6%A4%E0%A6%BF%20%E0%A6%AA%E0%A7%8D%E0%A6%B0%E0%A6%A6%E0%A6%BE%E0%A6%A8%20%E0%A6%8F%E0%A6%AC%E0%A6%82%20%E0%A6%89%E0%A6%A6%E0%A7%8D%E0%A6%AD%E0%A6%BE%E0%A6%AC%E0%A6%A8%E0%A7%80%E0%A6%AE%E0%A7%82%E0%A6%B2%E0%A6%95%20%E0%A6%95%E0%A6%BE%E0%A6%9C%E0%A7%87%E0%A6%B0%20%E0%A6%9C%E0%A6%A8%E0%A7%8D%E0%A6%AF%E0%A7%87%20%E0%A6%85%E0%A6%A8%E0%A7%81%E0%A6%A6%E0%A6%BE%E0%A6%A8%20%E0%A6%AA%E0%A7%8D%E0%A6%B0%E0%A6%A6%E0%A6%BE%E0%A6%A8%20%E0%A6%B8%E0%A6%AE%E0%A7%8D%E0%A6%AA%E0%A6%B0%E0%A7%8D%E0%A6%95%E0%A6%BF%E0%A6%A4%20(%E0%A6%B8%E0%A6%82%E0%A6%B6%E0%A7%8B%E0%A6%A7%E0%A6%BF%E0%A6%A4)%20%E0%A6%A8%E0%A7%80%E0%A6%A4%E0%A6%BF%E0%A6%AE%E0%A6%BE%E0%A6%B2%E0%A6%BE-%E0%A7%A8%E0%A7%A6%E0%A7%A7%E0%A7%A9.pdf\n",
            "Retrying (2/3)...\n",
            "Error downloading PDF file: 400 Client Error: Bad Request for url: http://bangladesh.gov.bd/sites/default/files/files/bangladesh.gov.bd/policy/5c7715e5_2aa1_4958_93a0_4acce1fa70c9/102.%20%E0%A6%A4%E0%A6%A5%E0%A7%8D%E0%A6%AF%20%E0%A6%93%20%E0%A6%AF%E0%A7%8B%E0%A6%97%E0%A6%BE%E0%A6%AF%E0%A7%8B%E0%A6%97%20%E0%A6%AA%E0%A7%8D%E0%A6%B0%E0%A6%AF%E0%A7%81%E0%A6%95%E0%A7%8D%E0%A6%A4%E0%A6%BF%20%E0%A6%96%E0%A6%BE%E0%A6%A4%E0%A7%87%20%E0%A6%97%E0%A6%AC%E0%A7%87%E0%A6%B7%E0%A6%A3%E0%A6%BE%E0%A6%B0%20%E0%A6%9C%E0%A6%A8%E0%A7%8D%E0%A6%AF%20%E0%A6%AB%E0%A7%87%E0%A6%B2%E0%A7%8B%E0%A6%B6%E0%A6%BF%E0%A6%AA%20%E0%A6%93%20%E0%A6%AC%E0%A7%83%E0%A6%A4%E0%A7%8D%E0%A6%A4%E0%A6%BF%20%E0%A6%AA%E0%A7%8D%E0%A6%B0%E0%A6%A6%E0%A6%BE%E0%A6%A8%20%E0%A6%8F%E0%A6%AC%E0%A6%82%20%E0%A6%89%E0%A6%A6%E0%A7%8D%E0%A6%AD%E0%A6%BE%E0%A6%AC%E0%A6%A8%E0%A7%80%E0%A6%AE%E0%A7%82%E0%A6%B2%E0%A6%95%20%E0%A6%95%E0%A6%BE%E0%A6%9C%E0%A7%87%E0%A6%B0%20%E0%A6%9C%E0%A6%A8%E0%A7%8D%E0%A6%AF%E0%A7%87%20%E0%A6%85%E0%A6%A8%E0%A7%81%E0%A6%A6%E0%A6%BE%E0%A6%A8%20%E0%A6%AA%E0%A7%8D%E0%A6%B0%E0%A6%A6%E0%A6%BE%E0%A6%A8%20%E0%A6%B8%E0%A6%AE%E0%A7%8D%E0%A6%AA%E0%A6%B0%E0%A7%8D%E0%A6%95%E0%A6%BF%E0%A6%A4%20(%E0%A6%B8%E0%A6%82%E0%A6%B6%E0%A7%8B%E0%A6%A7%E0%A6%BF%E0%A6%A4)%20%E0%A6%A8%E0%A7%80%E0%A6%A4%E0%A6%BF%E0%A6%AE%E0%A6%BE%E0%A6%B2%E0%A6%BE-%E0%A7%A8%E0%A7%A6%E0%A7%A7%E0%A7%A9.pdf\n",
            "Retrying (3/3)...\n"
          ]
        },
        {
          "output_type": "stream",
          "name": "stderr",
          "text": [
            "\rDownloading PDF files:  45%|████▍     | 102/227 [02:18<05:14,  2.51s/it]"
          ]
        },
        {
          "output_type": "stream",
          "name": "stdout",
          "text": [
            "PDF file 'pdf_files/91. জাতীয় সমবায় নীতি, ২০১২.pdf' already exists. Skipping download.\n",
            "PDF file 'pdf_files/105. জাতীয় প্রবীণ নীতিমালা ২০১৩.pdf' already exists. Skipping download.\n",
            "PDF file 'pdf_files/ক্ষুদ্রসেচ নীতিমালা.pdf' already exists. Skipping download.\n",
            "PDF file 'pdf_files/58. জাতীয় চিংড়ি নীতিমালা-২০১৪.pdf' already exists. Skipping download.\n",
            "PDF file 'pdf_files/101. তথ্য নিরাপত্তা পলিসি গাইডলাইন (বাংলা ও ইংরেজী ভার্সন).pdf' already exists. Skipping download.\n",
            "PDF file 'pdf_files/138. জাতীয় বিজ্ঞান ও প্রযুক্তি ফেলোশিপ নীতিমালা-২০১৩.pdf' already exists. Skipping download.\n",
            "PDF file 'pdf_files/114. শিশুর প্রারম্ভিক যত্ন ও বিকাশে সমন্বিত নীতি-২০১৩.pdf' already exists. Skipping download.\n",
            "PDF file 'pdf_files/79. জাতীয় পেশাগত স্বাস্থ্য সেইফটি নীতিমালা ২০১৩.pdf' already exists. Skipping download.\n",
            "PDF file 'pdf_files/MPO Policy.pdf' already exists. Skipping download.\n",
            "PDF file 'pdf_files/60. চিংড়ি প্লট ইজারা, ইজারা নবায়ন, ব্যবস্থাপনা ও উন্নয়ন নীতিমালা, ২০১৩.pdf' already exists. Skipping download.\n",
            "PDF file 'pdf_files/কৃষি নীতি ২০১৩.pdf' already exists. Skipping download.\n",
            "PDF file 'pdf_files/4. রাজস্ব বাজেটে মেরামত সংস্কার নীতিমালা.pdf' already exists. Skipping download.\n",
            "PDF file 'pdf_files/141. কাজের বিনিময়ে খাদ্য বাস্তবায়ন নীতিমালা.pdf' already exists. Skipping download.\n",
            "PDF file 'pdf_files/9. প্রাথমিক বিদ্যালয়ের শিক্ষক নিয়োগ নীতিমালা.pdf' already exists. Skipping download.\n",
            "Error downloading PDF file: 400 Client Error: Bad Request for url: http://bangladesh.gov.bd/sites/default/files/files/bangladesh.gov.bd/policy/af587384_55e9_47a4_99ac_8d09628b8df0/137.%20%E0%A6%AC%E0%A6%BF%E0%A6%9C%E0%A7%8D%E0%A6%9E%E0%A6%BE%E0%A6%A8%E0%A6%B8%E0%A7%87%E0%A6%AC%E0%A7%80%20%E0%A6%B8%E0%A6%82%E0%A6%B8%E0%A7%8D%E0%A6%A5%E0%A6%BE%20%E0%A6%93%20%E0%A6%AC%E0%A6%BF%E0%A6%9C%E0%A7%8D%E0%A6%9E%E0%A6%BE%E0%A6%A8%E0%A6%AD%E0%A6%BF%E0%A6%A4%E0%A7%8D%E0%A6%A4%E0%A6%BF%E0%A6%95%20%E0%A6%AA%E0%A7%87%E0%A6%B6%E0%A6%BE%E0%A6%9C%E0%A7%80%E0%A6%AC%E0%A6%BF%E0%A6%95%E0%A7%87%20%E0%A6%86%E0%A6%B0%E0%A7%8D%E0%A6%A5%E0%A6%BF%E0%A6%95%20%E0%A6%85%E0%A6%A8%E0%A7%81%E0%A6%A6%E0%A6%BE%E0%A6%A8%20%E0%A6%AA%E0%A7%8D%E0%A6%B0%E0%A6%A6%E0%A6%BE%E0%A6%A8%20%E0%A6%B8%E0%A6%82%E0%A6%95%E0%A7%8D%E0%A6%B0%E0%A6%BE%E0%A6%A8%E0%A7%8D%E0%A6%A4%20%E0%A6%A8%E0%A7%80%E0%A6%A4%E0%A6%BF%E0%A6%AE%E0%A6%BE%E0%A6%B2%E0%A6%BE(%E0%A6%B8%E0%A6%82%E0%A6%B6%E0%A7%8B%E0%A6%A7%E0%A6%BF%E0%A6%A4).pdf\n",
            "Retrying (1/3)...\n",
            "Error downloading PDF file: 400 Client Error: Bad Request for url: http://bangladesh.gov.bd/sites/default/files/files/bangladesh.gov.bd/policy/af587384_55e9_47a4_99ac_8d09628b8df0/137.%20%E0%A6%AC%E0%A6%BF%E0%A6%9C%E0%A7%8D%E0%A6%9E%E0%A6%BE%E0%A6%A8%E0%A6%B8%E0%A7%87%E0%A6%AC%E0%A7%80%20%E0%A6%B8%E0%A6%82%E0%A6%B8%E0%A7%8D%E0%A6%A5%E0%A6%BE%20%E0%A6%93%20%E0%A6%AC%E0%A6%BF%E0%A6%9C%E0%A7%8D%E0%A6%9E%E0%A6%BE%E0%A6%A8%E0%A6%AD%E0%A6%BF%E0%A6%A4%E0%A7%8D%E0%A6%A4%E0%A6%BF%E0%A6%95%20%E0%A6%AA%E0%A7%87%E0%A6%B6%E0%A6%BE%E0%A6%9C%E0%A7%80%E0%A6%AC%E0%A6%BF%E0%A6%95%E0%A7%87%20%E0%A6%86%E0%A6%B0%E0%A7%8D%E0%A6%A5%E0%A6%BF%E0%A6%95%20%E0%A6%85%E0%A6%A8%E0%A7%81%E0%A6%A6%E0%A6%BE%E0%A6%A8%20%E0%A6%AA%E0%A7%8D%E0%A6%B0%E0%A6%A6%E0%A6%BE%E0%A6%A8%20%E0%A6%B8%E0%A6%82%E0%A6%95%E0%A7%8D%E0%A6%B0%E0%A6%BE%E0%A6%A8%E0%A7%8D%E0%A6%A4%20%E0%A6%A8%E0%A7%80%E0%A6%A4%E0%A6%BF%E0%A6%AE%E0%A6%BE%E0%A6%B2%E0%A6%BE(%E0%A6%B8%E0%A6%82%E0%A6%B6%E0%A7%8B%E0%A6%A7%E0%A6%BF%E0%A6%A4).pdf\n",
            "Retrying (2/3)...\n",
            "Error downloading PDF file: 400 Client Error: Bad Request for url: http://bangladesh.gov.bd/sites/default/files/files/bangladesh.gov.bd/policy/af587384_55e9_47a4_99ac_8d09628b8df0/137.%20%E0%A6%AC%E0%A6%BF%E0%A6%9C%E0%A7%8D%E0%A6%9E%E0%A6%BE%E0%A6%A8%E0%A6%B8%E0%A7%87%E0%A6%AC%E0%A7%80%20%E0%A6%B8%E0%A6%82%E0%A6%B8%E0%A7%8D%E0%A6%A5%E0%A6%BE%20%E0%A6%93%20%E0%A6%AC%E0%A6%BF%E0%A6%9C%E0%A7%8D%E0%A6%9E%E0%A6%BE%E0%A6%A8%E0%A6%AD%E0%A6%BF%E0%A6%A4%E0%A7%8D%E0%A6%A4%E0%A6%BF%E0%A6%95%20%E0%A6%AA%E0%A7%87%E0%A6%B6%E0%A6%BE%E0%A6%9C%E0%A7%80%E0%A6%AC%E0%A6%BF%E0%A6%95%E0%A7%87%20%E0%A6%86%E0%A6%B0%E0%A7%8D%E0%A6%A5%E0%A6%BF%E0%A6%95%20%E0%A6%85%E0%A6%A8%E0%A7%81%E0%A6%A6%E0%A6%BE%E0%A6%A8%20%E0%A6%AA%E0%A7%8D%E0%A6%B0%E0%A6%A6%E0%A6%BE%E0%A6%A8%20%E0%A6%B8%E0%A6%82%E0%A6%95%E0%A7%8D%E0%A6%B0%E0%A6%BE%E0%A6%A8%E0%A7%8D%E0%A6%A4%20%E0%A6%A8%E0%A7%80%E0%A6%A4%E0%A6%BF%E0%A6%AE%E0%A6%BE%E0%A6%B2%E0%A6%BE(%E0%A6%B8%E0%A6%82%E0%A6%B6%E0%A7%8B%E0%A6%A7%E0%A6%BF%E0%A6%A4).pdf\n",
            "Retrying (3/3)...\n"
          ]
        },
        {
          "output_type": "stream",
          "name": "stderr",
          "text": [
            "\rDownloading PDF files:  53%|█████▎    | 120/227 [02:38<03:12,  1.80s/it]"
          ]
        },
        {
          "output_type": "stream",
          "name": "stdout",
          "text": [
            "PDF file 'pdf_files/উদ্ভাবন, গবেষণা ও উন্নয়নমূলক প্রকল্পে অনুদান সংক্রান্ত সংশোধিত সাধারণ নীতিমালা.pdf' already exists. Skipping download.\n",
            "PDF file 'pdf_files/ethnic_minority_120516.pdf' already exists. Skipping download.\n",
            "PDF file 'pdf_files/89. জাতীয় সমবায় পুরস্কার নীতিমালা, ২০১১.pdf' already exists. Skipping download.\n",
            "PDF file 'pdf_files/136. জাতীয় বিজ্ঞান ও প্রযুক্তি নীতি-২০১১, কর্ম-পরিকল্পনা.pdf' already exists. Skipping download.\n",
            "PDF file 'pdf_files/Bangladesh-Population-Policy-2012.pdf' already exists. Skipping download.\n",
            "PDF file 'pdf_files/81. বাংলাদেশ শ্রম নীতি ২০১২.pdf' already exists. Skipping download.\n",
            "PDF file 'pdf_files/76. পাট নীতি - ২০১১.pdf' already exists. Skipping download.\n",
            "PDF file 'pdf_files/82. সরকারি জলমহাল নীতি, ২০০৯-এর সংশোধন.pdf' already exists. Skipping download.\n",
            "PDF file 'pdf_files/127. বঙ্গবন্ধু ছাত্রবৃত্তি নীতিমালা ২০১২.pdf' already exists. Skipping download.\n",
            "PDF file 'pdf_files/135. জাতীয় জীবপ্রযুক্তি নীতি-২০১২.pdf' already exists. Skipping download.\n",
            "PDF file 'pdf_files/92. জাতীয় পল্লী উন্নয়ন পদক নীতিমালা, ২০১২.pdf' already exists. Skipping download.\n",
            "PDF file 'pdf_files/70. জাতীয় লবণনীতি-২০১১.pdf' already exists. Skipping download.\n",
            "PDF file 'pdf_files/109. ‘‘কর্মজীবী ল্যাকটেটিং মাদার সহায়তা তহবিল নীতিমালা.pdf' already exists. Skipping download.\n",
            "PDF file 'pdf_files/59. নিমগাছি সমাজভিত্তিক মৎস্যচাষ ব্যবস্থাপনা নীতিমালা, ২০১১.pdf' already exists. Skipping download.\n",
            "PDF file 'pdf_files/116. জাতীয় নারী উন্নয়ন নীতি-২০১১.pdf' already exists. Skipping download.\n",
            "PDF file 'pdf_files/ডিলার নিয়োগ ও সার বিতরণ সংক্রান্ত সমন্বিত নীতিমালা-২০০৯ এর সংশোধন.pdf' already exists. Skipping download.\n",
            "PDF file 'pdf_files/115. জাতীয় শিশু নীতি ২০১১.pdf' already exists. Skipping download.\n",
            "PDF file 'pdf_files/66. Health Policy 2011.pdf' already exists. Skipping download.\n",
            "PDF file 'pdf_files/132. জাতীয় বিজ্ঞান ও প্রযুক্তি নীতি-২০১১.pdf' already exists. Skipping download.\n",
            "PDF file 'pdf_files/140. ঘূর্ণিঝড় আশ্রয়কেন্দ্র নির্মাণ, তদারকি এবং ব্যবস্হাপনা নীতিমালা ২০১১.pdf' already exists. Skipping download.\n",
            "PDF file 'pdf_files/পর্যটন নীতিমালা-২০১০.pdf' already exists. Skipping download.\n",
            "PDF file 'pdf_files/97. আইএলডিটিএস নীতিমালা.pdf' already exists. Skipping download.\n",
            "PDF file 'pdf_files/80. শিশুশ্রম নিরসন নীতিমালা ২০১০.pdf ব.pdf' already exists. Skipping download.\n",
            "Error downloading PDF file: 400 Client Error: Bad Request for url: http://bangladesh.gov.bd/sites/default/files/files/bangladesh.gov.bd/policy/6855fb62_be4e_43c6_b448_1b63289f2d1a/126.%20%E0%A6%AF%E0%A7%81%E0%A6%A6%E0%A7%8D%E0%A6%A7%E0%A6%BE%E0%A6%B9%E0%A6%A4%20%E0%A6%AE%E0%A7%81%E0%A6%95%E0%A7%8D%E0%A6%A4%E0%A6%BF%E0%A6%AF%E0%A7%8B%E0%A6%A6%E0%A7%8D%E0%A6%A7%E0%A6%BE,%E0%A6%B6%E0%A6%B9%E0%A7%80%E0%A6%A6%20%E0%A6%93%20%E0%A6%AE%E0%A7%83%E0%A6%A4%20%E0%A6%AF%E0%A7%81%E0%A6%A6%E0%A7%8D%E0%A6%A7%E0%A6%BE%E0%A6%B9%E0%A6%A4%20%E0%A6%AE%E0%A7%81%E0%A6%95%E0%A7%8D%E0%A6%A4%E0%A6%BF%E0%A6%AF%E0%A7%8B%E0%A6%A6%E0%A7%8D%E0%A6%A7%E0%A6%BE%20%E0%A6%AA%E0%A6%B0%E0%A6%BF%E0%A6%AC%E0%A6%BE%E0%A6%B0%20%E0%A6%8F%E0%A6%AC%E0%A6%82%20%E0%A6%AC%E0%A7%80%E0%A6%B0%E0%A6%B6%E0%A7%8D%E0%A6%B0%E0%A7%87%E0%A6%B7%E0%A7%8D%E0%A6%A0%20%E0%A6%93%20%E0%A6%A4%E0%A6%BE%E0%A6%B0%E0%A6%BE%E0%A6%AE%E0%A6%A8%20%E0%A6%AC%E0%A7%80%E0%A6%B0%E0%A6%AA%E0%A7%8D%E0%A6%B0%E0%A6%A4%E0%A7%80%E0%A6%95%20%E0%A6%AA%E0%A6%B0%E0%A6%BF%E0%A6%AC%E0%A6%BE%E0%A6%B0%E0%A7%87%E0%A6%B0%20%E0%A6%B8%E0%A6%A6%E0%A6%B8%E0%A7%8D%E0%A6%AF%E0%A6%A6%E0%A7%87%E0%A6%B0%20%E0%A6%B0%E0%A7%87%E0%A6%B6%E0%A6%A8%20%E0%A6%A8%E0%A7%80%E0%A6%A4%E0%A6%BF%E0%A6%AE%E0%A6%BE%E0%A6%B2%E0%A6%BE,%E0%A7%A8%E0%A7%A6%E0%A7%A6%E0%A7%AF.pdf\n",
            "Retrying (1/3)...\n",
            "Error downloading PDF file: 400 Client Error: Bad Request for url: http://bangladesh.gov.bd/sites/default/files/files/bangladesh.gov.bd/policy/6855fb62_be4e_43c6_b448_1b63289f2d1a/126.%20%E0%A6%AF%E0%A7%81%E0%A6%A6%E0%A7%8D%E0%A6%A7%E0%A6%BE%E0%A6%B9%E0%A6%A4%20%E0%A6%AE%E0%A7%81%E0%A6%95%E0%A7%8D%E0%A6%A4%E0%A6%BF%E0%A6%AF%E0%A7%8B%E0%A6%A6%E0%A7%8D%E0%A6%A7%E0%A6%BE,%E0%A6%B6%E0%A6%B9%E0%A7%80%E0%A6%A6%20%E0%A6%93%20%E0%A6%AE%E0%A7%83%E0%A6%A4%20%E0%A6%AF%E0%A7%81%E0%A6%A6%E0%A7%8D%E0%A6%A7%E0%A6%BE%E0%A6%B9%E0%A6%A4%20%E0%A6%AE%E0%A7%81%E0%A6%95%E0%A7%8D%E0%A6%A4%E0%A6%BF%E0%A6%AF%E0%A7%8B%E0%A6%A6%E0%A7%8D%E0%A6%A7%E0%A6%BE%20%E0%A6%AA%E0%A6%B0%E0%A6%BF%E0%A6%AC%E0%A6%BE%E0%A6%B0%20%E0%A6%8F%E0%A6%AC%E0%A6%82%20%E0%A6%AC%E0%A7%80%E0%A6%B0%E0%A6%B6%E0%A7%8D%E0%A6%B0%E0%A7%87%E0%A6%B7%E0%A7%8D%E0%A6%A0%20%E0%A6%93%20%E0%A6%A4%E0%A6%BE%E0%A6%B0%E0%A6%BE%E0%A6%AE%E0%A6%A8%20%E0%A6%AC%E0%A7%80%E0%A6%B0%E0%A6%AA%E0%A7%8D%E0%A6%B0%E0%A6%A4%E0%A7%80%E0%A6%95%20%E0%A6%AA%E0%A6%B0%E0%A6%BF%E0%A6%AC%E0%A6%BE%E0%A6%B0%E0%A7%87%E0%A6%B0%20%E0%A6%B8%E0%A6%A6%E0%A6%B8%E0%A7%8D%E0%A6%AF%E0%A6%A6%E0%A7%87%E0%A6%B0%20%E0%A6%B0%E0%A7%87%E0%A6%B6%E0%A6%A8%20%E0%A6%A8%E0%A7%80%E0%A6%A4%E0%A6%BF%E0%A6%AE%E0%A6%BE%E0%A6%B2%E0%A6%BE,%E0%A7%A8%E0%A7%A6%E0%A7%A6%E0%A7%AF.pdf\n",
            "Retrying (2/3)...\n",
            "Error downloading PDF file: 400 Client Error: Bad Request for url: http://bangladesh.gov.bd/sites/default/files/files/bangladesh.gov.bd/policy/6855fb62_be4e_43c6_b448_1b63289f2d1a/126.%20%E0%A6%AF%E0%A7%81%E0%A6%A6%E0%A7%8D%E0%A6%A7%E0%A6%BE%E0%A6%B9%E0%A6%A4%20%E0%A6%AE%E0%A7%81%E0%A6%95%E0%A7%8D%E0%A6%A4%E0%A6%BF%E0%A6%AF%E0%A7%8B%E0%A6%A6%E0%A7%8D%E0%A6%A7%E0%A6%BE,%E0%A6%B6%E0%A6%B9%E0%A7%80%E0%A6%A6%20%E0%A6%93%20%E0%A6%AE%E0%A7%83%E0%A6%A4%20%E0%A6%AF%E0%A7%81%E0%A6%A6%E0%A7%8D%E0%A6%A7%E0%A6%BE%E0%A6%B9%E0%A6%A4%20%E0%A6%AE%E0%A7%81%E0%A6%95%E0%A7%8D%E0%A6%A4%E0%A6%BF%E0%A6%AF%E0%A7%8B%E0%A6%A6%E0%A7%8D%E0%A6%A7%E0%A6%BE%20%E0%A6%AA%E0%A6%B0%E0%A6%BF%E0%A6%AC%E0%A6%BE%E0%A6%B0%20%E0%A6%8F%E0%A6%AC%E0%A6%82%20%E0%A6%AC%E0%A7%80%E0%A6%B0%E0%A6%B6%E0%A7%8D%E0%A6%B0%E0%A7%87%E0%A6%B7%E0%A7%8D%E0%A6%A0%20%E0%A6%93%20%E0%A6%A4%E0%A6%BE%E0%A6%B0%E0%A6%BE%E0%A6%AE%E0%A6%A8%20%E0%A6%AC%E0%A7%80%E0%A6%B0%E0%A6%AA%E0%A7%8D%E0%A6%B0%E0%A6%A4%E0%A7%80%E0%A6%95%20%E0%A6%AA%E0%A6%B0%E0%A6%BF%E0%A6%AC%E0%A6%BE%E0%A6%B0%E0%A7%87%E0%A6%B0%20%E0%A6%B8%E0%A6%A6%E0%A6%B8%E0%A7%8D%E0%A6%AF%E0%A6%A6%E0%A7%87%E0%A6%B0%20%E0%A6%B0%E0%A7%87%E0%A6%B6%E0%A6%A8%20%E0%A6%A8%E0%A7%80%E0%A6%A4%E0%A6%BF%E0%A6%AE%E0%A6%BE%E0%A6%B2%E0%A6%BE,%E0%A7%A8%E0%A7%A6%E0%A7%A6%E0%A7%AF.pdf\n",
            "Retrying (3/3)...\n"
          ]
        },
        {
          "output_type": "stream",
          "name": "stderr",
          "text": [
            "Downloading PDF files: 100%|██████████| 227/227 [02:57<00:00,  1.28it/s]\n"
          ]
        },
        {
          "output_type": "stream",
          "name": "stdout",
          "text": [
            "PDF file 'pdf_files/শিক্ষানীতি ২০১০.pdf' already exists. Skipping download.\n",
            "PDF file 'pdf_files/133. বেসরকারি শিক্ষা প্রতিষ্ঠান ও বিজ্ঞান ক্লাবসমূহে আর্থিক অনুদানের সাধারণ নীতিমালা.pdf' already exists. Skipping download.\n",
            "PDF file 'pdf_files/120. জাতীয় যুব পুরস্কার নীতিমালা-২০১০.pdf' already exists. Skipping download.\n",
            "PDF file 'pdf_files/37. অভ্যন্তরীণ খাদ্যশস্য সংগ্রহ নীতিমালা, ২০১০.pdf' already exists. Skipping download.\n",
            "PDF file 'pdf_files/ও স্বল্পমেয়াদী ফসলের জাত ও প্রযুক্তি উদ্ভাবন বিষয়ক নীতিমালা.pdf' already exists. Skipping download.\n",
            "PDF file 'pdf_files/সার্ভিস নীতিমালা.pdf' already exists. Skipping download.\n",
            "PDF file 'pdf_files/83. সরকারি জলমহাল নীতি, ২০০৯.pdf' already exists. Skipping download.\n",
            "PDF file 'pdf_files/99. ব্রডব্যান্ড নীতিমালা.pdf' already exists. Skipping download.\n",
            "PDF file 'pdf_files/ডিলার নিয়োগ ও সার বিতরণ সংক্রান্ত সমন্বিত নীতিমালা-২০০৯.pdf' already exists. Skipping download.\n",
            "PDF file 'pdf_files/64. আউটসোর্সিং সংক্রান্ত নীতিমালা.pdf' already exists. Skipping download.\n",
            "PDF file 'pdf_files/45. স্মল পাওয়ার পলিসি.pdf' already exists. Skipping download.\n",
            "PDF file 'pdf_files/44. বাংলাদেশের নবায়নযোগ্য জ্বালানি নীতিমালা.pdf' already exists. Skipping download.\n",
            "PDF file 'pdf_files/48. বিদ্যুৎ খাতে বেসরকারী অংশগ্রহণ বৃদ্ধি নীতিমালা.pdf' already exists. Skipping download.\n",
            "PDF file 'pdf_files/35. খাদ্যশস্য চলাচল নীতিমালা,২০০৮.pdf' already exists. Skipping download.\n",
            "PDF file 'pdf_files/75. বিজেসি'র সম্পত্তি বিক্রয় নীতিমালা-২০০৮.pdf' already exists. Skipping download.\n",
            "PDF file 'pdf_files/62. জাতীয় পোল্ট্রি উন্নয়ন নীতিমালা, ২০০৮.pdf' already exists. Skipping download.\n",
            "PDF file 'pdf_files/47. Policy Guidelines for Power Purchase from Captive Power Plant.pdf' already exists. Skipping download.\n",
            "PDF file 'pdf_files/67. ভিসা নীতিমালা.pdf' already exists. Skipping download.\n",
            "PDF file 'pdf_files/36. জাতীয় খাদ্য নীতি, ২০০৬.pdf' already exists. Skipping download.\n",
            "PDF file 'pdf_files/118. কোস্টাল জোন পলিসি ২০০৫.pdf' already exists. Skipping download.\n",
            "PDF file 'pdf_files/drug-policy-2005-bng.pdf' already exists. Skipping download.\n",
            "PDF file 'pdf_files/103. জাতীয় সমাজকল্যাণ নীতি ২০০৫.pdf' already exists. Skipping download.\n",
            "PDF file 'pdf_files/108. নির্যাতিত, দুঃস্থ মহিলা ও শিশু কল্যাণ তহবিল নীতিমালা.pdf' already exists. Skipping download.\n",
            "PDF file 'pdf_files/49. ন্যাশনাল এনার্জি পলিসি।.pdf' already exists. Skipping download.\n",
            "PDF file 'pdf_files/93. সমবায় সমিতি নীতিমালা, ২০০৪.pdf' already exists. Skipping download.\n",
            "PDF file 'pdf_files/43. বাংলাদেশের বেসরকারী পাওয়ার জেনারেশন পলিসি.pdf' already exists. Skipping download.\n",
            "PDF file 'pdf_files/11. নতুন উপজেলা, থানা এবং তদন্তকেন্দ্র স্থাপনের সংশোধিত নীতিমালা.pdf' already exists. Skipping download.\n",
            "PDF file 'pdf_files/94. ক্ষুদ্র ঋণ সংক্রান্ত নীতিমালা.pdf' already exists. Skipping download.\n",
            "PDF file 'pdf_files/সমন্বিত বালাই ব্যবস্থাপনা(আইপিএম)নীতিমালা.pdf' already exists. Skipping download.\n",
            "PDF file 'pdf_files/95. জাতীয় পল্লী উন্নয়ন নীতিমালা, ২০০১.pdf' already exists. Skipping download.\n",
            "PDF file 'pdf_files/84. জাতীয় ভূমি ব্যবহার নীতি, ২০০১.pdf' already exists. Skipping download.\n",
            "PDF file 'pdf_files/13. মোটরযান ও অন্যান্য যন্রপাতি অকেযো ঘোষণাকরণ নীতিমালা.pdf' already exists. Skipping download.\n",
            "PDF file 'pdf_files/87. চিংড়ি মহাল ব্যবস্থাপনা নীতিমালা.pdf' already exists. Skipping download.\n",
            "PDF file 'pdf_files/85. হোটেল, মোটেলের জন্য সরকারি খাসজমি বন্দোবস্তের সংশোধিত নীতিমালা.pdf' already exists. Skipping download.\n",
            "PDF file 'pdf_files/86. লবন মহাল ব্যবস্থাপনা নীতিমালা.pdf' already exists. Skipping download.\n",
            "PDF file 'pdf_files/61. জাতীয় মৎস্য নীতি, ১৯৯৮.pdf' already exists. Skipping download.\n",
            "PDF file 'pdf_files/121. জাতীয় ক্রীড়া নীতি.pdf' already exists. Skipping download.\n",
            "PDF file 'pdf_files/77. বস্ত্রনীতি-১৯৯৫.pdf' already exists. Skipping download.\n",
            "PDF file 'pdf_files/104. প্রতিবন্ধী বিষয়ক জাতীয় নীতিমালা ১৯৯৫.pdf' already exists. Skipping download.\n",
            "PDF file 'pdf_files/122. ন্যাশনাল সার্ভিস পলিসি.pdf' already exists. Skipping download.\n",
            "PDF file 'pdf_files/beja_Policy.pdf' already exists. Skipping download.\n",
            "PDF file 'pdf_files/Sewing machine allocation policy.pdf' already exists. Skipping download.\n",
            "PDF file 'pdf_files/বীজ নীতি(NSP).pdf' already exists. Skipping download.\n",
            "PDF file 'pdf_files/46. ভিশন স্টেটমেন্ট পলিসি.pdf' already exists. Skipping download.\n",
            "PDF file 'pdf_files/131. বাংলাদেশ রেলওয়ে নীতিমালা.pdf' already exists. Skipping download.\n",
            "PDF file 'pdf_files/69. জাতীয় হস্ত ও কারুশিল্প নীতিমালা.pdf' already exists. Skipping download.\n",
            "PDF file 'pdf_files/price-fixation-procedure.pdf' already exists. Skipping download.\n",
            "PDF file 'pdf_files/117. জাতীয় পানি নীতি.pdf' already exists. Skipping download.\n",
            "PDF file 'pdf_files/3. প্রাথমিক শিক্ষা সমাপনী পরীক্ষা নীতিমালা.pdf' already exists. Skipping download.\n"
          ]
        },
        {
          "output_type": "stream",
          "name": "stderr",
          "text": [
            "Downloading PDF files: 100%|██████████| 68/68 [00:00<00:00, 356515.84it/s]\n",
            "Downloading PDF files: 100%|██████████| 13/13 [00:00<00:00, 15045.79it/s]\n",
            "Downloading PDF files:   0%|          | 0/24 [00:00<?, ?it/s]"
          ]
        },
        {
          "output_type": "stream",
          "name": "stdout",
          "text": [
            "PDF file 'pdf_files/gpf-rules-1979.pdf' already exists. Skipping download.\n",
            "PDF file 'pdf_files/gpf-rules-1979-correction.pdf' already exists. Skipping download.\n",
            "Error downloading PDF file: HTTPConnectionPool(host='mopa.portal.gov.bd', port=80): Max retries exceeded with url: /sites/default/files/files/mopa.portal.gov.bd/forms/006ff41c_a806_4975_99d1_574d40caca71/Editable_mopa6.pdf (Caused by ConnectTimeoutError(<urllib3.connection.HTTPConnection object at 0x7efc423a36a0>, 'Connection to mopa.portal.gov.bd timed out. (connect timeout=None)'))\n",
            "Retrying (1/3)...\n",
            "Error downloading PDF file: HTTPConnectionPool(host='mopa.portal.gov.bd', port=80): Max retries exceeded with url: /sites/default/files/files/mopa.portal.gov.bd/forms/006ff41c_a806_4975_99d1_574d40caca71/Editable_mopa6.pdf (Caused by ConnectTimeoutError(<urllib3.connection.HTTPConnection object at 0x7efc423a21d0>, 'Connection to mopa.portal.gov.bd timed out. (connect timeout=None)'))\n",
            "Retrying (2/3)...\n",
            "Error downloading PDF file: HTTPConnectionPool(host='mopa.portal.gov.bd', port=80): Max retries exceeded with url: /sites/default/files/files/mopa.portal.gov.bd/forms/006ff41c_a806_4975_99d1_574d40caca71/Editable_mopa6.pdf (Caused by ConnectTimeoutError(<urllib3.connection.HTTPConnection object at 0x7efc423a1870>, 'Connection to mopa.portal.gov.bd timed out. (connect timeout=None)'))\n",
            "Retrying (3/3)...\n"
          ]
        },
        {
          "output_type": "stream",
          "name": "stderr",
          "text": [
            "\rDownloading PDF files:  42%|████▏     | 10/24 [06:43<09:25, 40.38s/it]"
          ]
        },
        {
          "output_type": "stream",
          "name": "stdout",
          "text": [
            "PDF file 'pdf_files/gpf-rules-1979.pdf' already exists. Skipping download.\n",
            "PDF file 'pdf_files/gpf-rules-1979-correction.pdf' already exists. Skipping download.\n",
            "Error downloading PDF file: HTTPConnectionPool(host='mopa.portal.gov.bd', port=80): Max retries exceeded with url: /sites/default/files/files/mopa.portal.gov.bd/forms/006ff41c_a806_4975_99d1_574d40caca71/Editable_mopa6.pdf (Caused by ConnectTimeoutError(<urllib3.connection.HTTPConnection object at 0x7efc423a25c0>, 'Connection to mopa.portal.gov.bd timed out. (connect timeout=None)'))\n",
            "Retrying (1/3)...\n",
            "Error downloading PDF file: HTTPConnectionPool(host='mopa.portal.gov.bd', port=80): Max retries exceeded with url: /sites/default/files/files/mopa.portal.gov.bd/forms/006ff41c_a806_4975_99d1_574d40caca71/Editable_mopa6.pdf (Caused by ConnectTimeoutError(<urllib3.connection.HTTPConnection object at 0x7efc423a2bf0>, 'Connection to mopa.portal.gov.bd timed out. (connect timeout=None)'))\n",
            "Retrying (2/3)...\n",
            "Error downloading PDF file: HTTPConnectionPool(host='mopa.portal.gov.bd', port=80): Max retries exceeded with url: /sites/default/files/files/mopa.portal.gov.bd/forms/006ff41c_a806_4975_99d1_574d40caca71/Editable_mopa6.pdf (Caused by ConnectTimeoutError(<urllib3.connection.HTTPConnection object at 0x7efc41147f10>, 'Connection to mopa.portal.gov.bd timed out. (connect timeout=None)'))\n",
            "Retrying (3/3)...\n"
          ]
        },
        {
          "output_type": "stream",
          "name": "stderr",
          "text": [
            "\rDownloading PDF files:  96%|█████████▌| 23/24 [13:29<00:34, 34.41s/it]"
          ]
        },
        {
          "output_type": "stream",
          "name": "stdout",
          "text": [
            "Error downloading PDF file: HTTPConnectionPool(host='mopa.portal.gov.bd', port=80): Max retries exceeded with url: /sites/default/files/files/mopa.portal.gov.bd/forms/006ff41c_a806_4975_99d1_574d40caca71/Editable_mopa6.pdf (Caused by ConnectTimeoutError(<urllib3.connection.HTTPConnection object at 0x7efc423a2c50>, 'Connection to mopa.portal.gov.bd timed out. (connect timeout=None)'))\n",
            "Retrying (1/3)...\n",
            "Error downloading PDF file: HTTPConnectionPool(host='mopa.portal.gov.bd', port=80): Max retries exceeded with url: /sites/default/files/files/mopa.portal.gov.bd/forms/006ff41c_a806_4975_99d1_574d40caca71/Editable_mopa6.pdf (Caused by ConnectTimeoutError(<urllib3.connection.HTTPConnection object at 0x7efc423a0310>, 'Connection to mopa.portal.gov.bd timed out. (connect timeout=None)'))\n",
            "Retrying (2/3)...\n",
            "Error downloading PDF file: HTTPConnectionPool(host='mopa.portal.gov.bd', port=80): Max retries exceeded with url: /sites/default/files/files/mopa.portal.gov.bd/forms/006ff41c_a806_4975_99d1_574d40caca71/Editable_mopa6.pdf (Caused by ConnectTimeoutError(<urllib3.connection.HTTPConnection object at 0x7efc423a1660>, 'Connection to mopa.portal.gov.bd timed out. (connect timeout=None)'))\n",
            "Retrying (3/3)...\n"
          ]
        },
        {
          "output_type": "stream",
          "name": "stderr",
          "text": [
            "Downloading PDF files: 100%|██████████| 24/24 [20:14<00:00, 50.62s/it]\n"
          ]
        },
        {
          "output_type": "stream",
          "name": "stdout",
          "text": [
            "Error accessing URL: ('Connection aborted.', RemoteDisconnected('Remote end closed connection without response'))\n"
          ]
        },
        {
          "output_type": "stream",
          "name": "stderr",
          "text": [
            "Downloading PDF files: 0it [00:00, ?it/s]\n",
            "Downloading PDF files: 100%|██████████| 58/58 [00:00<00:00, 344087.17it/s]\n",
            "Downloading PDF files: 100%|██████████| 152/152 [00:00<00:00, 47432.05it/s]\n"
          ]
        },
        {
          "output_type": "stream",
          "name": "stdout",
          "text": [
            "PDF file 'pdf_files/ST_01_Eng.pdf' already exists. Skipping download.\n",
            "PDF file 'pdf_files/ST_03_Eng.pdf' already exists. Skipping download.\n",
            "PDF file 'pdf_files/ST_04_Eng.pdf' already exists. Skipping download.\n",
            "PDF file 'pdf_files/ST_05_Eng.pdf' already exists. Skipping download.\n",
            "PDF file 'pdf_files/ST_06_Eng.pdf' already exists. Skipping download.\n",
            "PDF file 'pdf_files/ST_08_Eng.pdf' already exists. Skipping download.\n",
            "PDF file 'pdf_files/ST_09_Eng.pdf' already exists. Skipping download.\n",
            "PDF file 'pdf_files/ST_10_Eng.pdf' already exists. Skipping download.\n",
            "PDF file 'pdf_files/ST_11_Eng.pdf' already exists. Skipping download.\n"
          ]
        },
        {
          "output_type": "stream",
          "name": "stderr",
          "text": [
            "Downloading PDF files: 100%|██████████| 704/704 [00:00<00:00, 219017.21it/s]\n"
          ]
        },
        {
          "output_type": "stream",
          "name": "stdout",
          "text": [
            "PDF file 'pdf_files/DSEX_DS30.pdf' already exists. Skipping download.\n",
            "PDF file 'pdf_files/DSES.pdf' already exists. Skipping download.\n",
            "PDF file 'pdf_files/DemuAct2013.pdf' already exists. Skipping download.\n",
            "PDF file 'pdf_files/Demutualization Schme.pdf' already exists. Skipping download.\n",
            "PDF file 'pdf_files/MandA.pdf' already exists. Skipping download.\n",
            "PDF file 'pdf_files/SGF-7082014130507.pdf' already exists. Skipping download.\n",
            "PDF file 'pdf_files/shortSaleReg.pdf' already exists. Skipping download.\n",
            "PDF file 'pdf_files/auto_trade.pdf' already exists. Skipping download.\n",
            "PDF file 'pdf_files/margin_rules.pdf' already exists. Skipping download.\n",
            "PDF file 'pdf_files/facilitiesForForeignInvestors.pdf' already exists. Skipping download.\n",
            "PDF file 'pdf_files/facilitiesForNRB.pdf' already exists. Skipping download.\n",
            "PDF file 'pdf_files/BHOMS_Brochure_v1.1.pdf' already exists. Skipping download.\n",
            "PDF file 'pdf_files/Introduction of DSE Data Sale Services.pdf' already exists. Skipping download.\n",
            "PDF file 'pdf_files/iMDS.pdf' already exists. Skipping download.\n",
            "PDF file 'pdf_files/EOD.pdf' already exists. Skipping download.\n",
            "PDF file 'pdf_files/venue-rent.pdf' already exists. Skipping download.\n",
            "PDF file 'pdf_files/DTA-Training-Calender-2023-2024.pdf' already exists. Skipping download.\n",
            "PDF file 'pdf_files/icald-link.pdf' already exists. Skipping download.\n",
            "PDF file 'pdf_files/CDBL_NEW_AD11.pdf' already exists. Skipping download.\n",
            "PDF file 'pdf_files/cmsf_infos.pdf' already exists. Skipping download.\n",
            "PDF file 'pdf_files/weekly_report.pdf' already exists. Skipping download.\n",
            "PDF file 'pdf_files/IM_of_Subordinated_Bond_of_BDT_1500_Million.pdf' already exists. Skipping download.\n",
            "PDF file 'pdf_files/Press Release_12.06.2022.pdf' already exists. Skipping download.\n",
            "PDF file 'pdf_files/BSEC Order on standard downward price change limit (circuit breaker).pdf' already exists. Skipping download.\n",
            "PDF file 'pdf_files/BSEC-Women-investors-education-for-free.pdf' already exists. Skipping download.\n",
            "PDF file 'pdf_files/PanelAuditos for TREC Holders.pdf' already exists. Skipping download.\n",
            "PDF file 'pdf_files/Panel_Auditors.pdf' already exists. Skipping download.\n",
            "PDF file 'pdf_files/DSE_GRI_Guidance_Document_Final.pdf' already exists. Skipping download.\n",
            "PDF file 'pdf_files/bsec.pdf' already exists. Skipping download.\n",
            "PDF file 'pdf_files/weekly_report.pdf' already exists. Skipping download.\n"
          ]
        },
        {
          "output_type": "stream",
          "name": "stderr",
          "text": [
            "\rDownloading PDF files:   0%|          | 0/119 [00:00<?, ?it/s]"
          ]
        },
        {
          "output_type": "stream",
          "name": "stdout",
          "text": [
            "Error downloading PDF file: 404 Client Error: Not Found for url: https://www.agranibank.org/rates/Rate.pdf\n",
            "Retrying (1/3)...\n",
            "Error downloading PDF file: 404 Client Error: Not Found for url: https://www.agranibank.org/rates/Rate.pdf\n",
            "Retrying (2/3)...\n",
            "Error downloading PDF file: 404 Client Error: Not Found for url: https://www.agranibank.org/rates/Rate.pdf\n",
            "Retrying (3/3)...\n"
          ]
        },
        {
          "output_type": "stream",
          "name": "stderr",
          "text": [
            "\rDownloading PDF files:  81%|████████  | 96/119 [00:18<00:04,  5.06it/s]"
          ]
        },
        {
          "output_type": "stream",
          "name": "stdout",
          "text": [
            "Error downloading PDF file: 404 Client Error: Not Found for url: https://www.jb.com.bd/index.php/Exchange_rate/exrate.pdf\n",
            "Retrying (1/3)...\n",
            "Error downloading PDF file: 404 Client Error: Not Found for url: https://www.jb.com.bd/index.php/Exchange_rate/exrate.pdf\n",
            "Retrying (2/3)...\n",
            "Error downloading PDF file: 404 Client Error: Not Found for url: https://www.jb.com.bd/index.php/Exchange_rate/exrate.pdf\n",
            "Retrying (3/3)...\n"
          ]
        },
        {
          "output_type": "stream",
          "name": "stderr",
          "text": [
            "Downloading PDF files: 100%|██████████| 119/119 [00:37<00:00,  3.20it/s]\n"
          ]
        },
        {
          "output_type": "stream",
          "name": "stdout",
          "text": [
            "Error accessing URL: 406 Client Error: Not Acceptable for url: http://www.bmd.gov.bd/\n"
          ]
        },
        {
          "output_type": "stream",
          "name": "stderr",
          "text": [
            "Downloading PDF files: 100%|██████████| 133/133 [00:00<00:00, 98436.99it/s]\n",
            "Downloading PDF files: 100%|██████████| 167/167 [00:00<00:00, 328540.70it/s]\n"
          ]
        },
        {
          "output_type": "stream",
          "name": "stdout",
          "text": [
            "PDF file 'pdf_files/710.pdf' already exists. Skipping download.\n"
          ]
        },
        {
          "output_type": "stream",
          "name": "stderr",
          "text": [
            "Downloading PDF files: 0it [00:00, ?it/s]\n",
            "Downloading PDF files: 0it [00:00, ?it/s]\n",
            "Downloading PDF files: 100%|██████████| 272/272 [00:00<00:00, 43966.81it/s]"
          ]
        },
        {
          "output_type": "stream",
          "name": "stdout",
          "text": [
            "PDF file 'pdf_files/2022-07-25-07-44-74689ff360fa9c75d3461fcd86c7354e.pdf' already exists. Skipping download.\n",
            "PDF file 'pdf_files/2022-01-03-06-27-6873e37f0375d833c391b291253bd674.pdf' already exists. Skipping download.\n",
            "PDF file 'pdf_files/2023-02-12-03-50-014c9f9d846c60fdfbca66de3b5614de.pdf' already exists. Skipping download.\n",
            "PDF file 'pdf_files/2023-03-22-03-32-e1d23c281d3ea605b99ae851b72d35ee.pdf' already exists. Skipping download.\n",
            "PDF file 'pdf_files/2021-06-03-07-20-02d04d493249042327e1aad2441e706c.pdf' already exists. Skipping download.\n",
            "PDF file 'pdf_files/2021-06-17-08-06-4db86e0273889f411fdd6f605b97e15a.pdf' already exists. Skipping download.\n"
          ]
        },
        {
          "output_type": "stream",
          "name": "stderr",
          "text": [
            "\n"
          ]
        }
      ]
    },
    {
      "cell_type": "code",
      "source": [
        "!zip -r /content/folder2.zip /content/pdf_files"
      ],
      "metadata": {
        "colab": {
          "base_uri": "https://localhost:8080/"
        },
        "id": "S5l5YoOxdYmd",
        "outputId": "056c021a-ec6d-479b-a5dc-eb1b1abfd26b"
      },
      "execution_count": null,
      "outputs": [
        {
          "output_type": "stream",
          "name": "stdout",
          "text": [
            "  adding: content/pdf_files/ (stored 0%)\n",
            "  adding: content/pdf_files/RANGAMATI%20%2884%29.pdf (deflated 9%)\n",
            "  adding: content/pdf_files/শিক্ষানীতি ২০১০.pdf (deflated 8%)\n",
            "  adding: content/pdf_files/2023-01-05-05-21-9747e8b10b0587e449c15d4a0f8068bd.pdf (deflated 4%)\n",
            "  adding: content/pdf_files/RAJBARI%2882%29.pdf (deflated 9%)\n",
            "  adding: content/pdf_files/84. জাতীয় ভূমি ব্যবহার নীতি, ২০০১.pdf (deflated 6%)\n",
            "  adding: content/pdf_files/CDBL_NEW_AD11.pdf (deflated 2%)\n",
            "  adding: content/pdf_files/ST_10_Eng.pdf (deflated 6%)\n",
            "  adding: content/pdf_files/BHOMS_Brochure_v1.1.pdf (deflated 6%)\n",
            "  adding: content/pdf_files/6. তথ্য অবমুক্তকরণ নীতিমালা ২০১৫.pdf (deflated 61%)\n",
            "  adding: content/pdf_files/Bangladesh-Population-Policy-2012.pdf (deflated 9%)\n",
            "  adding: content/pdf_files/JOYPURHAT%20%2838%29.pdf (deflated 9%)\n",
            "  adding: content/pdf_files/ডিলার নিয়োগ ও সার বিতরণ সংক্রান্ত সমন্বিত নীতিমালা-২০০৯ এর সংশোধন.pdf (deflated 19%)\n",
            "  adding: content/pdf_files/_বিভাগসমূহের_বার্ষিক_কর্মসম্পাদন_চুক্তি_সংক্রান্ত_নীতিমালা_২০১৭_১৮.compressed.pdf (deflated 0%)\n",
            "  adding: content/pdf_files/151_Railway_English.pdf (deflated 17%)\n",
            "  adding: content/pdf_files/NOAKHALI%20%2875%29.pdf (deflated 14%)\n",
            "  adding: content/pdf_files/NARSINGDI%20%2868%29.pdf (deflated 9%)\n",
            "  adding: content/pdf_files/114. শিশুর প্রারম্ভিক যত্ন ও বিকাশে সমন্বিত নীতি-২০১৩.pdf (deflated 23%)\n",
            "  adding: content/pdf_files/_নির্দেশমালা_২০১৪.pdf (deflated 8%)\n",
            "  adding: content/pdf_files/77. বস্ত্রনীতি-১৯৯৫.pdf (deflated 5%)\n",
            "  adding: content/pdf_files/MYMENSINGH%20%2861%29.pdf (deflated 11%)\n",
            "  adding: content/pdf_files/G-3_23_154_Post_English.pdf (deflated 6%)\n",
            "  adding: content/pdf_files/G-3_01_103_PMO_English.pdf (deflated 7%)\n",
            "  adding: content/pdf_files/98. টেলিযোগাযোগ নীতিমালা.pdf (deflated 7%)\n",
            "  adding: content/pdf_files/130_Women_English.pdf (deflated 17%)\n",
            "  adding: content/pdf_files/ST_01_Eng.pdf (deflated 6%)\n",
            "  adding: content/pdf_files/JHENAIDAH%20%2844%29.pdf (deflated 9%)\n",
            "  adding: content/pdf_files/132. জাতীয় বিজ্ঞান ও প্রযুক্তি নীতি-২০১১.pdf (deflated 2%)\n",
            "  adding: content/pdf_files/PATUAKHALI%20%2878%29.pdf (deflated 9%)\n",
            "  adding: content/pdf_files/Recruitment circular of MRT Line 1.pdf (deflated 1%)\n",
            "  adding: content/pdf_files/G-3_17_146_Land_English.pdf (deflated 6%)\n",
            "  adding: content/pdf_files/Combined Summary_01_English.pdf (deflated 5%)\n",
            "  adding: content/pdf_files/SHARIATPUR%20%2886%29.pdf (deflated 9%)\n",
            "  adding: content/pdf_files/BAGERHAT%20%2801%29.pdf (deflated 9%)\n",
            "  adding: content/pdf_files/58. জাতীয় চিংড়ি নীতিমালা-২০১৪.pdf (deflated 8%)\n",
            "  adding: content/pdf_files/62. জাতীয় পোল্ট্রি উন্নয়ন নীতিমালা, ২০০৮.pdf (deflated 8%)\n",
            "  adding: content/pdf_files/Cadet_11-08-2022.pdf (deflated 3%)\n",
            "  adding: content/pdf_files/2021-11-15-09-36-f5c540fd2a9e016165c292eda0b2a1b7.pdf (deflated 2%)\n",
            "  adding: content/pdf_files/131_Labour_English.pdf (deflated 15%)\n",
            "  adding: content/pdf_files/46. ভিশন স্টেটমেন্ট পলিসি.pdf (deflated 6%)\n",
            "  adding: content/pdf_files/142_Energy_English.pdf (deflated 17%)\n",
            "  adding: content/pdf_files/ST_06_Eng.pdf (deflated 6%)\n",
            "  adding: content/pdf_files/64. আউটসোর্সিং সংক্রান্ত নীতিমালা.pdf (deflated 12%)\n",
            "  adding: content/pdf_files/G-3_19_150_Roads_English.pdf (deflated 7%)\n",
            "  adding: content/pdf_files/83. সরকারি জলমহাল নীতি, ২০০৯.pdf (deflated 5%)\n",
            "  adding: content/pdf_files/NARAIL%20%2865%29.pdf (deflated 9%)\n",
            "  adding: content/pdf_files/143_Agriculture_English.pdf (deflated 26%)\n",
            "  adding: content/pdf_files/MEHERPUR%20%2857%29.pdf (deflated 7%)\n",
            "  adding: content/pdf_files/126_Science_English.pdf (deflated 17%)\n",
            "  adding: content/pdf_files/ST_04_Eng.pdf (deflated 6%)\n",
            "  adding: content/pdf_files/139. জাতীয় দুর্যোগ ব্যবস্থাপনা নীতিমালা ২০১৫.pdf (deflated 7%)\n",
            "  adding: content/pdf_files/2022-02-16-08-14-a5610d77bc0a8977f5fa42630f5047f2.pdf (deflated 13%)\n",
            "  adding: content/pdf_files/9. প্রাথমিক বিদ্যালয়ের শিক্ষক নিয়োগ নীতিমালা.pdf (deflated 12%)\n",
            "  adding: content/pdf_files/G-1_02_125_Secondary Education_English.pdf (deflated 8%)\n",
            "  adding: content/pdf_files/107. দরিদ্র মা’র জন্য মাতৃত্বকাল ভাতা প্রদান সংক্রান্ত নীতিমালা 2015.pdf (deflated 9%)\n",
            "  adding: content/pdf_files/MUNSHIGANJ%2859%29.pdf (deflated 9%)\n",
            "  adding: content/pdf_files/sample-letter.pdf (deflated 16%)\n",
            "  adding: content/pdf_files/139_Industry_English.pdf (deflated 19%)\n",
            "  adding: content/pdf_files/G-3_08_126_Science_English_1.pdf (deflated 6%)\n",
            "  adding: content/pdf_files/115. জাতীয় শিশু নীতি ২০১১.pdf (deflated 6%)\n",
            "  adding: content/pdf_files/47. Policy Guidelines for Power Purchase from Captive Power Plant.pdf (deflated 4%)\n",
            "  adding: content/pdf_files/shortSaleReg.pdf (deflated 11%)\n",
            "  adding: content/pdf_files/EOD.pdf (deflated 6%)\n",
            "  adding: content/pdf_files/129. প্রবাসী কল্যাণ ও বৈদেশিক কর্মসংস্থান নীতিমালা - ২০১৬.pdf (deflated 9%)\n",
            "  adding: content/pdf_files/146_Land_English.pdf (deflated 15%)\n",
            "  adding: content/pdf_files/হোটেল চিহ্নিতকরণ ও প্রত্যয়ন প্রদান সম্পর্কিত নীতিমালা.pdf (deflated 3%)\n",
            "  adding: content/pdf_files/136_Youth_English.pdf (deflated 18%)\n",
            "  adding: content/pdf_files/2023-06-15-07-37-38f59ebc6819f7f28db3c8622ae4e8cf.pdf (deflated 14%)\n",
            "  adding: content/pdf_files/2023-05-31-09-43-9ae91c880057d930fadf7f93b1a0f0e7.pdf (deflated 17%)\n",
            "  adding: content/pdf_files/87. চিংড়ি মহাল ব্যবস্থাপনা নীতিমালা.pdf (deflated 8%)\n",
            "  adding: content/pdf_files/129_Social_English.pdf (deflated 19%)\n",
            "  adding: content/pdf_files/পর্যটন নীতিমালা-২০১০.pdf (deflated 7%)\n",
            "  adding: content/pdf_files/99. ব্রডব্যান্ড নীতিমালা.pdf (deflated 46%)\n",
            "  adding: content/pdf_files/8. প্রাথমিক স্তরে বিনামূল্যে পাঠ্যপুস্তক বিতরন নীতিমালা.pdf (deflated 41%)\n",
            "  adding: content/pdf_files/NARAYANGANJ%20%2867%29.pdf (deflated 9%)\n",
            "  adding: content/pdf_files/GAIBANDHA%20%2832%29.pdf (deflated 10%)\n",
            "  adding: content/pdf_files/89. জাতীয় সমবায় পুরস্কার নীতিমালা, ২০১১.pdf (deflated 16%)\n",
            "  adding: content/pdf_files/BSEC-Women-investors-education-for-free.pdf (deflated 17%)\n",
            "  adding: content/pdf_files/121. জাতীয় ক্রীড়া নীতি.pdf (deflated 10%)\n",
            "  adding: content/pdf_files/132_Housing_English.pdf (deflated 19%)\n",
            "  adding: content/pdf_files/140_Expatriate_English.pdf (deflated 14%)\n",
            "  adding: content/pdf_files/Sewing machine allocation policy.pdf (deflated 12%)\n",
            "  adding: content/pdf_files/149_Disaster_English.pdf (deflated 16%)\n",
            "  adding: content/pdf_files/G-3_10_132_Housing_English.pdf (deflated 7%)\n",
            "  adding: content/pdf_files/KURIGRAM%20%2849%29.pdf (deflated 10%)\n",
            "  adding: content/pdf_files/বীজ নীতি(NSP).pdf (deflated 25%)\n",
            "  adding: content/pdf_files/138. জাতীয় বিজ্ঞান ও প্রযুক্তি ফেলোশিপ নীতিমালা-২০১৩.pdf (deflated 17%)\n",
            "  adding: content/pdf_files/GOPALGANJ%20%2835%29.pdf (deflated 9%)\n",
            "  adding: content/pdf_files/JAMALPUR%20%2839%29.pdf (deflated 9%)\n",
            "  adding: content/pdf_files/113. জাতীয় মনোসামাজিক কাউন্সেলিং নীতিমালা ২০১৬ (খসড়া).pdf (deflated 11%)\n",
            "  adding: content/pdf_files/MADARIPUR%20%2854%29.pdf (deflated 9%)\n",
            "  adding: content/pdf_files/03012019_1546535156.pdf (deflated 1%)\n",
            "  adding: content/pdf_files/drug-policy-2005-bng.pdf (deflated 4%)\n",
            "  adding: content/pdf_files/DHAKA-26.pdf (deflated 9%)\n",
            "  adding: content/pdf_files/78. গৃহকর্মী সুরক্ষা ও কল্যাণ নীতি, ২০১৫.pdf (deflated 5%)\n",
            "  adding: content/pdf_files/BHOLA%20%2809%29.pdf (deflated 8%)\n",
            "  adding: content/pdf_files/gpf-rules-1979.pdf (deflated 4%)\n",
            "  adding: content/pdf_files/G-3_07_161_Security  Services_English.pdf (deflated 7%)\n",
            "  adding: content/pdf_files/160_Technical Education_English.pdf (deflated 16%)\n",
            "  adding: content/pdf_files/St_02_Eng.pdf (deflated 7%)\n",
            "  adding: content/pdf_files/ST_03_Eng.pdf (deflated 5%)\n",
            "  adding: content/pdf_files/76. পাট নীতি - ২০১১.pdf (deflated 5%)\n",
            "  adding: content/pdf_files/G-3_09_128_ICT Division_Bangla_1 (1).pdf (deflated 13%)\n",
            "  adding: content/pdf_files/ST_05_Eng.pdf (deflated 5%)\n",
            "  adding: content/pdf_files/RANGPUR%20%2885%29.pdf (deflated 10%)\n",
            "  adding: content/pdf_files/প্রণোদনা ২০১৫-১৬ঃ বাস্তবায়ন নীতিমালা.pdf (deflated 15%)\n",
            "  adding: content/pdf_files/BSEC Order on standard downward price change limit (circuit breaker).pdf (deflated 12%)\n",
            "  adding: content/pdf_files/153_Civil Aviation_English.pdf (deflated 14%)\n",
            "  adding: content/pdf_files/92. জাতীয় পল্লী উন্নয়ন পদক নীতিমালা, ২০১২.pdf (deflated 8%)\n",
            "  adding: content/pdf_files/01_Introduction_English.pdf (deflated 7%)\n",
            "  adding: content/pdf_files/2022-07-25-07-44-74689ff360fa9c75d3461fcd86c7354e.pdf (deflated 10%)\n",
            "  adding: content/pdf_files/158_Anti Corruption_English.pdf (deflated 11%)\n",
            "  adding: content/pdf_files/G-3_16_145_Environment_English.pdf (deflated 7%)\n",
            "  adding: content/pdf_files/Areas of reward.pdf (deflated 9%)\n",
            "  adding: content/pdf_files/beja_Policy.pdf (deflated 27%)\n",
            "  adding: content/pdf_files/144_Fisheries_English.pdf (deflated 20%)\n",
            "  adding: content/pdf_files/148_Food_English.pdf (deflated 16%)\n",
            "  adding: content/pdf_files/50. জেন্ডার পলিসি (1).pdf (deflated 7%)\n",
            "  adding: content/pdf_files/G-1_09_144_Fisheries_English.pdf (deflated 12%)\n",
            "  adding: content/pdf_files/ST_08_Eng.pdf (deflated 6%)\n",
            "  adding: content/pdf_files/2022-02-16-08-17-50254acd8e6466331f8c10344c27ac69.pdf (deflated 16%)\n",
            "  adding: content/pdf_files/আধুনিক ফ্লাওয়ার মিল পরিচালন নীতিমালা-২০১৫.pdf (deflated 4%)\n",
            "  adding: content/pdf_files/135. জাতীয় জীবপ্রযুক্তি নীতি-২০১২.pdf (deflated 1%)\n",
            "  adding: content/pdf_files/Panel_Auditors.pdf (deflated 3%)\n",
            "  adding: content/pdf_files/ethnic_minority_120516.pdf (deflated 3%)\n",
            "  adding: content/pdf_files/GAZIPUR%20%2833%29.pdf (deflated 9%)\n",
            "  adding: content/pdf_files/G-1_07_138_Rural_English.pdf (deflated 8%)\n",
            "  adding: content/pdf_files/120. জাতীয় যুব পুরস্কার নীতিমালা-২০১০.pdf (deflated 19%)\n",
            "  adding: content/pdf_files/37. অভ্যন্তরীণ খাদ্যশস্য সংগ্রহ নীতিমালা, ২০১০.pdf (deflated 4%)\n",
            "  adding: content/pdf_files/FENI%20%2830%29.pdf (deflated 8%)\n",
            "  adding: content/pdf_files/DSEX_DS30.pdf (deflated 16%)\n",
            "  adding: content/pdf_files/visa_on_arrival_policy.pdf (deflated 6%)\n",
            "  adding: content/pdf_files/2023-01-05-07-38-c23b9fae479527101f8c190612f412a1.pdf (deflated 14%)\n",
            "  adding: content/pdf_files/2023-06-07-05-32-c8eccf30799aac101fd44282040e6161.pdf (deflated 18%)\n",
            "  adding: content/pdf_files/136. জাতীয় বিজ্ঞান ও প্রযুক্তি নীতি-২০১১, কর্ম-পরিকল্পনা.pdf (deflated 6%)\n",
            "  adding: content/pdf_files/145_Environment_English.pdf (deflated 18%)\n",
            "  adding: content/pdf_files/2023-06-04-08-26-95e31a11b4f14a822676d65b0f6ea581.pdf (deflated 20%)\n",
            "  adding: content/pdf_files/97. আইএলডিটিএস নীতিমালা.pdf (deflated 14%)\n",
            "  adding: content/pdf_files/SGF-7082014130507.pdf (deflated 20%)\n",
            "  adding: content/pdf_files/কৃষি সম্প্রসারণ নীতি-২০১৫ (খসড়া).pdf (deflated 20%)\n",
            "  adding: content/pdf_files/74. কমিউনিটি রেডিও স্থাপন, সম্প্রচার ও পরিচালনা নীতিমালা-২০১৬ (খসড়া).pdf (deflated 7%)\n",
            "  adding: content/pdf_files/156_Power_English.pdf (deflated 18%)\n",
            "  adding: content/pdf_files/KHAGRACHHARI%20%2846%29.pdf (deflated 9%)\n",
            "  adding: content/pdf_files/G-2_05_141_Textile_English.pdf (deflated 7%)\n",
            "  adding: content/pdf_files/161_Security Services_English.pdf (deflated 18%)\n",
            "  adding: content/pdf_files/G-3_04_117_Commerce_English.pdf (deflated 8%)\n",
            "  adding: content/pdf_files/MOULVIBAZAR%20%2858%29.pdf (deflated 9%)\n",
            "  adding: content/pdf_files/00_Preface_2019-20 English.pdf (deflated 5%)\n",
            "  adding: content/pdf_files/108. নির্যাতিত, দুঃস্থ মহিলা ও শিশু কল্যাণ তহবিল নীতিমালা.pdf (deflated 11%)\n",
            "  adding: content/pdf_files/03012019_1546535060.pdf (deflated 2%)\n",
            "  adding: content/pdf_files/G-3_25_157_Liberation  War_English (1).pdf (deflated 7%)\n",
            "  adding: content/pdf_files/CHAPAI%20NABABGANJ%20%2870%29.pdf (deflated 9%)\n",
            "  adding: content/pdf_files/G-1_08_143_Agriculture_English.pdf (deflated 7%)\n",
            "  adding: content/pdf_files/_সংস্থাসমূহের বার্ষিক কর্মসম্পাদন চুক্তি সংক্রান্ত নীতিমালা_ ২০১৭-১৮.compressed.pdf (deflated 0%)\n",
            "  adding: content/pdf_files/PanelAuditos for TREC Holders.pdf (deflated 6%)\n",
            "  adding: content/pdf_files/2022-02-16-08-25-f46b1e361b2a7f5ed6b191064c2f74f3.pdf (deflated 0%)\n",
            "  adding: content/pdf_files/72. জাতীয় চলচ্চিত্র নীতিমালা (খসড়া).pdf (deflated 10%)\n",
            "  adding: content/pdf_files/SATKHIRA%20%2887%29.pdf (deflated 9%)\n",
            "  adding: content/pdf_files/G-1_04_127_Health Services_English.pdf (deflated 9%)\n",
            "  adding: content/pdf_files/NATORE%20%2869%29.pdf (deflated 9%)\n",
            "  adding: content/pdf_files/নীতিমালা ২০১৫-২০১৮ (বাংলা).pdf (deflated 22%)\n",
            "  adding: content/pdf_files/03012019_1546535823.pdf (deflated 3%)\n",
            "  adding: content/pdf_files/147_Water_English.pdf (deflated 18%)\n",
            "  adding: content/pdf_files/BANDARBAN%20%2803%29.pdf (deflated 9%)\n",
            "  adding: content/pdf_files/2023-05-18-09-18-c3d794905117b884c5bba9d20c54a5c6.pdf (deflated 0%)\n",
            "  adding: content/pdf_files/2022-01-03-06-27-6873e37f0375d833c391b291253bd674.pdf (deflated 4%)\n",
            "  adding: content/pdf_files/G-2_04_137_LGD_English.pdf (deflated 7%)\n",
            "  adding: content/pdf_files/49. ন্যাশনাল এনার্জি পলিসি।.pdf (deflated 58%)\n",
            "  adding: content/pdf_files/KHULNA%20%2847%29.pdf (deflated 9%)\n",
            "  adding: content/pdf_files/70. জাতীয় লবণনীতি-২০১১.pdf (deflated 1%)\n",
            "  adding: content/pdf_files/152_Shipping_English.pdf (deflated 19%)\n",
            "  adding: content/pdf_files/G-1_06_130_Women_English.pdf (deflated 10%)\n",
            "  adding: content/pdf_files/icald-link.pdf (deflated 13%)\n",
            "  adding: content/pdf_files/112. বেগম রোকেয়া পদক প্রদানের জন্য অনুসৃতব্য নীতিমালা.pdf (deflated 8%)\n",
            "  adding: content/pdf_files/36. জাতীয় খাদ্য নীতি, ২০০৬.pdf (deflated 5%)\n",
            "  adding: content/pdf_files/CHANDPUR%2813%29.pdf (deflated 10%)\n",
            "  adding: content/pdf_files/SYLHET%2891%29.pdf (deflated 13%)\n",
            "  adding: content/pdf_files/সার্ভিস নীতিমালা.pdf (deflated 13%)\n",
            "  adding: content/pdf_files/710.pdf (deflated 13%)\n",
            "  adding: content/pdf_files/2022-12-20-03-59-6f6cb1d8d5332252733777f8e2d670c6.pdf (deflated 4%)\n",
            "  adding: content/pdf_files/Sheikh Russell Award 2022 notification.pdf (deflated 7%)\n",
            "  adding: content/pdf_files/G-3_22_153_Civil_English.pdf (deflated 7%)\n",
            "  adding: content/pdf_files/SHERPUR%20%2889%29.pdf (deflated 9%)\n",
            "  adding: content/pdf_files/104. প্রতিবন্ধী বিষয়ক জাতীয় নীতিমালা ১৯৯৫.pdf (deflated 29%)\n",
            "  adding: content/pdf_files/G3_21_152_Shipping.pdf (deflated 7%)\n",
            "  adding: content/pdf_files/G-3_11_133_Information_English.pdf (deflated 6%)\n",
            "  adding: content/pdf_files/BARISAL%20%2806%29.pdf (deflated 10%)\n",
            "  adding: content/pdf_files/CHITTAGONG%20%2815%29.pdf (deflated 9%)\n",
            "  adding: content/pdf_files/ডিলার নিয়োগ ও সার বিতরণ সংক্রান্ত সমন্বিত নীতিমালা-২০০৯.pdf (deflated 10%)\n",
            "  adding: content/pdf_files/G-2_08_140_Expatriate_English.pdf (deflated 7%)\n",
            "  adding: content/pdf_files/উদ্ভাবন, গবেষণা ও উন্নয়নমূলক প্রকল্পে অনুদান সংক্রান্ত সংশোধিত সাধারণ নীতিমালা.pdf (deflated 6%)\n",
            "  adding: content/pdf_files/HABIGANJ%20%2836%29.pdf (deflated 10%)\n",
            "  adding: content/pdf_files/G-2_03_136_Youth_English.pdf (deflated 6%)\n",
            "  adding: content/pdf_files/65. EOI Advertisement on SME Credit Policy.pdf (deflated 4%)\n",
            "  adding: content/pdf_files/133. বেসরকারি শিক্ষা প্রতিষ্ঠান ও বিজ্ঞান ক্লাবসমূহে আর্থিক অনুদানের সাধারণ নীতিমালা.pdf (deflated 2%)\n",
            "  adding: content/pdf_files/কৃষি নীতি ২০১৩.pdf (deflated 8%)\n",
            "  adding: content/pdf_files/80. শিশুশ্রম নিরসন নীতিমালা ২০১০.pdf ব.pdf (deflated 6%)\n",
            "  adding: content/pdf_files/94. ক্ষুদ্র ঋণ সংক্রান্ত নীতিমালা.pdf (deflated 31%)\n",
            "  adding: content/pdf_files/G-3_14_139_Industry_English.pdf (deflated 8%)\n",
            "  adding: content/pdf_files/bsec.pdf (deflated 18%)\n",
            "  adding: content/pdf_files/G-2_01_129_Social_English.pdf (deflated 8%)\n",
            "  adding: content/pdf_files/SIRAJGANJ%20%2888%29.pdf (deflated 10%)\n",
            "  adding: content/pdf_files/G-3_24_156_Power_English.pdf (deflated 6%)\n",
            "  adding: content/pdf_files/117. জাতীয় পানি নীতি.pdf (deflated 13%)\n",
            "  adding: content/pdf_files/125_Higher Education_English.pdf (deflated 19%)\n",
            "  adding: content/pdf_files/G-3_13_135_Religious_English.pdf (deflated 7%)\n",
            "  adding: content/pdf_files/InternalRecruitmentNotice.pdf (deflated 12%)\n",
            "  adding: content/pdf_files/MANIKGANJ%20%2856%29.pdf (deflated 10%)\n",
            "  adding: content/pdf_files/auto_trade.pdf (deflated 13%)\n",
            "  adding: content/pdf_files/DSES.pdf (deflated 2%)\n",
            "  adding: content/pdf_files/venue-rent.pdf (deflated 4%)\n",
            "  adding: content/pdf_files/G-2_06_147_Water_English.pdf (deflated 7%)\n",
            "  adding: content/pdf_files/03012019_1546535267.pdf (deflated 1%)\n",
            "  adding: content/pdf_files/G-3_05_121_Law_English.pdf (deflated 7%)\n",
            "  adding: content/pdf_files/Press Release_12.06.2022.pdf (deflated 2%)\n",
            "  adding: content/pdf_files/DTA-Training-Calender-2023-2024.pdf (deflated 11%)\n",
            "  adding: content/pdf_files/162_Medical Education_English.pdf (deflated 18%)\n",
            "  adding: content/pdf_files/ও স্বল্পমেয়াদী ফসলের জাত ও প্রযুক্তি উদ্ভাবন বিষয়ক নীতিমালা.pdf (deflated 12%)\n",
            "  adding: content/pdf_files/KISHOREGANJ%20%2848%29.pdf (deflated 10%)\n",
            "  adding: content/pdf_files/138_Rural_English.pdf (deflated 18%)\n",
            "  adding: content/pdf_files/2023-03-22-03-32-e1d23c281d3ea605b99ae851b72d35ee.pdf (deflated 6%)\n",
            "  adding: content/pdf_files/103. জাতীয় সমাজকল্যাণ নীতি ২০০৫.pdf (deflated 18%)\n",
            "  adding: content/pdf_files/G-3_02_106_Election_English.pdf (deflated 7%)\n",
            "  adding: content/pdf_files/ST_09_Eng.pdf (deflated 5%)\n",
            "  adding: content/pdf_files/Demutualization Schme.pdf (deflated 7%)\n",
            "  adding: content/pdf_files/69. জাতীয় হস্ত ও কারুশিল্প নীতিমালা.pdf (deflated 13%)\n",
            "  adding: content/pdf_files/JHALOKATI%20%2842%29.pdf (deflated 8%)\n",
            "  adding: content/pdf_files/157_Liberation_English.pdf (deflated 13%)\n",
            "  adding: content/pdf_files/1. Gezette Notification.pdf (deflated 0%)\n",
            "  adding: content/pdf_files/Circular.pdf (deflated 5%)\n",
            "  adding: content/pdf_files/ST_11_Eng.pdf (deflated 6%)\n",
            "  adding: content/pdf_files/facilitiesForForeignInvestors.pdf (deflated 2%)\n",
            "  adding: content/pdf_files/BOGRA%20%2810%29.pdf (deflated 11%)\n",
            "  adding: content/pdf_files/140. ঘূর্ণিঝড় আশ্রয়কেন্দ্র নির্মাণ, তদারকি এবং ব্যবস্হাপনা নীতিমালা ২০১১.pdf (deflated 1%)\n",
            "  adding: content/pdf_files/IM_of_Subordinated_Bond_of_BDT_1500_Million.pdf (deflated 0%)\n",
            "  adding: content/pdf_files/127_Health Service_English (1).pdf (deflated 21%)\n",
            "  adding: content/pdf_files/গুরুতর আহত দরিদ্র ও মেধাবী শিক্ষার্থীদের এককালীন আর্থিক অনুদান প্রদান নীতিমালা, ২০১৫.pdf (deflated 23%)\n",
            "  adding: content/pdf_files/95. জাতীয় পল্লী উন্নয়ন নীতিমালা, ২০০১.pdf (deflated 19%)\n",
            "  adding: content/pdf_files/11. নতুন উপজেলা, থানা এবং তদন্তকেন্দ্র স্থাপনের সংশোধিত নীতিমালা.pdf (deflated 1%)\n",
            "  adding: content/pdf_files/2021-06-03-07-20-02d04d493249042327e1aad2441e706c.pdf (deflated 6%)\n",
            "  adding: content/pdf_files/G-3_18_148_Food_English.pdf (deflated 7%)\n",
            "  adding: content/pdf_files/weekly_report.pdf (deflated 6%)\n",
            "  adding: content/pdf_files/G-1_01_124_Primary Education_English.pdf (deflated 10%)\n",
            "  adding: content/pdf_files/4. রাজস্ব বাজেটে মেরামত সংস্কার নীতিমালা.pdf (deflated 2%)\n",
            "  adding: content/pdf_files/Important factors to consider in award planning.pdf (deflated 8%)\n",
            "  adding: content/pdf_files/91. জাতীয় সমবায় নীতি, ২০১২.pdf (deflated 5%)\n",
            "  adding: content/pdf_files/LAKSHMIPUR%20%2851%29.pdf (deflated 8%)\n",
            "  adding: content/pdf_files/নীতিমালা, ২০১৫.pdf (deflated 14%)\n",
            "  adding: content/pdf_files/NETRAKONA%20%2872%29.pdf (deflated 11%)\n",
            "  adding: content/pdf_files/85. হোটেল, মোটেলের জন্য সরকারি খাসজমি বন্দোবস্তের সংশোধিত নীতিমালা.pdf (deflated 9%)\n",
            "  adding: content/pdf_files/119. খসড়া জাতীয় যুবনীিত ২০১৬.pdf (deflated 4%)\n",
            "  adding: content/pdf_files/59. নিমগাছি সমাজভিত্তিক মৎস্যচাষ ব্যবস্থাপনা নীতিমালা, ২০১১.pdf (deflated 8%)\n",
            "  adding: content/pdf_files/03012019_1546536097.pdf (deflated 6%)\n",
            "  adding: content/pdf_files/Teacher Requirment 02,2023.pdf (deflated 11%)\n",
            "  adding: content/pdf_files/133_Information_English.pdf (deflated 20%)\n",
            "  adding: content/pdf_files/সমন্বিত বালাই ব্যবস্থাপনা(আইপিএম)নীতিমালা.pdf (deflated 9%)\n",
            "  adding: content/pdf_files/73. জাতীয় অনলাইন গণমাধ্যম নীতিমালা-২০১৫ (খসড়া).pdf (deflated 16%)\n",
            "  adding: content/pdf_files/60. চিংড়ি প্লট ইজারা, ইজারা নবায়ন, ব্যবস্থাপনা ও উন্নয়ন নীতিমালা, ২০১৩.pdf (deflated 8%)\n",
            "  adding: content/pdf_files/48. বিদ্যুৎ খাতে বেসরকারী অংশগ্রহণ বৃদ্ধি নীতিমালা.pdf (deflated 19%)\n",
            "  adding: content/pdf_files/cmsf_infos.pdf (deflated 7%)\n",
            "  adding: content/pdf_files/BARGUNA%20%2804%29.pdf (deflated 8%)\n",
            "  adding: content/pdf_files/DSE_GRI_Guidance_Document_Final.pdf (deflated 4%)\n",
            "  adding: content/pdf_files/ক্ষুদ্রসেচ নীতিমালা.pdf (deflated 18%)\n",
            "  adding: content/pdf_files/বিষয়ক নির্দেশিকা.pdf (deflated 1%)\n",
            "  adding: content/pdf_files/LALMONIRHAT%20%2852%29.pdf (deflated 8%)\n",
            "  adding: content/pdf_files/AccessPDS.pdf (deflated 5%)\n",
            "  adding: content/pdf_files/NAOGAON%20%2864%29.pdf (deflated 11%)\n",
            "  adding: content/pdf_files/PABNA%20%2876%29.pdf (deflated 10%)\n",
            "  adding: content/pdf_files/13. মোটরযান ও অন্যান্য যন্রপাতি অকেযো ঘোষণাকরণ নীতিমালা.pdf (deflated 1%)\n",
            "  adding: content/pdf_files/105. জাতীয় প্রবীণ নীতিমালা ২০১৩.pdf (deflated 7%)\n",
            "  adding: content/pdf_files/10. মোবাইল কোর্ট পরিচালনাকালে কতিপয় অনুসরণীয় বিষয়.pdf (deflated 13%)\n",
            "  adding: content/pdf_files/SUNAMGANJ%20%2890%29.pdf (deflated 11%)\n",
            "  adding: content/pdf_files/141. কাজের বিনিময়ে খাদ্য বাস্তবায়ন নীতিমালা.pdf (deflated 7%)\n",
            "  adding: content/pdf_files/141_Textiles_English.pdf (deflated 19%)\n",
            "  adding: content/pdf_files/NILPHAMARI%20%2873%29.pdf (deflated 9%)\n",
            "  adding: content/pdf_files/137_LGD_English.pdf (deflated 23%)\n",
            "  adding: content/pdf_files/155_Hill Tracts_English.pdf (deflated 18%)\n",
            "  adding: content/pdf_files/150_Roads_English.pdf (deflated 20%)\n",
            "  adding: content/pdf_files/101. তথ্য নিরাপত্তা পলিসি গাইডলাইন (বাংলা ও ইংরেজী ভার্সন).pdf (deflated 7%)\n",
            "  adding: content/pdf_files/44. বাংলাদেশের নবায়নযোগ্য জ্বালানি নীতিমালা.pdf (deflated 17%)\n",
            "  adding: content/pdf_files/RAJSHAHI%20%2881%29.pdf (deflated 12%)\n",
            "  adding: content/pdf_files/MAGURA%20%2855%29.pdf (deflated 10%)\n",
            "  adding: content/pdf_files/nvr_policy.pdf (deflated 6%)\n",
            "  adding: content/pdf_files/FARIDPUR%20%2829%29.pdf (deflated 10%)\n",
            "  adding: content/pdf_files/154_Post_English.pdf (deflated 15%)\n",
            "  adding: content/pdf_files/St_07_Eng.pdf (deflated 6%)\n",
            "  adding: content/pdf_files/DINAJPUR%20%2827%29.pdf (deflated 14%)\n",
            "  adding: content/pdf_files/131. বাংলাদেশ রেলওয়ে নীতিমালা.pdf (deflated 2%)\n",
            "  adding: content/pdf_files/G-3_06_122_Public  Security_English.pdf (deflated 7%)\n",
            "  adding: content/pdf_files/4. Integration standard of LISF (3) (2).pdf (deflated 21%)\n",
            "  adding: content/pdf_files/MPO Policy.pdf (deflated 8%)\n",
            "  adding: content/pdf_files/gpf-rules-1979-correction.pdf (deflated 14%)\n",
            "  adding: content/pdf_files/PANCHAGARH%20%2877%29.pdf (deflated 9%)\n",
            "  adding: content/pdf_files/3.Data standard of LISF.pdf (deflated 13%)\n",
            "  adding: content/pdf_files/5. সরকারি প্রাথমিক বিদ্যালয়ের শিক্ষক বদলি নির্দেশিকা, ২০১৫.pdf (deflated 57%)\n",
            "  adding: content/pdf_files/81. বাংলাদেশ শ্রম নীতি ২০১২.pdf (deflated 3%)\n",
            "  adding: content/pdf_files/ও মেধাবী শিক্ষার্থীদের শিক্ষা প্রতিষ্ঠানে ভর্তি নিশ্চিতকরণে আর্থিক সহায়তা নীতিমালা, ২০১৫.pdf (deflated 23%)\n",
            "  adding: content/pdf_files/2023-06-20-03-21-64f988574529b02401742b5a43620451.pdf (deflated 12%)\n",
            "  adding: content/pdf_files/71. সিআইপি(শিল্প) নির্বাচন নীতিমালা-২০১৪.pdf (deflated 3%)\n",
            "  adding: content/pdf_files/G-3_15_142_Energy_English.pdf (deflated 6%)\n",
            "  adding: content/pdf_files/127. বঙ্গবন্ধু ছাত্রবৃত্তি নীতিমালা ২০১২.pdf (deflated 9%)\n",
            "  adding: content/pdf_files/41. জাতীয় তথ্য ও যোগাযোগ প্রযুক্তি নীতিমালা, ২০১৫.pdf (deflated 15%)\n",
            "  adding: content/pdf_files/Introduction of DSE Data Sale Services.pdf (deflated 26%)\n",
            "  adding: content/pdf_files/68. জাতীয় শিল্পনীতি- ২০১৬.pdf (deflated 9%)\n",
            "  adding: content/pdf_files/G-2_02_131_Labour_English.pdf (deflated 7%)\n",
            "  adding: content/pdf_files/03012019_1546536812.pdf (deflated 2%)\n",
            "  adding: content/pdf_files/G-3_12_134_Culture_English_1.pdf (deflated 6%)\n",
            "  adding: content/pdf_files/86. লবন মহাল ব্যবস্থাপনা নীতিমালা.pdf (deflated 8%)\n",
            "  adding: content/pdf_files/35. খাদ্যশস্য চলাচল নীতিমালা,২০০৮.pdf (deflated 6%)\n",
            "  adding: content/pdf_files/KUSTIA%20%2850%29.pdf (deflated 9%)\n",
            "  adding: content/pdf_files/159_Bridge_English.pdf (deflated 10%)\n",
            "  adding: content/pdf_files/THAKURGAON%20%2894%29.pdf (deflated 9%)\n",
            "  adding: content/pdf_files/facilitiesForNRB.pdf (deflated 2%)\n",
            "  adding: content/pdf_files/2023-02-12-03-50-014c9f9d846c60fdfbca66de3b5614de.pdf (deflated 5%)\n",
            "  adding: content/pdf_files/2023-05-28-12-07-8e0ad839af5aaa428dd260bd63bc22c3.pdf (deflated 0%)\n",
            "  adding: content/pdf_files/66. Health Policy 2011.pdf (deflated 9%)\n",
            "  adding: content/pdf_files/96. জাতীয় তথ্য ব্যবস্থাপনা নীতিমালা (খসড়া), ২০১৪.pdf (deflated 11%)\n",
            "  adding: content/pdf_files/G-1_05_162_Medical  Edication_English.pdf (deflated 11%)\n",
            "  adding: content/pdf_files/PIROJPUR%20%2879%29.pdf (deflated 8%)\n",
            "  adding: content/pdf_files/COXBAZAR%20%2822%29.pdf (deflated 8%)\n",
            "  adding: content/pdf_files/93. সমবায় সমিতি নীতিমালা, ২০০৪.pdf (deflated 22%)\n",
            "  adding: content/pdf_files/iMDS.pdf (deflated 6%)\n",
            "  adding: content/pdf_files/TANGAIL%20%2893%29.pdf (deflated 10%)\n",
            "  adding: content/pdf_files/CHUADANGA%20%2818%29.pdf (deflated 9%)\n",
            "  adding: content/pdf_files/2. Mukhobndh.pdf (deflated 15%)\n",
            "  adding: content/pdf_files/G-2_07_149_Disaster_English.pdf (deflated 6%)\n",
            "  adding: content/pdf_files/03012019_1546535467.pdf (deflated 0%)\n",
            "  adding: content/pdf_files/128_ICT_ English.pdf (deflated 13%)\n",
            "  adding: content/pdf_files/Final_Org_2017.pdf (deflated 1%)\n",
            "  adding: content/pdf_files/MandA.pdf (deflated 14%)\n",
            "  adding: content/pdf_files/2022-06-30-09-33-336375efb294c8aa5829fa37986ff591.pdf (deflated 29%)\n",
            "  adding: content/pdf_files/79. জাতীয় পেশাগত স্বাস্থ্য সেইফটি নীতিমালা ২০১৩.pdf (deflated 5%)\n",
            "  adding: content/pdf_files/67. ভিসা নীতিমালা.pdf (deflated 6%)\n",
            "  adding: content/pdf_files/122. ন্যাশনাল সার্ভিস পলিসি.pdf (deflated 11%)\n",
            "  adding: content/pdf_files/45. স্মল পাওয়ার পলিসি.pdf (deflated 13%)\n",
            "  adding: content/pdf_files/JESSORE%20%2841%29.pdf (deflated 10%)\n",
            "  adding: content/pdf_files/61. জাতীয় মৎস্য নীতি, ১৯৯৮.pdf (deflated 6%)\n",
            "  adding: content/pdf_files/2021-06-17-08-06-4db86e0273889f411fdd6f605b97e15a.pdf (deflated 16%)\n",
            "  adding: content/pdf_files/109. ‘‘কর্মজীবী ল্যাকটেটিং মাদার সহায়তা তহবিল নীতিমালা.pdf (deflated 81%)\n",
            "  adding: content/pdf_files/82. সরকারি জলমহাল নীতি, ২০০৯-এর সংশোধন.pdf (deflated 8%)\n",
            "  adding: content/pdf_files/118. কোস্টাল জোন পলিসি ২০০৫.pdf (deflated 11%)\n",
            "  adding: content/pdf_files/G-1_03_160_Technical  Education_English.pdf (deflated 9%)\n",
            "  adding: content/pdf_files/PDS%20FormBBSPersonnel.pdf (deflated 13%)\n",
            "  adding: content/pdf_files/135_Religious_English.pdf (deflated 14%)\n",
            "  adding: content/pdf_files/2023-06-15-06-05-979b82fa4493167d3b1c1b3037260dbf.pdf (deflated 5%)\n",
            "  adding: content/pdf_files/3. প্রাথমিক শিক্ষা সমাপনী পরীক্ষা নীতিমালা.pdf (deflated 56%)\n",
            "  adding: content/pdf_files/43. বাংলাদেশের বেসরকারী পাওয়ার জেনারেশন পলিসি.pdf (deflated 5%)\n",
            "  adding: content/pdf_files/ও জনপথ অধিদপ্তরের সমন্বিত ভূমি ব্যবস্থাপনা নীতিমালা-২০১৪.pdf (deflated 5%)\n",
            "  adding: content/pdf_files/2023-01-22-06-47-15046ffa98b100230a90dd4fdfef10bc.pdf (deflated 2%)\n",
            "  adding: content/pdf_files/price-fixation-procedure.pdf (deflated 23%)\n",
            "  adding: content/pdf_files/75. বিজেসি'র সম্পত্তি বিক্রয় নীতিমালা-২০০৮.pdf (deflated 2%)\n",
            "  adding: content/pdf_files/G-2_09_155_CHT_English_1.pdf (deflated 7%)\n",
            "  adding: content/pdf_files/margin_rules.pdf (deflated 5%)\n",
            "  adding: content/pdf_files/DemuAct2013.pdf (deflated 3%)\n",
            "  adding: content/pdf_files/BRAHMANBARIA%20%2812%29.pdf (deflated 10%)\n",
            "  adding: content/pdf_files/COMILLA%20%2819%29.pdf (deflated 11%)\n",
            "  adding: content/pdf_files/116. জাতীয় নারী উন্নয়ন নীতি-২০১১.pdf (deflated 14%)\n"
          ]
        }
      ]
    },
    {
      "cell_type": "code",
      "source": [
        "def count_pdf_files(url):\n",
        "    pdf_count = 0\n",
        "\n",
        "    for _ in range(3):  # Try 3 times\n",
        "        try:\n",
        "            response = requests.get(url)\n",
        "            soup = BeautifulSoup(response.content, 'html.parser')\n",
        "\n",
        "            for link in soup.find_all('a'):\n",
        "                href = link.get('href')\n",
        "                absolute_url = urljoin(url, href)\n",
        "                if absolute_url.endswith('.pdf'):\n",
        "                    pdf_count += 1\n",
        "                elif absolute_url.startswith(url):\n",
        "                    try:\n",
        "                      count_pdf_files_from_absulate_url = int(count_pdf_files(absolute_url))\n",
        "                    except:\n",
        "                      count_pdf_files_from_absulate_url = 1\n",
        "                    pdf_count += count_pdf_files_from_absulate_url\n",
        "\n",
        "            return pdf_count\n",
        "\n",
        "        except requests.exceptions.RequestException:\n",
        "            time.sleep(0.1)  # Delay for 100 milliseconds\n",
        "\n",
        "    #raise Exception(\"Failed to retrieve data after multiple attempts.\")\n",
        "\n",
        "website_url = \"https://bangladesh.gov.bd/index.php\"\n",
        "pdf_count = count_pdf_files(website_url)\n",
        "print(\"Number of PDF files:\", pdf_count)\n"
      ],
      "metadata": {
        "colab": {
          "base_uri": "https://localhost:8080/"
        },
        "id": "jXUAgH62oyi1",
        "outputId": "dbe3df10-8543-43b6-9e51-7be351e2d959"
      },
      "execution_count": null,
      "outputs": [
        {
          "output_type": "stream",
          "name": "stdout",
          "text": [
            "Number of PDF files: 0\n",
            "Number of PDF files: 0\n",
            "Number of PDF files: 0\n",
            "Number of PDF files: 0\n",
            "Number of PDF files: 0\n",
            "Number of PDF files: 0\n",
            "Number of PDF files: 0\n",
            "Number of PDF files: 0\n",
            "Number of PDF files: 0\n",
            "Number of PDF files: 0\n",
            "Number of PDF files: 0\n",
            "Number of PDF files: 0\n",
            "Number of PDF files: 0\n",
            "Number of PDF files: 0\n",
            "Number of PDF files: 0\n",
            "Number of PDF files: 0\n",
            "Number of PDF files: 0\n",
            "Number of PDF files: 0\n",
            "Number of PDF files: 0\n",
            "Number of PDF files: 0\n",
            "Number of PDF files: 0\n",
            "Number of PDF files: 0\n",
            "Number of PDF files: 0\n",
            "Number of PDF files: 0\n",
            "Number of PDF files: 0\n",
            "Number of PDF files: 0\n",
            "Number of PDF files: 0\n",
            "Number of PDF files: 0\n",
            "Number of PDF files: 0\n",
            "Number of PDF files: 0\n",
            "Number of PDF files: 0\n",
            "Number of PDF files: 0\n",
            "Number of PDF files: 0\n",
            "Number of PDF files: 0\n",
            "Number of PDF files: 0\n",
            "Number of PDF files: 0\n",
            "Number of PDF files: 0\n",
            "Number of PDF files: 0\n",
            "Number of PDF files: 0\n",
            "Number of PDF files: 0\n",
            "Number of PDF files: 0\n",
            "Number of PDF files: 0\n",
            "Number of PDF files: 0\n",
            "Number of PDF files: 0\n",
            "Number of PDF files: 0\n",
            "Number of PDF files: 0\n",
            "Number of PDF files: 0\n",
            "Number of PDF files: 0\n",
            "Number of PDF files: 0\n",
            "Number of PDF files: 0\n",
            "Number of PDF files: 0\n",
            "Number of PDF files: 0\n",
            "Number of PDF files: 0\n",
            "Number of PDF files: 0\n",
            "Number of PDF files: 0\n",
            "Number of PDF files: 0\n",
            "Number of PDF files: 0\n",
            "Number of PDF files: 0\n",
            "Number of PDF files: 0\n",
            "Number of PDF files: 0\n",
            "Number of PDF files: 0\n",
            "Number of PDF files: 0\n",
            "Number of PDF files: 0\n",
            "Number of PDF files: 0\n",
            "Number of PDF files: 0\n",
            "Number of PDF files: 0\n",
            "Number of PDF files: 0\n",
            "Number of PDF files: 0\n",
            "Number of PDF files: 0\n",
            "Number of PDF files: 0\n",
            "Number of PDF files: 0\n",
            "Number of PDF files: 0\n",
            "Number of PDF files: 0\n",
            "Number of PDF files: 0\n",
            "Number of PDF files: 0\n",
            "Number of PDF files: 0\n",
            "Number of PDF files: 0\n",
            "Number of PDF files: 0\n",
            "Number of PDF files: 0\n",
            "Number of PDF files: 0\n",
            "Number of PDF files: 0\n",
            "Number of PDF files: 0\n",
            "Number of PDF files: 0\n",
            "Number of PDF files: 0\n",
            "Number of PDF files: 0\n",
            "Number of PDF files: 0\n",
            "Number of PDF files: 0\n",
            "Number of PDF files: 0\n",
            "Number of PDF files: 0\n",
            "Number of PDF files: 0\n",
            "Number of PDF files: 0\n",
            "Number of PDF files: 0\n",
            "Number of PDF files: 0\n",
            "Number of PDF files: 0\n",
            "Number of PDF files: 0\n",
            "Number of PDF files: 0\n",
            "Number of PDF files: 0\n",
            "Number of PDF files: 0\n",
            "Number of PDF files: 0\n",
            "Number of PDF files: 0\n",
            "Number of PDF files: 0\n",
            "Number of PDF files: 0\n",
            "Number of PDF files: 0\n",
            "Number of PDF files: 0\n",
            "Number of PDF files: 0\n",
            "Number of PDF files: 0\n",
            "Number of PDF files: 0\n",
            "Number of PDF files: 0\n",
            "Number of PDF files: 0\n",
            "Number of PDF files: 0\n",
            "Number of PDF files: 0\n",
            "Number of PDF files: 0\n",
            "Number of PDF files: 0\n",
            "Number of PDF files: 0\n",
            "Number of PDF files: 0\n",
            "Number of PDF files: 0\n",
            "Number of PDF files: 0\n",
            "Number of PDF files: 0\n",
            "Number of PDF files: 0\n",
            "Number of PDF files: 0\n",
            "Number of PDF files: 0\n",
            "Number of PDF files: 0\n",
            "Number of PDF files: 0\n",
            "Number of PDF files: 0\n",
            "Number of PDF files: 0\n",
            "Number of PDF files: 0\n",
            "Number of PDF files: 0\n",
            "Number of PDF files: 0\n",
            "Number of PDF files: 0\n",
            "Number of PDF files: 0\n",
            "Number of PDF files: 0\n",
            "Number of PDF files: 0\n",
            "Number of PDF files: 0\n",
            "Number of PDF files: 0\n",
            "Number of PDF files: 0\n",
            "Number of PDF files: 0\n",
            "Number of PDF files: 0\n",
            "Number of PDF files: 0\n",
            "Number of PDF files: 0\n",
            "Number of PDF files: 0\n",
            "Number of PDF files: 0\n",
            "Number of PDF files: 0\n",
            "Number of PDF files: 0\n",
            "Number of PDF files: 0\n",
            "Number of PDF files: 0\n",
            "Number of PDF files: 0\n",
            "Number of PDF files: 0\n",
            "Number of PDF files: 0\n",
            "Number of PDF files: 0\n",
            "Number of PDF files: 0\n",
            "Number of PDF files: 0\n",
            "Number of PDF files: 0\n",
            "Number of PDF files: 0\n",
            "Number of PDF files: 0\n",
            "Number of PDF files: 0\n",
            "Number of PDF files: 0\n",
            "Number of PDF files: 0\n",
            "Number of PDF files: 0\n",
            "Number of PDF files: 0\n",
            "Number of PDF files: 0\n",
            "Number of PDF files: 0\n",
            "Number of PDF files: 0\n",
            "Number of PDF files: 0\n",
            "Number of PDF files: 0\n",
            "Number of PDF files: 0\n",
            "Number of PDF files: 0\n",
            "Number of PDF files: 0\n",
            "Number of PDF files: 0\n",
            "Number of PDF files: 0\n",
            "Number of PDF files: 0\n",
            "Number of PDF files: 0\n",
            "Number of PDF files: 0\n",
            "Number of PDF files: 0\n",
            "Number of PDF files: 0\n",
            "Number of PDF files: 0\n",
            "Number of PDF files: 0\n",
            "Number of PDF files: 0\n",
            "Number of PDF files: 0\n",
            "Number of PDF files: 0\n",
            "Number of PDF files: 0\n",
            "Number of PDF files: 0\n",
            "Number of PDF files: 0\n",
            "Number of PDF files: 0\n",
            "Number of PDF files: 0\n",
            "Number of PDF files: 0\n",
            "Number of PDF files: 0\n",
            "Number of PDF files: 0\n",
            "Number of PDF files: 0\n",
            "Number of PDF files: 0\n",
            "Number of PDF files: 0\n",
            "Number of PDF files: 0\n",
            "Number of PDF files: 0\n",
            "Number of PDF files: 0\n",
            "Number of PDF files: 0\n",
            "Number of PDF files: 0\n",
            "Number of PDF files: 0\n",
            "Number of PDF files: 0\n",
            "Number of PDF files: 0\n",
            "Number of PDF files: 0\n",
            "Number of PDF files: 0\n",
            "Number of PDF files: 0\n",
            "Number of PDF files: 0\n",
            "Number of PDF files: 0\n",
            "Number of PDF files: 0\n",
            "Number of PDF files: 0\n",
            "Number of PDF files: 0\n",
            "Number of PDF files: 0\n",
            "Number of PDF files: 0\n",
            "Number of PDF files: 0\n",
            "Number of PDF files: 0\n",
            "Number of PDF files: 0\n",
            "Number of PDF files: 0\n",
            "Number of PDF files: 0\n",
            "Number of PDF files: 0\n",
            "Number of PDF files: 0\n",
            "Number of PDF files: 0\n",
            "Number of PDF files: 0\n",
            "Number of PDF files: 0\n",
            "Number of PDF files: 0\n",
            "Number of PDF files: 0\n",
            "Number of PDF files: 0\n",
            "Number of PDF files: 0\n",
            "Number of PDF files: 0\n",
            "Number of PDF files: 0\n",
            "Number of PDF files: 0\n",
            "Number of PDF files: 0\n",
            "Number of PDF files: 0\n",
            "Number of PDF files: 0\n",
            "Number of PDF files: 0\n",
            "Number of PDF files: 0\n",
            "Number of PDF files: 0\n",
            "Number of PDF files: 0\n",
            "Number of PDF files: 0\n",
            "Number of PDF files: 0\n",
            "Number of PDF files: 0\n",
            "Number of PDF files: 0\n",
            "Number of PDF files: 0\n",
            "Number of PDF files: 0\n",
            "Number of PDF files: 0\n",
            "Number of PDF files: 0\n",
            "Number of PDF files: 0\n",
            "Number of PDF files: 0\n",
            "Number of PDF files: 0\n",
            "Number of PDF files: 0\n",
            "Number of PDF files: 0\n",
            "Number of PDF files: 0\n",
            "Number of PDF files: 0\n",
            "Number of PDF files: 0\n",
            "Number of PDF files: 0\n",
            "Number of PDF files: 0\n",
            "Number of PDF files: 0\n",
            "Number of PDF files: 0\n",
            "Number of PDF files: 0\n",
            "Number of PDF files: 0\n",
            "Number of PDF files: 0\n",
            "Number of PDF files: 0\n",
            "Number of PDF files: 0\n",
            "Number of PDF files: 0\n",
            "Number of PDF files: 0\n",
            "Number of PDF files: 0\n",
            "Number of PDF files: 0\n",
            "Number of PDF files: 0\n",
            "Number of PDF files: 0\n",
            "Number of PDF files: 0\n",
            "Number of PDF files: 0\n",
            "Number of PDF files: 0\n",
            "Number of PDF files: 0\n",
            "Number of PDF files: 0\n",
            "Number of PDF files: 0\n",
            "Number of PDF files: 0\n",
            "Number of PDF files: 0\n",
            "Number of PDF files: 0\n",
            "Number of PDF files: 0\n",
            "Number of PDF files: 0\n",
            "Number of PDF files: 0\n",
            "Number of PDF files: 0\n",
            "Number of PDF files: 0\n",
            "Number of PDF files: 0\n",
            "Number of PDF files: 0\n",
            "Number of PDF files: 0\n",
            "Number of PDF files: 0\n",
            "Number of PDF files: 0\n",
            "Number of PDF files: 0\n",
            "Number of PDF files: 0\n",
            "Number of PDF files: 0\n",
            "Number of PDF files: 0\n",
            "Number of PDF files: 0\n",
            "Number of PDF files: 0\n",
            "Number of PDF files: 0\n",
            "Number of PDF files: 0\n",
            "Number of PDF files: 0\n",
            "Number of PDF files: 0\n",
            "Number of PDF files: 0\n",
            "Number of PDF files: 0\n",
            "Number of PDF files: 0\n",
            "Number of PDF files: 0\n",
            "Number of PDF files: 0\n",
            "Number of PDF files: 0\n",
            "Number of PDF files: 0\n",
            "Number of PDF files: 0\n",
            "Number of PDF files: 0\n",
            "Number of PDF files: 0\n",
            "Number of PDF files: 0\n",
            "Number of PDF files: 0\n",
            "Number of PDF files: 0\n",
            "Number of PDF files: 0\n",
            "Number of PDF files: 0\n",
            "Number of PDF files: 0\n",
            "Number of PDF files: 0\n",
            "Number of PDF files: 0\n",
            "Number of PDF files: 0\n",
            "Number of PDF files: 0\n",
            "Number of PDF files: 0\n",
            "Number of PDF files: 0\n",
            "Number of PDF files: 0\n",
            "Number of PDF files: 0\n",
            "Number of PDF files: 0\n",
            "Number of PDF files: 0\n",
            "Number of PDF files: 0\n",
            "Number of PDF files: 0\n",
            "Number of PDF files: 0\n",
            "Number of PDF files: 0\n",
            "Number of PDF files: 0\n",
            "Number of PDF files: 0\n",
            "Number of PDF files: 0\n",
            "Number of PDF files: 0\n",
            "Number of PDF files: 0\n",
            "Number of PDF files: 0\n",
            "Number of PDF files: 0\n",
            "Number of PDF files: 0\n",
            "Number of PDF files: 0\n",
            "Number of PDF files: 0\n",
            "Number of PDF files: 0\n",
            "Number of PDF files: 0\n",
            "Number of PDF files: 0\n",
            "Number of PDF files: 0\n",
            "Number of PDF files: 0\n",
            "Number of PDF files: 0\n",
            "Number of PDF files: 0\n",
            "Number of PDF files: 0\n",
            "Number of PDF files: 0\n",
            "Number of PDF files: 0\n",
            "Number of PDF files: 0\n",
            "Number of PDF files: 0\n",
            "Number of PDF files: 0\n",
            "Number of PDF files: 0\n",
            "Number of PDF files: 0\n",
            "Number of PDF files: 0\n",
            "Number of PDF files: 0\n",
            "Number of PDF files: 0\n",
            "Number of PDF files: 0\n",
            "Number of PDF files: 0\n",
            "Number of PDF files: 0\n",
            "Number of PDF files: 0\n",
            "Number of PDF files: 0\n",
            "Number of PDF files: 0\n",
            "Number of PDF files: 0\n",
            "Number of PDF files: 0\n",
            "Number of PDF files: 0\n",
            "Number of PDF files: 0\n",
            "Number of PDF files: 0\n",
            "Number of PDF files: 0\n",
            "Number of PDF files: 0\n",
            "Number of PDF files: 0\n",
            "Number of PDF files: 0\n",
            "Number of PDF files: 0\n",
            "Number of PDF files: 0\n",
            "Number of PDF files: 0\n",
            "Number of PDF files: 0\n",
            "Number of PDF files: 0\n",
            "Number of PDF files: 0\n",
            "Number of PDF files: 0\n",
            "Number of PDF files: 0\n",
            "Number of PDF files: 0\n",
            "Number of PDF files: 0\n",
            "Number of PDF files: 0\n",
            "Number of PDF files: 0\n",
            "Number of PDF files: 0\n",
            "Number of PDF files: 0\n",
            "Number of PDF files: 0\n",
            "Number of PDF files: 0\n",
            "Number of PDF files: 0\n",
            "Number of PDF files: 0\n",
            "Number of PDF files: 0\n",
            "Number of PDF files: 0\n",
            "Number of PDF files: 0\n",
            "Number of PDF files: 0\n",
            "Number of PDF files: 0\n",
            "Number of PDF files: 0\n",
            "Number of PDF files: 0\n",
            "Number of PDF files: 0\n",
            "Number of PDF files: 0\n",
            "Number of PDF files: 0\n",
            "Number of PDF files: 0\n",
            "Number of PDF files: 5\n"
          ]
        }
      ]
    },
    {
      "cell_type": "code",
      "source": [
        "!pip install certifi"
      ],
      "metadata": {
        "colab": {
          "base_uri": "https://localhost:8080/"
        },
        "id": "xmMcAcVm9Wql",
        "outputId": "4c76a104-5500-4aba-bc46-66c73e8477e2"
      },
      "execution_count": 3,
      "outputs": [
        {
          "output_type": "stream",
          "name": "stdout",
          "text": [
            "Looking in indexes: https://pypi.org/simple, https://us-python.pkg.dev/colab-wheels/public/simple/\n",
            "Requirement already satisfied: certifi in /usr/local/lib/python3.10/dist-packages (2023.5.7)\n"
          ]
        }
      ]
    },
    {
      "cell_type": "code",
      "source": [
        "import certifi\n",
        "os.environ[\"REQUESTS_CA_BUNDLE\"] = certifi.where()\n",
        "#response = requests.get(url, verify=False)"
      ],
      "metadata": {
        "id": "_89Ncf3D9gR6"
      },
      "execution_count": 5,
      "outputs": []
    },
    {
      "cell_type": "code",
      "source": [
        "import os\n",
        "import requests\n",
        "from bs4 import BeautifulSoup\n",
        "import urllib.parse\n",
        "from tqdm import tqdm\n",
        "import time\n",
        "\n",
        "# URL of the webpage you want to scrape PDF files from\n",
        "url = \"https://nesco.gov.bd/\"\n",
        "\n",
        "# Create a directory to store the downloaded PDF files\n",
        "download_dir = \"pdf_files3\"\n",
        "os.makedirs(download_dir, exist_ok=True)\n",
        "\n",
        "# Function to download PDF files from a given URL\n",
        "def download_pdf(url):\n",
        "    try:\n",
        "        # Send a GET request to the URL\n",
        "        response = requests.get(url)\n",
        "        response.raise_for_status()\n",
        "\n",
        "        # Create a BeautifulSoup object to parse the HTML content\n",
        "        soup = BeautifulSoup(response.content, \"html.parser\")\n",
        "\n",
        "        # Find all the <a> tags in the HTML that have a href attribute\n",
        "        a_tags = soup.find_all(\"a\", href=True)\n",
        "\n",
        "        # Iterate over the <a> tags and download the PDF files\n",
        "        for a_tag in tqdm(a_tags, desc=\"Downloading PDF files\"):\n",
        "            href = a_tag[\"href\"]\n",
        "            if href.endswith(\".pdf\"):\n",
        "                # Construct the absolute URL of the PDF file\n",
        "                pdf_url = urllib.parse.urljoin(url, href)\n",
        "\n",
        "                # Specify the output file path for the PDF file\n",
        "                output_filename = href.split(\"/\")[-1][:100]  # Truncate the file name to a maximum of 100 characters\n",
        "                output_path = os.path.join(download_dir, output_filename)\n",
        "\n",
        "                # Check if the file already exists\n",
        "                if os.path.exists(output_path):\n",
        "                    print(f\"PDF file '{output_path}' already exists. Skipping download.\")\n",
        "                    continue\n",
        "\n",
        "                # Retry logic for connection errors\n",
        "                max_retries = 3\n",
        "                retries = 0\n",
        "                while retries < max_retries:\n",
        "                    try:\n",
        "                        # Send a GET request to the PDF URL\n",
        "                        pdf_response = requests.get(pdf_url)\n",
        "                        pdf_response.raise_for_status()\n",
        "\n",
        "                        # Save the PDF file\n",
        "                        with open(output_path, \"wb\") as file:\n",
        "                            file.write(pdf_response.content)\n",
        "\n",
        "                        print(f\"PDF file '{output_path}' downloaded successfully!\")\n",
        "                        break  # Break out of the retry loop if successful\n",
        "\n",
        "                    except requests.exceptions.RequestException as e:\n",
        "                        print(f\"Error downloading PDF file: {e}\")\n",
        "                        retries += 1\n",
        "                        print(f\"Retrying ({retries}/{max_retries})...\")\n",
        "                        time.sleep(5)  # Wait for 5 seconds before retrying\n",
        "\n",
        "                    except ConnectionResetError as e:\n",
        "                        print(f\"Connection reset by peer. Retrying ({retries}/{max_retries})...\")\n",
        "                        retries += 1\n",
        "                        time.sleep(5)  # Wait for 5 seconds before retrying\n",
        "\n",
        "    except requests.exceptions.RequestException as e:\n",
        "        print(f\"Error accessing URL: {e}\")\n",
        "\n",
        "# Send a GET request to the webpage\n",
        "#response = requests.get(url)\n",
        "response = requests.get(url, verify=False)\n",
        "response.raise_for_status()\n",
        "\n",
        "# Create a BeautifulSoup object to parse the HTML content\n",
        "soup = BeautifulSoup(response.content, \"html.parser\")\n",
        "\n",
        "# Find all the <a> tags in the HTML that have a href attribute\n",
        "a_tags = soup.find_all(\"a\", href=True)\n",
        "\n",
        "# Iterate over the <a> tags and visit each link\n",
        "for a_tag in a_tags:\n",
        "    href = a_tag[\"href\"]\n",
        "    if href.startswith(\"http\"):\n",
        "        # Construct the absolute URL of the link\n",
        "        link_url = urllib.parse.urljoin(url, href)\n",
        "        download_pdf(link_url)\n"
      ],
      "metadata": {
        "colab": {
          "base_uri": "https://localhost:8080/",
          "height": 1000
        },
        "id": "oopHwHCHXjDP",
        "outputId": "98310bc0-99e4-466f-a9e9-9a1435f3ad08"
      },
      "execution_count": 7,
      "outputs": [
        {
          "output_type": "stream",
          "name": "stderr",
          "text": [
            "/usr/local/lib/python3.10/dist-packages/urllib3/connectionpool.py:1056: InsecureRequestWarning: Unverified HTTPS request is being made to host 'nesco.gov.bd'. Adding certificate verification is strongly advised. See: https://urllib3.readthedocs.io/en/1.26.x/advanced-usage.html#ssl-warnings\n",
            "  warnings.warn(\n",
            "Downloading PDF files: 0it [00:00, ?it/s]\n",
            "Downloading PDF files: 0it [00:00, ?it/s]\n",
            "Downloading PDF files:   0%|          | 0/149 [00:00<?, ?it/s]"
          ]
        },
        {
          "output_type": "stream",
          "name": "stdout",
          "text": [
            "Error downloading PDF file: HTTPSConnectionPool(host='nesco.gov.bd', port=443): Max retries exceeded with url: /sites/default/files/files/nesco.portal.gov.bd/files/484e5afb_cc8f_49fa_8217_ade143069e84/2021-10-06-10-42-b4cfdd307f9f93bde0088a6d5c43d7d8.pdf (Caused by SSLError(SSLCertVerificationError(1, '[SSL: CERTIFICATE_VERIFY_FAILED] certificate verify failed: unable to get local issuer certificate (_ssl.c:1007)')))\n",
            "Retrying (1/3)...\n",
            "Error downloading PDF file: HTTPSConnectionPool(host='nesco.gov.bd', port=443): Max retries exceeded with url: /sites/default/files/files/nesco.portal.gov.bd/files/484e5afb_cc8f_49fa_8217_ade143069e84/2021-10-06-10-42-b4cfdd307f9f93bde0088a6d5c43d7d8.pdf (Caused by SSLError(SSLCertVerificationError(1, '[SSL: CERTIFICATE_VERIFY_FAILED] certificate verify failed: unable to get local issuer certificate (_ssl.c:1007)')))\n",
            "Retrying (2/3)...\n",
            "Error downloading PDF file: HTTPSConnectionPool(host='nesco.gov.bd', port=443): Max retries exceeded with url: /sites/default/files/files/nesco.portal.gov.bd/files/484e5afb_cc8f_49fa_8217_ade143069e84/2021-10-06-10-42-b4cfdd307f9f93bde0088a6d5c43d7d8.pdf (Caused by SSLError(SSLCertVerificationError(1, '[SSL: CERTIFICATE_VERIFY_FAILED] certificate verify failed: unable to get local issuer certificate (_ssl.c:1007)')))\n",
            "Retrying (3/3)...\n"
          ]
        },
        {
          "output_type": "stream",
          "name": "stderr",
          "text": [
            "\rDownloading PDF files:  57%|█████▋    | 85/149 [00:16<00:12,  5.16it/s]"
          ]
        },
        {
          "output_type": "stream",
          "name": "stdout",
          "text": [
            "Error downloading PDF file: (\"Connection broken: ConnectionResetError(104, 'Connection reset by peer')\", ConnectionResetError(104, 'Connection reset by peer'))\n",
            "Retrying (1/3)...\n",
            "Error downloading PDF file: (\"Connection broken: ConnectionResetError(104, 'Connection reset by peer')\", ConnectionResetError(104, 'Connection reset by peer'))\n",
            "Retrying (2/3)...\n"
          ]
        },
        {
          "output_type": "stream",
          "name": "stderr",
          "text": [
            "Downloading PDF files: 100%|██████████| 149/149 [02:14<00:00,  1.11it/s]"
          ]
        },
        {
          "output_type": "stream",
          "name": "stdout",
          "text": [
            "PDF file 'pdf_files3/2021-06-23-10-57-4d4e8a61e114981bbee12dc53ee10683.pdf' downloaded successfully!\n"
          ]
        },
        {
          "output_type": "stream",
          "name": "stderr",
          "text": [
            "\n",
            "Downloading PDF files:   0%|          | 0/147 [00:00<?, ?it/s]"
          ]
        },
        {
          "output_type": "stream",
          "name": "stdout",
          "text": [
            "Error downloading PDF file: HTTPSConnectionPool(host='nesco.gov.bd', port=443): Max retries exceeded with url: /sites/default/files/files/nesco.portal.gov.bd/files/484e5afb_cc8f_49fa_8217_ade143069e84/2021-10-06-10-42-b4cfdd307f9f93bde0088a6d5c43d7d8.pdf (Caused by SSLError(SSLCertVerificationError(1, '[SSL: CERTIFICATE_VERIFY_FAILED] certificate verify failed: unable to get local issuer certificate (_ssl.c:1007)')))\n",
            "Retrying (1/3)...\n",
            "Error downloading PDF file: HTTPSConnectionPool(host='nesco.gov.bd', port=443): Max retries exceeded with url: /sites/default/files/files/nesco.portal.gov.bd/files/484e5afb_cc8f_49fa_8217_ade143069e84/2021-10-06-10-42-b4cfdd307f9f93bde0088a6d5c43d7d8.pdf (Caused by SSLError(SSLCertVerificationError(1, '[SSL: CERTIFICATE_VERIFY_FAILED] certificate verify failed: unable to get local issuer certificate (_ssl.c:1007)')))\n",
            "Retrying (2/3)...\n",
            "Error downloading PDF file: HTTPSConnectionPool(host='nesco.gov.bd', port=443): Max retries exceeded with url: /sites/default/files/files/nesco.portal.gov.bd/files/484e5afb_cc8f_49fa_8217_ade143069e84/2021-10-06-10-42-b4cfdd307f9f93bde0088a6d5c43d7d8.pdf (Caused by SSLError(SSLCertVerificationError(1, '[SSL: CERTIFICATE_VERIFY_FAILED] certificate verify failed: unable to get local issuer certificate (_ssl.c:1007)')))\n",
            "Retrying (3/3)...\n"
          ]
        },
        {
          "output_type": "stream",
          "name": "stderr",
          "text": [
            "Downloading PDF files: 100%|██████████| 147/147 [00:16<00:00,  8.93it/s]\n"
          ]
        },
        {
          "output_type": "stream",
          "name": "stdout",
          "text": [
            "PDF file 'pdf_files3/2021-06-23-10-57-4d4e8a61e114981bbee12dc53ee10683.pdf' already exists. Skipping download.\n"
          ]
        },
        {
          "output_type": "stream",
          "name": "stderr",
          "text": [
            "Downloading PDF files:   5%|▍         | 3/65 [00:02<00:49,  1.25it/s]"
          ]
        },
        {
          "output_type": "stream",
          "name": "stdout",
          "text": [
            "PDF file 'pdf_files3/gpay-postpaid.pdf' downloaded successfully!\n"
          ]
        },
        {
          "output_type": "stream",
          "name": "stderr",
          "text": [
            "\rDownloading PDF files:   6%|▌         | 4/65 [00:04<01:09,  1.15s/it]"
          ]
        },
        {
          "output_type": "stream",
          "name": "stdout",
          "text": [
            "PDF file 'pdf_files3/tap-postpaid.pdf' downloaded successfully!\n"
          ]
        },
        {
          "output_type": "stream",
          "name": "stderr",
          "text": [
            "\rDownloading PDF files:   8%|▊         | 5/65 [01:02<19:11, 19.20s/it]"
          ]
        },
        {
          "output_type": "stream",
          "name": "stdout",
          "text": [
            "PDF file 'pdf_files3/telecash-postpaid.pdf' downloaded successfully!\n"
          ]
        },
        {
          "output_type": "stream",
          "name": "stderr",
          "text": [
            "\rDownloading PDF files:   9%|▉         | 6/65 [01:05<13:44, 13.98s/it]"
          ]
        },
        {
          "output_type": "stream",
          "name": "stdout",
          "text": [
            "PDF file 'pdf_files3/nagad-postpaid.pdf' downloaded successfully!\n"
          ]
        },
        {
          "output_type": "stream",
          "name": "stderr",
          "text": [
            "\rDownloading PDF files:  11%|█         | 7/65 [01:07<10:05, 10.44s/it]"
          ]
        },
        {
          "output_type": "stream",
          "name": "stdout",
          "text": [
            "PDF file 'pdf_files3/bkash-postpaid.pdf' downloaded successfully!\n"
          ]
        },
        {
          "output_type": "stream",
          "name": "stderr",
          "text": [
            "\rDownloading PDF files:  12%|█▏        | 8/65 [01:09<07:31,  7.92s/it]"
          ]
        },
        {
          "output_type": "stream",
          "name": "stdout",
          "text": [
            "PDF file 'pdf_files3/rocket-postpaid.pdf' downloaded successfully!\n"
          ]
        },
        {
          "output_type": "stream",
          "name": "stderr",
          "text": [
            "\rDownloading PDF files:  14%|█▍        | 9/65 [01:12<05:49,  6.24s/it]"
          ]
        },
        {
          "output_type": "stream",
          "name": "stdout",
          "text": [
            "PDF file 'pdf_files3/robicash-postpaid.pdf' downloaded successfully!\n"
          ]
        },
        {
          "output_type": "stream",
          "name": "stderr",
          "text": [
            "\rDownloading PDF files:  22%|██▏       | 14/65 [01:14<01:57,  2.30s/it]"
          ]
        },
        {
          "output_type": "stream",
          "name": "stdout",
          "text": [
            "PDF file 'pdf_files3/visa-master-amex-card-postpaid.pdf' downloaded successfully!\n",
            "PDF file 'pdf_files3/visa-master-amex-card-postpaid.pdf' already exists. Skipping download.\n",
            "PDF file 'pdf_files3/visa-master-amex-card-postpaid.pdf' already exists. Skipping download.\n"
          ]
        },
        {
          "output_type": "stream",
          "name": "stderr",
          "text": [
            "\rDownloading PDF files:  46%|████▌     | 30/65 [01:16<00:22,  1.57it/s]"
          ]
        },
        {
          "output_type": "stream",
          "name": "stdout",
          "text": [
            "PDF file 'pdf_files3/required_documents_for_new_connection.pdf' downloaded successfully!\n"
          ]
        },
        {
          "output_type": "stream",
          "name": "stderr",
          "text": [
            "\rDownloading PDF files:  48%|████▊     | 31/65 [27:41<30:21, 53.58s/it]\n"
          ]
        },
        {
          "output_type": "error",
          "ename": "KeyboardInterrupt",
          "evalue": "ignored",
          "traceback": [
            "\u001b[0;31m---------------------------------------------------------------------------\u001b[0m",
            "\u001b[0;31mKeyboardInterrupt\u001b[0m                         Traceback (most recent call last)",
            "\u001b[0;32m<ipython-input-7-9958f858783f>\u001b[0m in \u001b[0;36m<cell line: 86>\u001b[0;34m()\u001b[0m\n\u001b[1;32m     89\u001b[0m         \u001b[0;31m# Construct the absolute URL of the link\u001b[0m\u001b[0;34m\u001b[0m\u001b[0;34m\u001b[0m\u001b[0m\n\u001b[1;32m     90\u001b[0m         \u001b[0mlink_url\u001b[0m \u001b[0;34m=\u001b[0m \u001b[0murllib\u001b[0m\u001b[0;34m.\u001b[0m\u001b[0mparse\u001b[0m\u001b[0;34m.\u001b[0m\u001b[0murljoin\u001b[0m\u001b[0;34m(\u001b[0m\u001b[0murl\u001b[0m\u001b[0;34m,\u001b[0m \u001b[0mhref\u001b[0m\u001b[0;34m)\u001b[0m\u001b[0;34m\u001b[0m\u001b[0;34m\u001b[0m\u001b[0m\n\u001b[0;32m---> 91\u001b[0;31m         \u001b[0mdownload_pdf\u001b[0m\u001b[0;34m(\u001b[0m\u001b[0mlink_url\u001b[0m\u001b[0;34m)\u001b[0m\u001b[0;34m\u001b[0m\u001b[0;34m\u001b[0m\u001b[0m\n\u001b[0m",
            "\u001b[0;32m<ipython-input-7-9958f858783f>\u001b[0m in \u001b[0;36mdownload_pdf\u001b[0;34m(url)\u001b[0m\n\u001b[1;32m     48\u001b[0m                     \u001b[0;32mtry\u001b[0m\u001b[0;34m:\u001b[0m\u001b[0;34m\u001b[0m\u001b[0;34m\u001b[0m\u001b[0m\n\u001b[1;32m     49\u001b[0m                         \u001b[0;31m# Send a GET request to the PDF URL\u001b[0m\u001b[0;34m\u001b[0m\u001b[0;34m\u001b[0m\u001b[0m\n\u001b[0;32m---> 50\u001b[0;31m                         \u001b[0mpdf_response\u001b[0m \u001b[0;34m=\u001b[0m \u001b[0mrequests\u001b[0m\u001b[0;34m.\u001b[0m\u001b[0mget\u001b[0m\u001b[0;34m(\u001b[0m\u001b[0mpdf_url\u001b[0m\u001b[0;34m)\u001b[0m\u001b[0;34m\u001b[0m\u001b[0;34m\u001b[0m\u001b[0m\n\u001b[0m\u001b[1;32m     51\u001b[0m                         \u001b[0mpdf_response\u001b[0m\u001b[0;34m.\u001b[0m\u001b[0mraise_for_status\u001b[0m\u001b[0;34m(\u001b[0m\u001b[0;34m)\u001b[0m\u001b[0;34m\u001b[0m\u001b[0;34m\u001b[0m\u001b[0m\n\u001b[1;32m     52\u001b[0m \u001b[0;34m\u001b[0m\u001b[0m\n",
            "\u001b[0;32m/usr/local/lib/python3.10/dist-packages/requests/api.py\u001b[0m in \u001b[0;36mget\u001b[0;34m(url, params, **kwargs)\u001b[0m\n\u001b[1;32m     73\u001b[0m     \"\"\"\n\u001b[1;32m     74\u001b[0m \u001b[0;34m\u001b[0m\u001b[0m\n\u001b[0;32m---> 75\u001b[0;31m     \u001b[0;32mreturn\u001b[0m \u001b[0mrequest\u001b[0m\u001b[0;34m(\u001b[0m\u001b[0;34m'get'\u001b[0m\u001b[0;34m,\u001b[0m \u001b[0murl\u001b[0m\u001b[0;34m,\u001b[0m \u001b[0mparams\u001b[0m\u001b[0;34m=\u001b[0m\u001b[0mparams\u001b[0m\u001b[0;34m,\u001b[0m \u001b[0;34m**\u001b[0m\u001b[0mkwargs\u001b[0m\u001b[0;34m)\u001b[0m\u001b[0;34m\u001b[0m\u001b[0;34m\u001b[0m\u001b[0m\n\u001b[0m\u001b[1;32m     76\u001b[0m \u001b[0;34m\u001b[0m\u001b[0m\n\u001b[1;32m     77\u001b[0m \u001b[0;34m\u001b[0m\u001b[0m\n",
            "\u001b[0;32m/usr/local/lib/python3.10/dist-packages/requests/api.py\u001b[0m in \u001b[0;36mrequest\u001b[0;34m(method, url, **kwargs)\u001b[0m\n\u001b[1;32m     59\u001b[0m     \u001b[0;31m# cases, and look like a memory leak in others.\u001b[0m\u001b[0;34m\u001b[0m\u001b[0;34m\u001b[0m\u001b[0m\n\u001b[1;32m     60\u001b[0m     \u001b[0;32mwith\u001b[0m \u001b[0msessions\u001b[0m\u001b[0;34m.\u001b[0m\u001b[0mSession\u001b[0m\u001b[0;34m(\u001b[0m\u001b[0;34m)\u001b[0m \u001b[0;32mas\u001b[0m \u001b[0msession\u001b[0m\u001b[0;34m:\u001b[0m\u001b[0;34m\u001b[0m\u001b[0;34m\u001b[0m\u001b[0m\n\u001b[0;32m---> 61\u001b[0;31m         \u001b[0;32mreturn\u001b[0m \u001b[0msession\u001b[0m\u001b[0;34m.\u001b[0m\u001b[0mrequest\u001b[0m\u001b[0;34m(\u001b[0m\u001b[0mmethod\u001b[0m\u001b[0;34m=\u001b[0m\u001b[0mmethod\u001b[0m\u001b[0;34m,\u001b[0m \u001b[0murl\u001b[0m\u001b[0;34m=\u001b[0m\u001b[0murl\u001b[0m\u001b[0;34m,\u001b[0m \u001b[0;34m**\u001b[0m\u001b[0mkwargs\u001b[0m\u001b[0;34m)\u001b[0m\u001b[0;34m\u001b[0m\u001b[0;34m\u001b[0m\u001b[0m\n\u001b[0m\u001b[1;32m     62\u001b[0m \u001b[0;34m\u001b[0m\u001b[0m\n\u001b[1;32m     63\u001b[0m \u001b[0;34m\u001b[0m\u001b[0m\n",
            "\u001b[0;32m/usr/local/lib/python3.10/dist-packages/requests/sessions.py\u001b[0m in \u001b[0;36mrequest\u001b[0;34m(self, method, url, params, data, headers, cookies, files, auth, timeout, allow_redirects, proxies, hooks, stream, verify, cert, json)\u001b[0m\n\u001b[1;32m    527\u001b[0m         }\n\u001b[1;32m    528\u001b[0m         \u001b[0msend_kwargs\u001b[0m\u001b[0;34m.\u001b[0m\u001b[0mupdate\u001b[0m\u001b[0;34m(\u001b[0m\u001b[0msettings\u001b[0m\u001b[0;34m)\u001b[0m\u001b[0;34m\u001b[0m\u001b[0;34m\u001b[0m\u001b[0m\n\u001b[0;32m--> 529\u001b[0;31m         \u001b[0mresp\u001b[0m \u001b[0;34m=\u001b[0m \u001b[0mself\u001b[0m\u001b[0;34m.\u001b[0m\u001b[0msend\u001b[0m\u001b[0;34m(\u001b[0m\u001b[0mprep\u001b[0m\u001b[0;34m,\u001b[0m \u001b[0;34m**\u001b[0m\u001b[0msend_kwargs\u001b[0m\u001b[0;34m)\u001b[0m\u001b[0;34m\u001b[0m\u001b[0;34m\u001b[0m\u001b[0m\n\u001b[0m\u001b[1;32m    530\u001b[0m \u001b[0;34m\u001b[0m\u001b[0m\n\u001b[1;32m    531\u001b[0m         \u001b[0;32mreturn\u001b[0m \u001b[0mresp\u001b[0m\u001b[0;34m\u001b[0m\u001b[0;34m\u001b[0m\u001b[0m\n",
            "\u001b[0;32m/usr/local/lib/python3.10/dist-packages/requests/sessions.py\u001b[0m in \u001b[0;36msend\u001b[0;34m(self, request, **kwargs)\u001b[0m\n\u001b[1;32m    685\u001b[0m \u001b[0;34m\u001b[0m\u001b[0m\n\u001b[1;32m    686\u001b[0m         \u001b[0;32mif\u001b[0m \u001b[0;32mnot\u001b[0m \u001b[0mstream\u001b[0m\u001b[0;34m:\u001b[0m\u001b[0;34m\u001b[0m\u001b[0;34m\u001b[0m\u001b[0m\n\u001b[0;32m--> 687\u001b[0;31m             \u001b[0mr\u001b[0m\u001b[0;34m.\u001b[0m\u001b[0mcontent\u001b[0m\u001b[0;34m\u001b[0m\u001b[0;34m\u001b[0m\u001b[0m\n\u001b[0m\u001b[1;32m    688\u001b[0m \u001b[0;34m\u001b[0m\u001b[0m\n\u001b[1;32m    689\u001b[0m         \u001b[0;32mreturn\u001b[0m \u001b[0mr\u001b[0m\u001b[0;34m\u001b[0m\u001b[0;34m\u001b[0m\u001b[0m\n",
            "\u001b[0;32m/usr/local/lib/python3.10/dist-packages/requests/models.py\u001b[0m in \u001b[0;36mcontent\u001b[0;34m(self)\u001b[0m\n\u001b[1;32m    836\u001b[0m                 \u001b[0mself\u001b[0m\u001b[0;34m.\u001b[0m\u001b[0m_content\u001b[0m \u001b[0;34m=\u001b[0m \u001b[0;32mNone\u001b[0m\u001b[0;34m\u001b[0m\u001b[0;34m\u001b[0m\u001b[0m\n\u001b[1;32m    837\u001b[0m             \u001b[0;32melse\u001b[0m\u001b[0;34m:\u001b[0m\u001b[0;34m\u001b[0m\u001b[0;34m\u001b[0m\u001b[0m\n\u001b[0;32m--> 838\u001b[0;31m                 \u001b[0mself\u001b[0m\u001b[0;34m.\u001b[0m\u001b[0m_content\u001b[0m \u001b[0;34m=\u001b[0m \u001b[0;34mb''\u001b[0m\u001b[0;34m.\u001b[0m\u001b[0mjoin\u001b[0m\u001b[0;34m(\u001b[0m\u001b[0mself\u001b[0m\u001b[0;34m.\u001b[0m\u001b[0miter_content\u001b[0m\u001b[0;34m(\u001b[0m\u001b[0mCONTENT_CHUNK_SIZE\u001b[0m\u001b[0;34m)\u001b[0m\u001b[0;34m)\u001b[0m \u001b[0;32mor\u001b[0m \u001b[0;34mb''\u001b[0m\u001b[0;34m\u001b[0m\u001b[0;34m\u001b[0m\u001b[0m\n\u001b[0m\u001b[1;32m    839\u001b[0m \u001b[0;34m\u001b[0m\u001b[0m\n\u001b[1;32m    840\u001b[0m         \u001b[0mself\u001b[0m\u001b[0;34m.\u001b[0m\u001b[0m_content_consumed\u001b[0m \u001b[0;34m=\u001b[0m \u001b[0;32mTrue\u001b[0m\u001b[0;34m\u001b[0m\u001b[0;34m\u001b[0m\u001b[0m\n",
            "\u001b[0;32m/usr/local/lib/python3.10/dist-packages/requests/models.py\u001b[0m in \u001b[0;36mgenerate\u001b[0;34m()\u001b[0m\n\u001b[1;32m    758\u001b[0m             \u001b[0;32mif\u001b[0m \u001b[0mhasattr\u001b[0m\u001b[0;34m(\u001b[0m\u001b[0mself\u001b[0m\u001b[0;34m.\u001b[0m\u001b[0mraw\u001b[0m\u001b[0;34m,\u001b[0m \u001b[0;34m'stream'\u001b[0m\u001b[0;34m)\u001b[0m\u001b[0;34m:\u001b[0m\u001b[0;34m\u001b[0m\u001b[0;34m\u001b[0m\u001b[0m\n\u001b[1;32m    759\u001b[0m                 \u001b[0;32mtry\u001b[0m\u001b[0;34m:\u001b[0m\u001b[0;34m\u001b[0m\u001b[0;34m\u001b[0m\u001b[0m\n\u001b[0;32m--> 760\u001b[0;31m                     \u001b[0;32mfor\u001b[0m \u001b[0mchunk\u001b[0m \u001b[0;32min\u001b[0m \u001b[0mself\u001b[0m\u001b[0;34m.\u001b[0m\u001b[0mraw\u001b[0m\u001b[0;34m.\u001b[0m\u001b[0mstream\u001b[0m\u001b[0;34m(\u001b[0m\u001b[0mchunk_size\u001b[0m\u001b[0;34m,\u001b[0m \u001b[0mdecode_content\u001b[0m\u001b[0;34m=\u001b[0m\u001b[0;32mTrue\u001b[0m\u001b[0;34m)\u001b[0m\u001b[0;34m:\u001b[0m\u001b[0;34m\u001b[0m\u001b[0;34m\u001b[0m\u001b[0m\n\u001b[0m\u001b[1;32m    761\u001b[0m                         \u001b[0;32myield\u001b[0m \u001b[0mchunk\u001b[0m\u001b[0;34m\u001b[0m\u001b[0;34m\u001b[0m\u001b[0m\n\u001b[1;32m    762\u001b[0m                 \u001b[0;32mexcept\u001b[0m \u001b[0mProtocolError\u001b[0m \u001b[0;32mas\u001b[0m \u001b[0me\u001b[0m\u001b[0;34m:\u001b[0m\u001b[0;34m\u001b[0m\u001b[0;34m\u001b[0m\u001b[0m\n",
            "\u001b[0;32m/usr/local/lib/python3.10/dist-packages/urllib3/response.py\u001b[0m in \u001b[0;36mstream\u001b[0;34m(self, amt, decode_content)\u001b[0m\n\u001b[1;32m    626\u001b[0m         \u001b[0;32melse\u001b[0m\u001b[0;34m:\u001b[0m\u001b[0;34m\u001b[0m\u001b[0;34m\u001b[0m\u001b[0m\n\u001b[1;32m    627\u001b[0m             \u001b[0;32mwhile\u001b[0m \u001b[0;32mnot\u001b[0m \u001b[0mis_fp_closed\u001b[0m\u001b[0;34m(\u001b[0m\u001b[0mself\u001b[0m\u001b[0;34m.\u001b[0m\u001b[0m_fp\u001b[0m\u001b[0;34m)\u001b[0m\u001b[0;34m:\u001b[0m\u001b[0;34m\u001b[0m\u001b[0;34m\u001b[0m\u001b[0m\n\u001b[0;32m--> 628\u001b[0;31m                 \u001b[0mdata\u001b[0m \u001b[0;34m=\u001b[0m \u001b[0mself\u001b[0m\u001b[0;34m.\u001b[0m\u001b[0mread\u001b[0m\u001b[0;34m(\u001b[0m\u001b[0mamt\u001b[0m\u001b[0;34m=\u001b[0m\u001b[0mamt\u001b[0m\u001b[0;34m,\u001b[0m \u001b[0mdecode_content\u001b[0m\u001b[0;34m=\u001b[0m\u001b[0mdecode_content\u001b[0m\u001b[0;34m)\u001b[0m\u001b[0;34m\u001b[0m\u001b[0;34m\u001b[0m\u001b[0m\n\u001b[0m\u001b[1;32m    629\u001b[0m \u001b[0;34m\u001b[0m\u001b[0m\n\u001b[1;32m    630\u001b[0m                 \u001b[0;32mif\u001b[0m \u001b[0mdata\u001b[0m\u001b[0;34m:\u001b[0m\u001b[0;34m\u001b[0m\u001b[0;34m\u001b[0m\u001b[0m\n",
            "\u001b[0;32m/usr/local/lib/python3.10/dist-packages/urllib3/response.py\u001b[0m in \u001b[0;36mread\u001b[0;34m(self, amt, decode_content, cache_content)\u001b[0m\n\u001b[1;32m    565\u001b[0m \u001b[0;34m\u001b[0m\u001b[0m\n\u001b[1;32m    566\u001b[0m         \u001b[0;32mwith\u001b[0m \u001b[0mself\u001b[0m\u001b[0;34m.\u001b[0m\u001b[0m_error_catcher\u001b[0m\u001b[0;34m(\u001b[0m\u001b[0;34m)\u001b[0m\u001b[0;34m:\u001b[0m\u001b[0;34m\u001b[0m\u001b[0;34m\u001b[0m\u001b[0m\n\u001b[0;32m--> 567\u001b[0;31m             \u001b[0mdata\u001b[0m \u001b[0;34m=\u001b[0m \u001b[0mself\u001b[0m\u001b[0;34m.\u001b[0m\u001b[0m_fp_read\u001b[0m\u001b[0;34m(\u001b[0m\u001b[0mamt\u001b[0m\u001b[0;34m)\u001b[0m \u001b[0;32mif\u001b[0m \u001b[0;32mnot\u001b[0m \u001b[0mfp_closed\u001b[0m \u001b[0;32melse\u001b[0m \u001b[0;34mb\"\"\u001b[0m\u001b[0;34m\u001b[0m\u001b[0;34m\u001b[0m\u001b[0m\n\u001b[0m\u001b[1;32m    568\u001b[0m             \u001b[0;32mif\u001b[0m \u001b[0mamt\u001b[0m \u001b[0;32mis\u001b[0m \u001b[0;32mNone\u001b[0m\u001b[0;34m:\u001b[0m\u001b[0;34m\u001b[0m\u001b[0;34m\u001b[0m\u001b[0m\n\u001b[1;32m    569\u001b[0m                 \u001b[0mflush_decoder\u001b[0m \u001b[0;34m=\u001b[0m \u001b[0;32mTrue\u001b[0m\u001b[0;34m\u001b[0m\u001b[0;34m\u001b[0m\u001b[0m\n",
            "\u001b[0;32m/usr/local/lib/python3.10/dist-packages/urllib3/response.py\u001b[0m in \u001b[0;36m_fp_read\u001b[0;34m(self, amt)\u001b[0m\n\u001b[1;32m    531\u001b[0m         \u001b[0;32melse\u001b[0m\u001b[0;34m:\u001b[0m\u001b[0;34m\u001b[0m\u001b[0;34m\u001b[0m\u001b[0m\n\u001b[1;32m    532\u001b[0m             \u001b[0;31m# StringIO doesn't like amt=None\u001b[0m\u001b[0;34m\u001b[0m\u001b[0;34m\u001b[0m\u001b[0m\n\u001b[0;32m--> 533\u001b[0;31m             \u001b[0;32mreturn\u001b[0m \u001b[0mself\u001b[0m\u001b[0;34m.\u001b[0m\u001b[0m_fp\u001b[0m\u001b[0;34m.\u001b[0m\u001b[0mread\u001b[0m\u001b[0;34m(\u001b[0m\u001b[0mamt\u001b[0m\u001b[0;34m)\u001b[0m \u001b[0;32mif\u001b[0m \u001b[0mamt\u001b[0m \u001b[0;32mis\u001b[0m \u001b[0;32mnot\u001b[0m \u001b[0;32mNone\u001b[0m \u001b[0;32melse\u001b[0m \u001b[0mself\u001b[0m\u001b[0;34m.\u001b[0m\u001b[0m_fp\u001b[0m\u001b[0;34m.\u001b[0m\u001b[0mread\u001b[0m\u001b[0;34m(\u001b[0m\u001b[0;34m)\u001b[0m\u001b[0;34m\u001b[0m\u001b[0;34m\u001b[0m\u001b[0m\n\u001b[0m\u001b[1;32m    534\u001b[0m \u001b[0;34m\u001b[0m\u001b[0m\n\u001b[1;32m    535\u001b[0m     \u001b[0;32mdef\u001b[0m \u001b[0mread\u001b[0m\u001b[0;34m(\u001b[0m\u001b[0mself\u001b[0m\u001b[0;34m,\u001b[0m \u001b[0mamt\u001b[0m\u001b[0;34m=\u001b[0m\u001b[0;32mNone\u001b[0m\u001b[0;34m,\u001b[0m \u001b[0mdecode_content\u001b[0m\u001b[0;34m=\u001b[0m\u001b[0;32mNone\u001b[0m\u001b[0;34m,\u001b[0m \u001b[0mcache_content\u001b[0m\u001b[0;34m=\u001b[0m\u001b[0;32mFalse\u001b[0m\u001b[0;34m)\u001b[0m\u001b[0;34m:\u001b[0m\u001b[0;34m\u001b[0m\u001b[0;34m\u001b[0m\u001b[0m\n",
            "\u001b[0;32m/usr/lib/python3.10/http/client.py\u001b[0m in \u001b[0;36mread\u001b[0;34m(self, amt)\u001b[0m\n\u001b[1;32m    464\u001b[0m                 \u001b[0;31m# clip the read to the \"end of response\"\u001b[0m\u001b[0;34m\u001b[0m\u001b[0;34m\u001b[0m\u001b[0m\n\u001b[1;32m    465\u001b[0m                 \u001b[0mamt\u001b[0m \u001b[0;34m=\u001b[0m \u001b[0mself\u001b[0m\u001b[0;34m.\u001b[0m\u001b[0mlength\u001b[0m\u001b[0;34m\u001b[0m\u001b[0;34m\u001b[0m\u001b[0m\n\u001b[0;32m--> 466\u001b[0;31m             \u001b[0ms\u001b[0m \u001b[0;34m=\u001b[0m \u001b[0mself\u001b[0m\u001b[0;34m.\u001b[0m\u001b[0mfp\u001b[0m\u001b[0;34m.\u001b[0m\u001b[0mread\u001b[0m\u001b[0;34m(\u001b[0m\u001b[0mamt\u001b[0m\u001b[0;34m)\u001b[0m\u001b[0;34m\u001b[0m\u001b[0;34m\u001b[0m\u001b[0m\n\u001b[0m\u001b[1;32m    467\u001b[0m             \u001b[0;32mif\u001b[0m \u001b[0;32mnot\u001b[0m \u001b[0ms\u001b[0m \u001b[0;32mand\u001b[0m \u001b[0mamt\u001b[0m\u001b[0;34m:\u001b[0m\u001b[0;34m\u001b[0m\u001b[0;34m\u001b[0m\u001b[0m\n\u001b[1;32m    468\u001b[0m                 \u001b[0;31m# Ideally, we would raise IncompleteRead if the content-length\u001b[0m\u001b[0;34m\u001b[0m\u001b[0;34m\u001b[0m\u001b[0m\n",
            "\u001b[0;32m/usr/lib/python3.10/socket.py\u001b[0m in \u001b[0;36mreadinto\u001b[0;34m(self, b)\u001b[0m\n\u001b[1;32m    703\u001b[0m         \u001b[0;32mwhile\u001b[0m \u001b[0;32mTrue\u001b[0m\u001b[0;34m:\u001b[0m\u001b[0;34m\u001b[0m\u001b[0;34m\u001b[0m\u001b[0m\n\u001b[1;32m    704\u001b[0m             \u001b[0;32mtry\u001b[0m\u001b[0;34m:\u001b[0m\u001b[0;34m\u001b[0m\u001b[0;34m\u001b[0m\u001b[0m\n\u001b[0;32m--> 705\u001b[0;31m                 \u001b[0;32mreturn\u001b[0m \u001b[0mself\u001b[0m\u001b[0;34m.\u001b[0m\u001b[0m_sock\u001b[0m\u001b[0;34m.\u001b[0m\u001b[0mrecv_into\u001b[0m\u001b[0;34m(\u001b[0m\u001b[0mb\u001b[0m\u001b[0;34m)\u001b[0m\u001b[0;34m\u001b[0m\u001b[0;34m\u001b[0m\u001b[0m\n\u001b[0m\u001b[1;32m    706\u001b[0m             \u001b[0;32mexcept\u001b[0m \u001b[0mtimeout\u001b[0m\u001b[0;34m:\u001b[0m\u001b[0;34m\u001b[0m\u001b[0;34m\u001b[0m\u001b[0m\n\u001b[1;32m    707\u001b[0m                 \u001b[0mself\u001b[0m\u001b[0;34m.\u001b[0m\u001b[0m_timeout_occurred\u001b[0m \u001b[0;34m=\u001b[0m \u001b[0;32mTrue\u001b[0m\u001b[0;34m\u001b[0m\u001b[0;34m\u001b[0m\u001b[0m\n",
            "\u001b[0;32m/usr/lib/python3.10/ssl.py\u001b[0m in \u001b[0;36mrecv_into\u001b[0;34m(self, buffer, nbytes, flags)\u001b[0m\n\u001b[1;32m   1272\u001b[0m                   \u001b[0;34m\"non-zero flags not allowed in calls to recv_into() on %s\"\u001b[0m \u001b[0;34m%\u001b[0m\u001b[0;34m\u001b[0m\u001b[0;34m\u001b[0m\u001b[0m\n\u001b[1;32m   1273\u001b[0m                   self.__class__)\n\u001b[0;32m-> 1274\u001b[0;31m             \u001b[0;32mreturn\u001b[0m \u001b[0mself\u001b[0m\u001b[0;34m.\u001b[0m\u001b[0mread\u001b[0m\u001b[0;34m(\u001b[0m\u001b[0mnbytes\u001b[0m\u001b[0;34m,\u001b[0m \u001b[0mbuffer\u001b[0m\u001b[0;34m)\u001b[0m\u001b[0;34m\u001b[0m\u001b[0;34m\u001b[0m\u001b[0m\n\u001b[0m\u001b[1;32m   1275\u001b[0m         \u001b[0;32melse\u001b[0m\u001b[0;34m:\u001b[0m\u001b[0;34m\u001b[0m\u001b[0;34m\u001b[0m\u001b[0m\n\u001b[1;32m   1276\u001b[0m             \u001b[0;32mreturn\u001b[0m \u001b[0msuper\u001b[0m\u001b[0;34m(\u001b[0m\u001b[0;34m)\u001b[0m\u001b[0;34m.\u001b[0m\u001b[0mrecv_into\u001b[0m\u001b[0;34m(\u001b[0m\u001b[0mbuffer\u001b[0m\u001b[0;34m,\u001b[0m \u001b[0mnbytes\u001b[0m\u001b[0;34m,\u001b[0m \u001b[0mflags\u001b[0m\u001b[0;34m)\u001b[0m\u001b[0;34m\u001b[0m\u001b[0;34m\u001b[0m\u001b[0m\n",
            "\u001b[0;32m/usr/lib/python3.10/ssl.py\u001b[0m in \u001b[0;36mread\u001b[0;34m(self, len, buffer)\u001b[0m\n\u001b[1;32m   1128\u001b[0m         \u001b[0;32mtry\u001b[0m\u001b[0;34m:\u001b[0m\u001b[0;34m\u001b[0m\u001b[0;34m\u001b[0m\u001b[0m\n\u001b[1;32m   1129\u001b[0m             \u001b[0;32mif\u001b[0m \u001b[0mbuffer\u001b[0m \u001b[0;32mis\u001b[0m \u001b[0;32mnot\u001b[0m \u001b[0;32mNone\u001b[0m\u001b[0;34m:\u001b[0m\u001b[0;34m\u001b[0m\u001b[0;34m\u001b[0m\u001b[0m\n\u001b[0;32m-> 1130\u001b[0;31m                 \u001b[0;32mreturn\u001b[0m \u001b[0mself\u001b[0m\u001b[0;34m.\u001b[0m\u001b[0m_sslobj\u001b[0m\u001b[0;34m.\u001b[0m\u001b[0mread\u001b[0m\u001b[0;34m(\u001b[0m\u001b[0mlen\u001b[0m\u001b[0;34m,\u001b[0m \u001b[0mbuffer\u001b[0m\u001b[0;34m)\u001b[0m\u001b[0;34m\u001b[0m\u001b[0;34m\u001b[0m\u001b[0m\n\u001b[0m\u001b[1;32m   1131\u001b[0m             \u001b[0;32melse\u001b[0m\u001b[0;34m:\u001b[0m\u001b[0;34m\u001b[0m\u001b[0;34m\u001b[0m\u001b[0m\n\u001b[1;32m   1132\u001b[0m                 \u001b[0;32mreturn\u001b[0m \u001b[0mself\u001b[0m\u001b[0;34m.\u001b[0m\u001b[0m_sslobj\u001b[0m\u001b[0;34m.\u001b[0m\u001b[0mread\u001b[0m\u001b[0;34m(\u001b[0m\u001b[0mlen\u001b[0m\u001b[0;34m)\u001b[0m\u001b[0;34m\u001b[0m\u001b[0;34m\u001b[0m\u001b[0m\n",
            "\u001b[0;31mKeyboardInterrupt\u001b[0m: "
          ]
        }
      ]
    },
    {
      "cell_type": "code",
      "source": [
        "!zip -r /content/folder3.zip /content/pdf_files3"
      ],
      "metadata": {
        "colab": {
          "base_uri": "https://localhost:8080/"
        },
        "id": "K54ThOh5ZyF3",
        "outputId": "8192a786-f9fc-413c-a522-2daf875bb1cf"
      },
      "execution_count": 8,
      "outputs": [
        {
          "output_type": "stream",
          "name": "stdout",
          "text": [
            "  adding: content/pdf_files3/ (stored 0%)\n",
            "  adding: content/pdf_files3/tap-postpaid.pdf (deflated 20%)\n",
            "  adding: content/pdf_files3/bkash-postpaid.pdf (deflated 24%)\n",
            "  adding: content/pdf_files3/required_documents_for_new_connection.pdf (deflated 9%)\n",
            "  adding: content/pdf_files3/visa-master-amex-card-postpaid.pdf (deflated 15%)\n",
            "  adding: content/pdf_files3/rocket-postpaid.pdf (deflated 19%)\n",
            "  adding: content/pdf_files3/gpay-postpaid.pdf (deflated 24%)\n",
            "  adding: content/pdf_files3/telecash-postpaid.pdf (deflated 21%)\n",
            "  adding: content/pdf_files3/2021-06-23-10-57-4d4e8a61e114981bbee12dc53ee10683.pdf (deflated 12%)\n",
            "  adding: content/pdf_files3/nagad-postpaid.pdf (deflated 16%)\n",
            "  adding: content/pdf_files3/robicash-postpaid.pdf (deflated 27%)\n"
          ]
        }
      ]
    },
    {
      "cell_type": "code",
      "source": [],
      "metadata": {
        "id": "ewUk9JhGFp8b"
      },
      "execution_count": null,
      "outputs": []
    }
  ]
}